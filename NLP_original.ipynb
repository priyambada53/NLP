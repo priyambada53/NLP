{
 "cells": [
  {
   "cell_type": "markdown",
   "id": "f59d1805",
   "metadata": {},
   "source": [
    "**Import the Necessary Dependencies**"
   ]
  },
  {
   "cell_type": "code",
   "execution_count": 1,
   "id": "3d526d59",
   "metadata": {},
   "outputs": [],
   "source": [
    "# utilities\n",
    "import re\n",
    "import numpy as np\n",
    "import pandas as pd\n",
    "# plotting\n",
    "import seaborn as sns\n",
    "import matplotlib.pyplot as plt\n",
    "# nltk\n",
    "from nltk.stem import WordNetLemmatizer\n",
    "# sklearn\n",
    "from sklearn.svm import LinearSVC\n",
    "from sklearn.naive_bayes import BernoulliNB\n",
    "from sklearn.linear_model import LogisticRegression\n",
    "from sklearn.model_selection import train_test_split\n",
    "from sklearn.feature_extraction.text import TfidfVectorizer\n",
    "from sklearn.metrics import confusion_matrix, classification_report"
   ]
  },
  {
   "cell_type": "markdown",
   "id": "c764ee20",
   "metadata": {},
   "source": [
    "**Read and Load the Dataset**"
   ]
  },
  {
   "cell_type": "code",
   "execution_count": 2,
   "id": "4a30dc01",
   "metadata": {},
   "outputs": [],
   "source": [
    "tweet_df = pd.read_csv(r'D:\\MACHINE LEARNING\\Mentorship program\\NLP Projects\\NLP_Project_first\\tweet_data.csv')"
   ]
  },
  {
   "cell_type": "markdown",
   "id": "cf33ba8e",
   "metadata": {},
   "source": [
    "**Exploratory Data Analysis**"
   ]
  },
  {
   "cell_type": "code",
   "execution_count": 3,
   "id": "461a91c1",
   "metadata": {},
   "outputs": [
    {
     "data": {
      "text/html": [
       "<div>\n",
       "<style scoped>\n",
       "    .dataframe tbody tr th:only-of-type {\n",
       "        vertical-align: middle;\n",
       "    }\n",
       "\n",
       "    .dataframe tbody tr th {\n",
       "        vertical-align: top;\n",
       "    }\n",
       "\n",
       "    .dataframe thead th {\n",
       "        text-align: right;\n",
       "    }\n",
       "</style>\n",
       "<table border=\"1\" class=\"dataframe\">\n",
       "  <thead>\n",
       "    <tr style=\"text-align: right;\">\n",
       "      <th></th>\n",
       "      <th>tweetID</th>\n",
       "      <th>crDate</th>\n",
       "      <th>edInput</th>\n",
       "      <th>editor</th>\n",
       "      <th>engages</th>\n",
       "      <th>isApproved</th>\n",
       "      <th>isEdNeed</th>\n",
       "      <th>isRT</th>\n",
       "      <th>likes</th>\n",
       "      <th>photoUrl</th>\n",
       "      <th>retweets</th>\n",
       "      <th>rtUsID</th>\n",
       "      <th>text</th>\n",
       "      <th>topicName</th>\n",
       "      <th>usFlwrs</th>\n",
       "      <th>usID</th>\n",
       "      <th>usName</th>\n",
       "      <th>videoUrl</th>\n",
       "    </tr>\n",
       "  </thead>\n",
       "  <tbody>\n",
       "    <tr>\n",
       "      <th>0</th>\n",
       "      <td>1070867471245164544</td>\n",
       "      <td>2018-12-07 02:27:55</td>\n",
       "      <td>-1</td>\n",
       "      <td>-1</td>\n",
       "      <td>98</td>\n",
       "      <td>False</td>\n",
       "      <td>True</td>\n",
       "      <td>False</td>\n",
       "      <td>64</td>\n",
       "      <td>https://pbs.twimg.com/media/Dtx8SiIWkAImVsb.jpg</td>\n",
       "      <td>34</td>\n",
       "      <td>-1</td>\n",
       "      <td>The immediate impulse for an alliance of the E...</td>\n",
       "      <td>Business</td>\n",
       "      <td>23464532</td>\n",
       "      <td>5988062</td>\n",
       "      <td>The Economist</td>\n",
       "      <td>NaN</td>\n",
       "    </tr>\n",
       "    <tr>\n",
       "      <th>1</th>\n",
       "      <td>1070868017888837633</td>\n",
       "      <td>2018-12-07 02:30:05</td>\n",
       "      <td>-1</td>\n",
       "      <td>-1</td>\n",
       "      <td>13</td>\n",
       "      <td>False</td>\n",
       "      <td>True</td>\n",
       "      <td>False</td>\n",
       "      <td>10</td>\n",
       "      <td>https://pbs.twimg.com/media/Dtx8yTyW4AEciqP.jpg</td>\n",
       "      <td>3</td>\n",
       "      <td>-1</td>\n",
       "      <td>America's economy is flashing some warning sig...</td>\n",
       "      <td>Business</td>\n",
       "      <td>1732809</td>\n",
       "      <td>16184358</td>\n",
       "      <td>CNN Business</td>\n",
       "      <td>NaN</td>\n",
       "    </tr>\n",
       "    <tr>\n",
       "      <th>2</th>\n",
       "      <td>1070868012864028673</td>\n",
       "      <td>2018-12-07 02:30:04</td>\n",
       "      <td>-1</td>\n",
       "      <td>-1</td>\n",
       "      <td>12</td>\n",
       "      <td>False</td>\n",
       "      <td>True</td>\n",
       "      <td>False</td>\n",
       "      <td>8</td>\n",
       "      <td>NaN</td>\n",
       "      <td>4</td>\n",
       "      <td>-1</td>\n",
       "      <td>Lyft files for what is expected to be one of t...</td>\n",
       "      <td>Business</td>\n",
       "      <td>2253989</td>\n",
       "      <td>25053299</td>\n",
       "      <td>FORTUNE</td>\n",
       "      <td>NaN</td>\n",
       "    </tr>\n",
       "    <tr>\n",
       "      <th>3</th>\n",
       "      <td>1070867995239555075</td>\n",
       "      <td>2018-12-07 02:30:00</td>\n",
       "      <td>-1</td>\n",
       "      <td>-1</td>\n",
       "      <td>5</td>\n",
       "      <td>False</td>\n",
       "      <td>True</td>\n",
       "      <td>False</td>\n",
       "      <td>4</td>\n",
       "      <td>NaN</td>\n",
       "      <td>1</td>\n",
       "      <td>-1</td>\n",
       "      <td>Exporters still waiting to get Rs 6,000 crore ...</td>\n",
       "      <td>Business</td>\n",
       "      <td>1704056</td>\n",
       "      <td>43855487</td>\n",
       "      <td>Business Standard</td>\n",
       "      <td>NaN</td>\n",
       "    </tr>\n",
       "    <tr>\n",
       "      <th>4</th>\n",
       "      <td>1070867995205885952</td>\n",
       "      <td>2018-12-07 02:30:00</td>\n",
       "      <td>-1</td>\n",
       "      <td>-1</td>\n",
       "      <td>5</td>\n",
       "      <td>False</td>\n",
       "      <td>True</td>\n",
       "      <td>False</td>\n",
       "      <td>2</td>\n",
       "      <td>NaN</td>\n",
       "      <td>3</td>\n",
       "      <td>-1</td>\n",
       "      <td>Ride-hailing firm Lyft races to leave Uber beh...</td>\n",
       "      <td>Business</td>\n",
       "      <td>1997662</td>\n",
       "      <td>15110357</td>\n",
       "      <td>Reuters Business</td>\n",
       "      <td>https://video.twimg.com/amplify_video/10708116...</td>\n",
       "    </tr>\n",
       "  </tbody>\n",
       "</table>\n",
       "</div>"
      ],
      "text/plain": [
       "               tweetID               crDate  edInput  editor  engages  \\\n",
       "0  1070867471245164544  2018-12-07 02:27:55       -1      -1       98   \n",
       "1  1070868017888837633  2018-12-07 02:30:05       -1      -1       13   \n",
       "2  1070868012864028673  2018-12-07 02:30:04       -1      -1       12   \n",
       "3  1070867995239555075  2018-12-07 02:30:00       -1      -1        5   \n",
       "4  1070867995205885952  2018-12-07 02:30:00       -1      -1        5   \n",
       "\n",
       "   isApproved  isEdNeed   isRT  likes  \\\n",
       "0       False      True  False     64   \n",
       "1       False      True  False     10   \n",
       "2       False      True  False      8   \n",
       "3       False      True  False      4   \n",
       "4       False      True  False      2   \n",
       "\n",
       "                                          photoUrl  retweets  rtUsID  \\\n",
       "0  https://pbs.twimg.com/media/Dtx8SiIWkAImVsb.jpg        34      -1   \n",
       "1  https://pbs.twimg.com/media/Dtx8yTyW4AEciqP.jpg         3      -1   \n",
       "2                                              NaN         4      -1   \n",
       "3                                              NaN         1      -1   \n",
       "4                                              NaN         3      -1   \n",
       "\n",
       "                                                text topicName   usFlwrs  \\\n",
       "0  The immediate impulse for an alliance of the E...  Business  23464532   \n",
       "1  America's economy is flashing some warning sig...  Business   1732809   \n",
       "2  Lyft files for what is expected to be one of t...  Business   2253989   \n",
       "3  Exporters still waiting to get Rs 6,000 crore ...  Business   1704056   \n",
       "4  Ride-hailing firm Lyft races to leave Uber beh...  Business   1997662   \n",
       "\n",
       "       usID             usName  \\\n",
       "0   5988062      The Economist   \n",
       "1  16184358       CNN Business   \n",
       "2  25053299            FORTUNE   \n",
       "3  43855487  Business Standard   \n",
       "4  15110357   Reuters Business   \n",
       "\n",
       "                                            videoUrl  \n",
       "0                                                NaN  \n",
       "1                                                NaN  \n",
       "2                                                NaN  \n",
       "3                                                NaN  \n",
       "4  https://video.twimg.com/amplify_video/10708116...  "
      ]
     },
     "execution_count": 3,
     "metadata": {},
     "output_type": "execute_result"
    }
   ],
   "source": [
    "tweet_df.head()"
   ]
  },
  {
   "cell_type": "code",
   "execution_count": 4,
   "id": "e749fddf",
   "metadata": {},
   "outputs": [
    {
     "data": {
      "text/plain": [
       "Business                    164602\n",
       "News                        131973\n",
       "Motivational                 84750\n",
       "Technology                   47679\n",
       "Design & Architecture        44987\n",
       "Cryptocurrency               38623\n",
       "Art                          36697\n",
       "Interesting                  28615\n",
       "Animal                       28202\n",
       "Memes                        26349\n",
       "Nature                       25021\n",
       "Photography                  23638\n",
       "DIY & Craft                  22392\n",
       "Space                        14226\n",
       "Funny                        13654\n",
       "Travel                       13215\n",
       "Random                       11825\n",
       "Editorial Pics               11026\n",
       "Flowers                       9450\n",
       "Mindfulness                   2779\n",
       "Fitness                       2454\n",
       "Nanotech                       792\n",
       "World Leaders                  663\n",
       "Psychology                     544\n",
       "US News                        279\n",
       "science                        244\n",
       "Stocks                         188\n",
       "Humor                          154\n",
       "Spirituality                   150\n",
       "Entrepreneurship               148\n",
       "Science                        141\n",
       "Medical                        100\n",
       "Digital Media & Internet        94\n",
       "Startup                         87\n",
       "Biotech                         77\n",
       "Personal Development            38\n",
       "Informative                     24\n",
       "Love                            12\n",
       "Journalists                     11\n",
       "Fashion                         11\n",
       "Basketball                       1\n",
       "Poem                             1\n",
       "Name: topicName, dtype: int64"
      ]
     },
     "execution_count": 4,
     "metadata": {},
     "output_type": "execute_result"
    }
   ],
   "source": [
    "tweet_df['topicName'].value_counts()"
   ]
  },
  {
   "cell_type": "code",
   "execution_count": 5,
   "id": "9b3821b0",
   "metadata": {},
   "outputs": [
    {
     "data": {
      "text/plain": [
       "Index(['tweetID', 'crDate', 'edInput', 'editor', 'engages', 'isApproved',\n",
       "       'isEdNeed', 'isRT', 'likes', 'photoUrl', 'retweets', 'rtUsID', 'text',\n",
       "       'topicName', 'usFlwrs', 'usID', 'usName', 'videoUrl'],\n",
       "      dtype='object')"
      ]
     },
     "execution_count": 5,
     "metadata": {},
     "output_type": "execute_result"
    }
   ],
   "source": [
    "tweet_df=tweet_df[tweet_df['topicName']=='Technology']\n",
    "tweet_df.columns"
   ]
  },
  {
   "cell_type": "code",
   "execution_count": 6,
   "id": "e73c2126",
   "metadata": {},
   "outputs": [],
   "source": [
    "tweet_df=tweet_df[['text','edInput']]"
   ]
  },
  {
   "cell_type": "code",
   "execution_count": 7,
   "id": "c74639ba",
   "metadata": {},
   "outputs": [
    {
     "data": {
      "text/plain": [
       "-1    22235\n",
       " 1    14652\n",
       " 2     4965\n",
       " 4     4761\n",
       " 3     1066\n",
       "Name: edInput, dtype: int64"
      ]
     },
     "execution_count": 7,
     "metadata": {},
     "output_type": "execute_result"
    }
   ],
   "source": [
    "tweet_df['edInput'].value_counts()"
   ]
  },
  {
   "cell_type": "code",
   "execution_count": 8,
   "id": "f42f7215",
   "metadata": {},
   "outputs": [],
   "source": [
    "tweet_df=tweet_df[(tweet_df['edInput'] != -1) & (tweet_df['edInput'] != 3) & (tweet_df['edInput'] != 4)]"
   ]
  },
  {
   "cell_type": "code",
   "execution_count": 9,
   "id": "3d7ba4e7",
   "metadata": {},
   "outputs": [
    {
     "data": {
      "text/html": [
       "<div>\n",
       "<style scoped>\n",
       "    .dataframe tbody tr th:only-of-type {\n",
       "        vertical-align: middle;\n",
       "    }\n",
       "\n",
       "    .dataframe tbody tr th {\n",
       "        vertical-align: top;\n",
       "    }\n",
       "\n",
       "    .dataframe thead th {\n",
       "        text-align: right;\n",
       "    }\n",
       "</style>\n",
       "<table border=\"1\" class=\"dataframe\">\n",
       "  <thead>\n",
       "    <tr style=\"text-align: right;\">\n",
       "      <th></th>\n",
       "      <th>text</th>\n",
       "      <th>edInput</th>\n",
       "    </tr>\n",
       "  </thead>\n",
       "  <tbody>\n",
       "    <tr>\n",
       "      <th>0</th>\n",
       "      <td>This paper Boeing 777 puts all other paper air...</td>\n",
       "      <td>1</td>\n",
       "    </tr>\n",
       "    <tr>\n",
       "      <th>1</th>\n",
       "      <td>This long-range wireless charging system charg...</td>\n",
       "      <td>1</td>\n",
       "    </tr>\n",
       "    <tr>\n",
       "      <th>2</th>\n",
       "      <td>Elon Musk has created and sold multiple compan...</td>\n",
       "      <td>1</td>\n",
       "    </tr>\n",
       "    <tr>\n",
       "      <th>3</th>\n",
       "      <td>Honda's $4.9 million private jet is an absolut...</td>\n",
       "      <td>1</td>\n",
       "    </tr>\n",
       "    <tr>\n",
       "      <th>4</th>\n",
       "      <td>The US Marines pieced together this temporary ...</td>\n",
       "      <td>1</td>\n",
       "    </tr>\n",
       "    <tr>\n",
       "      <th>...</th>\n",
       "      <td>...</td>\n",
       "      <td>...</td>\n",
       "    </tr>\n",
       "    <tr>\n",
       "      <th>19612</th>\n",
       "      <td>Tomorrow on @cheddar, my exclusive interview w...</td>\n",
       "      <td>2</td>\n",
       "    </tr>\n",
       "    <tr>\n",
       "      <th>19613</th>\n",
       "      <td>Netflix documentary The Great Hack turns the C...</td>\n",
       "      <td>2</td>\n",
       "    </tr>\n",
       "    <tr>\n",
       "      <th>19614</th>\n",
       "      <td>Hulu is developing a Hitchhiker’s Guide to the...</td>\n",
       "      <td>1</td>\n",
       "    </tr>\n",
       "    <tr>\n",
       "      <th>19615</th>\n",
       "      <td>This machine folds dumplings super fast. https...</td>\n",
       "      <td>1</td>\n",
       "    </tr>\n",
       "    <tr>\n",
       "      <th>19616</th>\n",
       "      <td>Heat records topple in Europe. Again. https://...</td>\n",
       "      <td>2</td>\n",
       "    </tr>\n",
       "  </tbody>\n",
       "</table>\n",
       "<p>19617 rows × 2 columns</p>\n",
       "</div>"
      ],
      "text/plain": [
       "                                                    text  edInput\n",
       "0      This paper Boeing 777 puts all other paper air...        1\n",
       "1      This long-range wireless charging system charg...        1\n",
       "2      Elon Musk has created and sold multiple compan...        1\n",
       "3      Honda's $4.9 million private jet is an absolut...        1\n",
       "4      The US Marines pieced together this temporary ...        1\n",
       "...                                                  ...      ...\n",
       "19612  Tomorrow on @cheddar, my exclusive interview w...        2\n",
       "19613  Netflix documentary The Great Hack turns the C...        2\n",
       "19614  Hulu is developing a Hitchhiker’s Guide to the...        1\n",
       "19615  This machine folds dumplings super fast. https...        1\n",
       "19616  Heat records topple in Europe. Again. https://...        2\n",
       "\n",
       "[19617 rows x 2 columns]"
      ]
     },
     "execution_count": 9,
     "metadata": {},
     "output_type": "execute_result"
    }
   ],
   "source": [
    "tweet_df.reset_index(drop=True)"
   ]
  },
  {
   "cell_type": "code",
   "execution_count": 10,
   "id": "2bdc7d0b",
   "metadata": {},
   "outputs": [
    {
     "name": "stdout",
     "output_type": "stream",
     "text": [
      "<class 'pandas.core.frame.DataFrame'>\n",
      "Int64Index: 19617 entries, 60071 to 785452\n",
      "Data columns (total 2 columns):\n",
      " #   Column   Non-Null Count  Dtype \n",
      "---  ------   --------------  ----- \n",
      " 0   text     19617 non-null  object\n",
      " 1   edInput  19617 non-null  int64 \n",
      "dtypes: int64(1), object(1)\n",
      "memory usage: 459.8+ KB\n"
     ]
    }
   ],
   "source": [
    "tweet_df.info()"
   ]
  },
  {
   "cell_type": "markdown",
   "id": "ff9e6414",
   "metadata": {},
   "source": [
    "**Checking for null values**"
   ]
  },
  {
   "cell_type": "code",
   "execution_count": 11,
   "id": "11c482f2",
   "metadata": {},
   "outputs": [
    {
     "data": {
      "text/plain": [
       "text       0\n",
       "edInput    0\n",
       "dtype: int64"
      ]
     },
     "execution_count": 11,
     "metadata": {},
     "output_type": "execute_result"
    }
   ],
   "source": [
    "# np.sum(tweet_df.isnull().any(axis=1))\n",
    "tweet_df.isnull().sum()"
   ]
  },
  {
   "cell_type": "markdown",
   "id": "46e3f66c",
   "metadata": {},
   "source": [
    "**Check unique target values**"
   ]
  },
  {
   "cell_type": "code",
   "execution_count": 12,
   "id": "26214ba9",
   "metadata": {},
   "outputs": [
    {
     "data": {
      "text/plain": [
       "array([1, 2], dtype=int64)"
      ]
     },
     "execution_count": 12,
     "metadata": {},
     "output_type": "execute_result"
    }
   ],
   "source": [
    "tweet_df['edInput'].unique()"
   ]
  },
  {
   "cell_type": "markdown",
   "id": "3e644fbc",
   "metadata": {},
   "source": [
    "**Check the number of target values**"
   ]
  },
  {
   "cell_type": "code",
   "execution_count": 13,
   "id": "26d183f0",
   "metadata": {},
   "outputs": [
    {
     "data": {
      "text/plain": [
       "2"
      ]
     },
     "execution_count": 13,
     "metadata": {},
     "output_type": "execute_result"
    }
   ],
   "source": [
    "tweet_df['edInput'].nunique()"
   ]
  },
  {
   "cell_type": "code",
   "execution_count": 14,
   "id": "ffa0a3fb",
   "metadata": {},
   "outputs": [],
   "source": [
    "tweet_df['edInput'] = tweet_df['edInput'].replace(2,0)"
   ]
  },
  {
   "cell_type": "markdown",
   "id": "9cafed73",
   "metadata": {},
   "source": [
    "**Data Visualization of Target Variables**"
   ]
  },
  {
   "cell_type": "code",
   "execution_count": 15,
   "id": "9b14d02c",
   "metadata": {},
   "outputs": [
    {
     "data": {
      "text/plain": [
       "1    0.746903\n",
       "0    0.253097\n",
       "Name: edInput, dtype: float64"
      ]
     },
     "execution_count": 15,
     "metadata": {},
     "output_type": "execute_result"
    }
   ],
   "source": [
    "tweet_df['edInput'].value_counts(normalize=True)"
   ]
  },
  {
   "cell_type": "code",
   "execution_count": 16,
   "id": "d05ff015",
   "metadata": {},
   "outputs": [
    {
     "data": {
      "image/png": "[encoded data removed]",
      "text/plain": [
       "<Figure size 640x480 with 1 Axes>"
      ]
     },
     "metadata": {},
     "output_type": "display_data"
    }
   ],
   "source": [
    "tweet_df['edInput'].value_counts(normalize=True).plot(kind='bar')\n",
    "plt.show()"
   ]
  },
  {
   "cell_type": "markdown",
   "id": "67674dd9",
   "metadata": {},
   "source": [
    "**Data Preprocessing**"
   ]
  },
  {
   "cell_type": "markdown",
   "id": "7ac4836f",
   "metadata": {},
   "source": [
    "In the above-given problem statement, before training the model, we performed various pre-processing steps on the dataset that mainly dealt with removing stopwords, removing special characters like emojis, hashtags, etc. The text document is then converted into lowercase for better generalization.\n",
    "Subsequently, the punctuations were cleaned and removed, thereby reducing the unnecessary noise from the dataset. After that, we also removed the repeating characters from the words along with removing the URLs as they do not have any significant importance.\n",
    "At last, we then performed Stemming(reducing the words to their derived stems) and Lemmatization(reducing the derived words to their root form, known as lemma) for better results."
   ]
  },
  {
   "cell_type": "markdown",
   "id": "8fa4017d",
   "metadata": {},
   "source": [
    "**Making statement text in lowercase**"
   ]
  },
  {
   "cell_type": "code",
   "execution_count": 17,
   "id": "690530e9",
   "metadata": {},
   "outputs": [
    {
     "data": {
      "text/plain": [
       "60071    this paper boeing 777 puts all other paper air...\n",
       "60462    this long-range wireless charging system charg...\n",
       "61260    elon musk has created and sold multiple compan...\n",
       "61996    honda's $4.9 million private jet is an absolut...\n",
       "64482    the us marines pieced together this temporary ...\n",
       "Name: text, dtype: object"
      ]
     },
     "execution_count": 17,
     "metadata": {},
     "output_type": "execute_result"
    }
   ],
   "source": [
    "tweet_df['text']=tweet_df['text'].str.lower()\n",
    "tweet_df['text'].head()"
   ]
  },
  {
   "cell_type": "markdown",
   "id": "2fed4cae",
   "metadata": {},
   "source": [
    "**Cleaning and removing punctuations**"
   ]
  },
  {
   "cell_type": "code",
   "execution_count": 18,
   "id": "ea5ae9e7",
   "metadata": {},
   "outputs": [
    {
     "data": {
      "text/plain": [
       "60071    this paper boeing 777 puts all other paper air...\n",
       "60462    this longrange wireless charging system charge...\n",
       "61260    elon musk has created and sold multiple compan...\n",
       "61996    hondas 49 million private jet is an absolute g...\n",
       "64482    the us marines pieced together this temporary ...\n",
       "Name: text, dtype: object"
      ]
     },
     "execution_count": 18,
     "metadata": {},
     "output_type": "execute_result"
    }
   ],
   "source": [
    "import string\n",
    "string.punctuation\n",
    "def remove_punctuation(text):\n",
    "    no_punct=[words for words in text if words not in string.punctuation]\n",
    "    words_wo_punct=''.join(no_punct)\n",
    "    return words_wo_punct\n",
    "tweet_df['text']=tweet_df['text'].apply(lambda x: remove_punctuation(x))\n",
    "tweet_df['text'].head()"
   ]
  },
  {
   "cell_type": "markdown",
   "id": "12817f3f",
   "metadata": {},
   "source": [
    "**Cleaning and removing URLs**"
   ]
  },
  {
   "cell_type": "code",
   "execution_count": 19,
   "id": "98ed7292",
   "metadata": {},
   "outputs": [],
   "source": [
    "tweet_df['text'] = tweet_df['text'].replace(r'http\\S+', '', regex=True).replace(r'www\\S+', '', regex=True)"
   ]
  },
  {
   "cell_type": "markdown",
   "id": "8ed86a71",
   "metadata": {},
   "source": [
    "**Cleaning and removing numeric numbers**"
   ]
  },
  {
   "cell_type": "code",
   "execution_count": 20,
   "id": "840bcc96",
   "metadata": {},
   "outputs": [
    {
     "data": {
      "text/plain": [
       "60071    this paper boeing  puts all other paper airpla...\n",
       "60462    this longrange wireless charging system charge...\n",
       "61260    elon musk has created and sold multiple compan...\n",
       "61996    hondas  million private jet is an absolute gam...\n",
       "64482    the us marines pieced together this temporary ...\n",
       "Name: text, dtype: object"
      ]
     },
     "execution_count": 20,
     "metadata": {},
     "output_type": "execute_result"
    }
   ],
   "source": [
    "def cleaning_numbers(data):\n",
    "    return re.sub('[0-9]+', '', data)\n",
    "tweet_df['text']  = tweet_df['text'] .apply(lambda x: cleaning_numbers(x))\n",
    "tweet_df['text'].head()"
   ]
  },
  {
   "cell_type": "markdown",
   "id": "2d3970d6",
   "metadata": {},
   "source": [
    "**Defining set containing all stopwords in English**"
   ]
  },
  {
   "cell_type": "code",
   "execution_count": 21,
   "id": "e0074c56",
   "metadata": {},
   "outputs": [],
   "source": [
    "stopwordlist = ['a', 'about', 'above', 'after', 'again', 'ain', 'all', 'am', 'an',\n",
    "             'and','any','are', 'as', 'at', 'be', 'because', 'been', 'before',\n",
    "             'being', 'below', 'between','both', 'by', 'can', 'd', 'did', 'do',\n",
    "             'does', 'doing', 'down', 'during', 'each','few', 'for', 'from',\n",
    "             'further', 'had', 'has', 'have', 'having', 'he', 'her', 'here',\n",
    "             'hers', 'herself', 'him', 'himself', 'his', 'how', 'i', 'if', 'in',\n",
    "             'into','is', 'it', 'its', 'itself', 'just', 'll', 'm', 'ma',\n",
    "             'me', 'more', 'most','my', 'myself', 'now', 'o', 'of', 'on', 'once',\n",
    "             'only', 'or', 'other', 'our', 'ours','ourselves', 'out', 'own', 're','s', 'same', 'she', \"shes\", 'should', \"shouldve\",'so', 'some', 'such',\n",
    "             't', 'than', 'that', \"thatll\", 'the', 'their', 'theirs', 'them',\n",
    "             'themselves', 'then', 'there', 'these', 'they', 'this', 'those',\n",
    "             'through', 'to', 'too','under', 'until', 'up', 've', 'very', 'was',\n",
    "             'we', 'were', 'what', 'when', 'where','which','while', 'who', 'whom',\n",
    "             'why', 'will', 'with', 'won', 'y', 'you', \"youd\",\"youll\", \"youre\",\n",
    "             \"youve\", 'your', 'yours', 'yourself', 'yourselves']"
   ]
  },
  {
   "cell_type": "markdown",
   "id": "46050dfd",
   "metadata": {},
   "source": [
    "**Cleaning and removing the above stop words list from the tweet text**"
   ]
  },
  {
   "cell_type": "code",
   "execution_count": 22,
   "id": "1b65c45d",
   "metadata": {},
   "outputs": [
    {
     "data": {
      "text/plain": [
       "60071              paper boeing puts paper airplanes shame\n",
       "60462    longrange wireless charging system charges dev...\n",
       "61260            elon musk created sold multiple companies\n",
       "61996      hondas million private jet absolute gamechanger\n",
       "64482    us marines pieced together temporary bridge li...\n",
       "Name: text, dtype: object"
      ]
     },
     "execution_count": 22,
     "metadata": {},
     "output_type": "execute_result"
    }
   ],
   "source": [
    "STOPWORDS = set(stopwordlist)\n",
    "def cleaning_stopwords(text):\n",
    "    return \" \".join([word for word in str(text).split() if word not in STOPWORDS])\n",
    "tweet_df['text'] = tweet_df['text'].apply(lambda text: cleaning_stopwords(text))\n",
    "tweet_df['text'].head()"
   ]
  },
  {
   "cell_type": "markdown",
   "id": "4758d15e",
   "metadata": {},
   "source": [
    "**Cleaning and removing repeating characters**"
   ]
  },
  {
   "cell_type": "code",
   "execution_count": 23,
   "id": "40fb654f",
   "metadata": {},
   "outputs": [
    {
     "data": {
      "text/plain": [
       "60071              paper boeing puts paper airplanes shame\n",
       "60462    longrange wireless charging system charges dev...\n",
       "61260            elon musk created sold multiple companies\n",
       "61996      hondas million private jet absolute gamechanger\n",
       "64482    us marines pieced together temporary bridge li...\n",
       "Name: text, dtype: object"
      ]
     },
     "execution_count": 23,
     "metadata": {},
     "output_type": "execute_result"
    }
   ],
   "source": [
    "def cleaning_repeating_char(text):\n",
    "    return re.sub(r'(.)1+', r'1', text)\n",
    "tweet_df['text'] = tweet_df['text'].apply(lambda x: cleaning_repeating_char(x))\n",
    "tweet_df['text'].head()"
   ]
  },
  {
   "cell_type": "markdown",
   "id": "1062f83d",
   "metadata": {},
   "source": [
    "**Getting tokenization of tweet text**"
   ]
  },
  {
   "cell_type": "code",
   "execution_count": 24,
   "id": "8973763f",
   "metadata": {},
   "outputs": [],
   "source": [
    "import nltk"
   ]
  },
  {
   "cell_type": "code",
   "execution_count": 25,
   "id": "db3209ae",
   "metadata": {},
   "outputs": [
    {
     "name": "stderr",
     "output_type": "stream",
     "text": [
      "[nltk_data] Downloading package punkt to\n",
      "[nltk_data]     C:\\Users\\Priyambada\\AppData\\Roaming\\nltk_data...\n",
      "[nltk_data]   Package punkt is already up-to-date!\n"
     ]
    },
    {
     "data": {
      "text/plain": [
       "True"
      ]
     },
     "execution_count": 25,
     "metadata": {},
     "output_type": "execute_result"
    }
   ],
   "source": [
    "nltk.download('punkt')"
   ]
  },
  {
   "cell_type": "code",
   "execution_count": 26,
   "id": "00ede7c0",
   "metadata": {},
   "outputs": [],
   "source": [
    "# from nltk.tokenize import word_tokenize\n",
    "# tweet_df['text'].apply(word_tokenize)\n",
    "# tweet_df['text'].iloc[0]"
   ]
  },
  {
   "cell_type": "code",
   "execution_count": 27,
   "id": "3db7c69a",
   "metadata": {},
   "outputs": [
    {
     "data": {
      "text/html": [
       "<div>\n",
       "<style scoped>\n",
       "    .dataframe tbody tr th:only-of-type {\n",
       "        vertical-align: middle;\n",
       "    }\n",
       "\n",
       "    .dataframe tbody tr th {\n",
       "        vertical-align: top;\n",
       "    }\n",
       "\n",
       "    .dataframe thead th {\n",
       "        text-align: right;\n",
       "    }\n",
       "</style>\n",
       "<table border=\"1\" class=\"dataframe\">\n",
       "  <thead>\n",
       "    <tr style=\"text-align: right;\">\n",
       "      <th></th>\n",
       "      <th>text</th>\n",
       "      <th>edInput</th>\n",
       "      <th>text_tokenize</th>\n",
       "    </tr>\n",
       "  </thead>\n",
       "  <tbody>\n",
       "    <tr>\n",
       "      <th>60071</th>\n",
       "      <td>paper boeing puts paper airplanes shame</td>\n",
       "      <td>1</td>\n",
       "      <td>[paper, boeing, puts, paper, airplanes, shame]</td>\n",
       "    </tr>\n",
       "    <tr>\n",
       "      <th>60462</th>\n",
       "      <td>longrange wireless charging system charges dev...</td>\n",
       "      <td>1</td>\n",
       "      <td>[longrange, wireless, charging, system, charge...</td>\n",
       "    </tr>\n",
       "    <tr>\n",
       "      <th>61260</th>\n",
       "      <td>elon musk created sold multiple companies</td>\n",
       "      <td>1</td>\n",
       "      <td>[elon, musk, created, sold, multiple, companies]</td>\n",
       "    </tr>\n",
       "    <tr>\n",
       "      <th>61996</th>\n",
       "      <td>hondas million private jet absolute gamechanger</td>\n",
       "      <td>1</td>\n",
       "      <td>[hondas, million, private, jet, absolute, game...</td>\n",
       "    </tr>\n",
       "    <tr>\n",
       "      <th>64482</th>\n",
       "      <td>us marines pieced together temporary bridge li...</td>\n",
       "      <td>1</td>\n",
       "      <td>[us, marines, pieced, together, temporary, bri...</td>\n",
       "    </tr>\n",
       "  </tbody>\n",
       "</table>\n",
       "</div>"
      ],
      "text/plain": [
       "                                                    text  edInput  \\\n",
       "60071            paper boeing puts paper airplanes shame        1   \n",
       "60462  longrange wireless charging system charges dev...        1   \n",
       "61260          elon musk created sold multiple companies        1   \n",
       "61996    hondas million private jet absolute gamechanger        1   \n",
       "64482  us marines pieced together temporary bridge li...        1   \n",
       "\n",
       "                                           text_tokenize  \n",
       "60071     [paper, boeing, puts, paper, airplanes, shame]  \n",
       "60462  [longrange, wireless, charging, system, charge...  \n",
       "61260   [elon, musk, created, sold, multiple, companies]  \n",
       "61996  [hondas, million, private, jet, absolute, game...  \n",
       "64482  [us, marines, pieced, together, temporary, bri...  "
      ]
     },
     "execution_count": 27,
     "metadata": {},
     "output_type": "execute_result"
    }
   ],
   "source": [
    "from nltk.tokenize import RegexpTokenizer \n",
    "tweet_df['text_tokenize']=tweet_df['text'].apply(lambda x: RegexpTokenizer(r'\\w+').tokenize(x))\n",
    "# tweet_df['text_tokenize']=tweet_df['text'].apply(lambda x: RegexpTokenizer(r'\\w+').tokenize(x))\n",
    "tweet_df.head()"
   ]
  },
  {
   "cell_type": "markdown",
   "id": "17f7207c",
   "metadata": {},
   "source": [
    "**Applying stemming**"
   ]
  },
  {
   "cell_type": "code",
   "execution_count": 28,
   "id": "f10f830b",
   "metadata": {},
   "outputs": [
    {
     "data": {
      "text/html": [
       "<div>\n",
       "<style scoped>\n",
       "    .dataframe tbody tr th:only-of-type {\n",
       "        vertical-align: middle;\n",
       "    }\n",
       "\n",
       "    .dataframe tbody tr th {\n",
       "        vertical-align: top;\n",
       "    }\n",
       "\n",
       "    .dataframe thead th {\n",
       "        text-align: right;\n",
       "    }\n",
       "</style>\n",
       "<table border=\"1\" class=\"dataframe\">\n",
       "  <thead>\n",
       "    <tr style=\"text-align: right;\">\n",
       "      <th></th>\n",
       "      <th>text</th>\n",
       "      <th>edInput</th>\n",
       "      <th>text_tokenize</th>\n",
       "      <th>text_stemmed</th>\n",
       "    </tr>\n",
       "  </thead>\n",
       "  <tbody>\n",
       "    <tr>\n",
       "      <th>60071</th>\n",
       "      <td>paper boeing puts paper airplanes shame</td>\n",
       "      <td>1</td>\n",
       "      <td>[paper, boeing, puts, paper, airplanes, shame]</td>\n",
       "      <td>[paper, boe, put, paper, airplan, shame]</td>\n",
       "    </tr>\n",
       "    <tr>\n",
       "      <th>60462</th>\n",
       "      <td>longrange wireless charging system charges dev...</td>\n",
       "      <td>1</td>\n",
       "      <td>[longrange, wireless, charging, system, charge...</td>\n",
       "      <td>[longrang, wireless, charg, system, charg, dev...</td>\n",
       "    </tr>\n",
       "    <tr>\n",
       "      <th>61260</th>\n",
       "      <td>elon musk created sold multiple companies</td>\n",
       "      <td>1</td>\n",
       "      <td>[elon, musk, created, sold, multiple, companies]</td>\n",
       "      <td>[elon, musk, creat, sold, multipl, compani]</td>\n",
       "    </tr>\n",
       "    <tr>\n",
       "      <th>61996</th>\n",
       "      <td>hondas million private jet absolute gamechanger</td>\n",
       "      <td>1</td>\n",
       "      <td>[hondas, million, private, jet, absolute, game...</td>\n",
       "      <td>[honda, million, privat, jet, absolut, gamechang]</td>\n",
       "    </tr>\n",
       "    <tr>\n",
       "      <th>64482</th>\n",
       "      <td>us marines pieced together temporary bridge li...</td>\n",
       "      <td>1</td>\n",
       "      <td>[us, marines, pieced, together, temporary, bri...</td>\n",
       "      <td>[us, marin, piec, togeth, temporari, bridg, li...</td>\n",
       "    </tr>\n",
       "  </tbody>\n",
       "</table>\n",
       "</div>"
      ],
      "text/plain": [
       "                                                    text  edInput  \\\n",
       "60071            paper boeing puts paper airplanes shame        1   \n",
       "60462  longrange wireless charging system charges dev...        1   \n",
       "61260          elon musk created sold multiple companies        1   \n",
       "61996    hondas million private jet absolute gamechanger        1   \n",
       "64482  us marines pieced together temporary bridge li...        1   \n",
       "\n",
       "                                           text_tokenize  \\\n",
       "60071     [paper, boeing, puts, paper, airplanes, shame]   \n",
       "60462  [longrange, wireless, charging, system, charge...   \n",
       "61260   [elon, musk, created, sold, multiple, companies]   \n",
       "61996  [hondas, million, private, jet, absolute, game...   \n",
       "64482  [us, marines, pieced, together, temporary, bri...   \n",
       "\n",
       "                                            text_stemmed  \n",
       "60071           [paper, boe, put, paper, airplan, shame]  \n",
       "60462  [longrang, wireless, charg, system, charg, dev...  \n",
       "61260        [elon, musk, creat, sold, multipl, compani]  \n",
       "61996  [honda, million, privat, jet, absolut, gamechang]  \n",
       "64482  [us, marin, piec, togeth, temporari, bridg, li...  "
      ]
     },
     "execution_count": 28,
     "metadata": {},
     "output_type": "execute_result"
    }
   ],
   "source": [
    "from nltk.stem.snowball import SnowballStemmer\n",
    "stemmer = SnowballStemmer(\"english\")\n",
    "tweet_df['text_stemmed'] = tweet_df['text_tokenize'].apply(lambda x: [stemmer.stem(y) for y in x])\n",
    "# tweet_df['text_stemmed'] = tweet_df['text_tokenize'].apply(lambda x: [stemmer.stem(y) for y in x])\n",
    "tweet_df.head()"
   ]
  },
  {
   "cell_type": "code",
   "execution_count": 29,
   "id": "e7db9a91",
   "metadata": {},
   "outputs": [
    {
     "name": "stderr",
     "output_type": "stream",
     "text": [
      "[nltk_data] Downloading package omw-1.4 to\n",
      "[nltk_data]     C:\\Users\\Priyambada\\AppData\\Roaming\\nltk_data...\n",
      "[nltk_data]   Package omw-1.4 is already up-to-date!\n"
     ]
    },
    {
     "data": {
      "text/plain": [
       "True"
      ]
     },
     "execution_count": 29,
     "metadata": {},
     "output_type": "execute_result"
    }
   ],
   "source": [
    "import nltk\n",
    "nltk.download('omw-1.4')"
   ]
  },
  {
   "cell_type": "markdown",
   "id": "66d7900e",
   "metadata": {},
   "source": [
    "**Applying lemmatizer**"
   ]
  },
  {
   "cell_type": "code",
   "execution_count": 30,
   "id": "ff028d24",
   "metadata": {},
   "outputs": [
    {
     "data": {
      "text/html": [
       "<div>\n",
       "<style scoped>\n",
       "    .dataframe tbody tr th:only-of-type {\n",
       "        vertical-align: middle;\n",
       "    }\n",
       "\n",
       "    .dataframe tbody tr th {\n",
       "        vertical-align: top;\n",
       "    }\n",
       "\n",
       "    .dataframe thead th {\n",
       "        text-align: right;\n",
       "    }\n",
       "</style>\n",
       "<table border=\"1\" class=\"dataframe\">\n",
       "  <thead>\n",
       "    <tr style=\"text-align: right;\">\n",
       "      <th></th>\n",
       "      <th>text</th>\n",
       "      <th>edInput</th>\n",
       "      <th>text_tokenize</th>\n",
       "      <th>text_stemmed</th>\n",
       "      <th>text_lemmatized</th>\n",
       "    </tr>\n",
       "  </thead>\n",
       "  <tbody>\n",
       "    <tr>\n",
       "      <th>60071</th>\n",
       "      <td>paper boeing puts paper airplanes shame</td>\n",
       "      <td>1</td>\n",
       "      <td>[paper, boeing, puts, paper, airplanes, shame]</td>\n",
       "      <td>[paper, boe, put, paper, airplan, shame]</td>\n",
       "      <td>paper boeing put paper airplane shame</td>\n",
       "    </tr>\n",
       "    <tr>\n",
       "      <th>60462</th>\n",
       "      <td>longrange wireless charging system charges dev...</td>\n",
       "      <td>1</td>\n",
       "      <td>[longrange, wireless, charging, system, charge...</td>\n",
       "      <td>[longrang, wireless, charg, system, charg, dev...</td>\n",
       "      <td>longrange wireless charging system charge devi...</td>\n",
       "    </tr>\n",
       "    <tr>\n",
       "      <th>61260</th>\n",
       "      <td>elon musk created sold multiple companies</td>\n",
       "      <td>1</td>\n",
       "      <td>[elon, musk, created, sold, multiple, companies]</td>\n",
       "      <td>[elon, musk, creat, sold, multipl, compani]</td>\n",
       "      <td>elon musk created sold multiple company</td>\n",
       "    </tr>\n",
       "    <tr>\n",
       "      <th>61996</th>\n",
       "      <td>hondas million private jet absolute gamechanger</td>\n",
       "      <td>1</td>\n",
       "      <td>[hondas, million, private, jet, absolute, game...</td>\n",
       "      <td>[honda, million, privat, jet, absolut, gamechang]</td>\n",
       "      <td>hondas million private jet absolute gamechanger</td>\n",
       "    </tr>\n",
       "    <tr>\n",
       "      <th>64482</th>\n",
       "      <td>us marines pieced together temporary bridge li...</td>\n",
       "      <td>1</td>\n",
       "      <td>[us, marines, pieced, together, temporary, bri...</td>\n",
       "      <td>[us, marin, piec, togeth, temporari, bridg, li...</td>\n",
       "      <td>u marine pieced together temporary bridge like...</td>\n",
       "    </tr>\n",
       "  </tbody>\n",
       "</table>\n",
       "</div>"
      ],
      "text/plain": [
       "                                                    text  edInput  \\\n",
       "60071            paper boeing puts paper airplanes shame        1   \n",
       "60462  longrange wireless charging system charges dev...        1   \n",
       "61260          elon musk created sold multiple companies        1   \n",
       "61996    hondas million private jet absolute gamechanger        1   \n",
       "64482  us marines pieced together temporary bridge li...        1   \n",
       "\n",
       "                                           text_tokenize  \\\n",
       "60071     [paper, boeing, puts, paper, airplanes, shame]   \n",
       "60462  [longrange, wireless, charging, system, charge...   \n",
       "61260   [elon, musk, created, sold, multiple, companies]   \n",
       "61996  [hondas, million, private, jet, absolute, game...   \n",
       "64482  [us, marines, pieced, together, temporary, bri...   \n",
       "\n",
       "                                            text_stemmed  \\\n",
       "60071           [paper, boe, put, paper, airplan, shame]   \n",
       "60462  [longrang, wireless, charg, system, charg, dev...   \n",
       "61260        [elon, musk, creat, sold, multipl, compani]   \n",
       "61996  [honda, million, privat, jet, absolut, gamechang]   \n",
       "64482  [us, marin, piec, togeth, temporari, bridg, li...   \n",
       "\n",
       "                                         text_lemmatized  \n",
       "60071              paper boeing put paper airplane shame  \n",
       "60462  longrange wireless charging system charge devi...  \n",
       "61260            elon musk created sold multiple company  \n",
       "61996    hondas million private jet absolute gamechanger  \n",
       "64482  u marine pieced together temporary bridge like...  "
      ]
     },
     "execution_count": 30,
     "metadata": {},
     "output_type": "execute_result"
    }
   ],
   "source": [
    "import nltk\n",
    "lemmatizer = nltk.stem.WordNetLemmatizer()\n",
    "\n",
    "def lemmatize_text(text):\n",
    "    return [lemmatizer.lemmatize(w) for w in text]\n",
    "\n",
    "tweet_df['text_lemmatized'] = tweet_df['text_tokenize'].apply(lemmatize_text)\n",
    "tweet_df['text_lemmatized'] = tweet_df['text_lemmatized'].apply(' '.join)\n",
    "tweet_df.head()"
   ]
  },
  {
   "cell_type": "markdown",
   "id": "2c25fb99",
   "metadata": {},
   "source": [
    "**Separating input feature and label**"
   ]
  },
  {
   "cell_type": "code",
   "execution_count": 31,
   "id": "435b9c12",
   "metadata": {},
   "outputs": [],
   "source": [
    "y = tweet_df['edInput']\n",
    "X = tweet_df['text_lemmatized']"
   ]
  },
  {
   "cell_type": "markdown",
   "id": "dcb517f1",
   "metadata": {},
   "source": [
    "**Splitting Our Data Into Train and Test Subsets**"
   ]
  },
  {
   "cell_type": "code",
   "execution_count": 32,
   "id": "b289504b",
   "metadata": {},
   "outputs": [],
   "source": [
    "from sklearn.model_selection import train_test_split"
   ]
  },
  {
   "cell_type": "code",
   "execution_count": 33,
   "id": "ee4f95e9",
   "metadata": {},
   "outputs": [],
   "source": [
    "X_train, X_test, y_train, y_test = train_test_split(X, y, test_size=0.2, stratify=y, random_state=101)"
   ]
  },
  {
   "cell_type": "markdown",
   "id": "226a8887",
   "metadata": {},
   "source": [
    "**Model Building**<br>\n",
    "In the problem statement, we have used three different models respectively:<br>\n",
    "\n",
    "*  Logistic Regression\n",
    "*  Multinomial Naive Bayes Classifier\n",
    "*  SVM (Support Vector Machine)\n",
    "\n",
    "The idea behind choosing these models is that we want to try all the classifiers on the dataset ranging from simple ones to complex models, and then try to find out the one which gives the best performance among them."
   ]
  },
  {
   "cell_type": "markdown",
   "id": "e35d5a59",
   "metadata": {},
   "source": [
    "**Model 1**"
   ]
  },
  {
   "cell_type": "code",
   "execution_count": 34,
   "id": "4e6fda93",
   "metadata": {},
   "outputs": [
    {
     "name": "stdout",
     "output_type": "stream",
     "text": [
      "Best cross-validation score:0.83\n",
      "Best parameters:{'logisticregression__C': 10}\n",
      "Model score:0.83\n"
     ]
    }
   ],
   "source": [
    "from sklearn.feature_extraction.text import TfidfVectorizer\n",
    "from sklearn.linear_model import LogisticRegression\n",
    "from sklearn.model_selection import GridSearchCV\n",
    "from sklearn.pipeline import make_pipeline\n",
    "pipe = make_pipeline(TfidfVectorizer(),LogisticRegression(max_iter=1000))\n",
    "param_grid = {'logisticregression__C': [0.001, 0.01, 0.1, 1, 10]}\n",
    "grid_lr = GridSearchCV(pipe, param_grid, cv=5)\n",
    "grid_lr.fit(X_train, y_train)\n",
    "grid_lr_preds=grid_lr.predict(X_test)\n",
    "print(\"Best cross-validation score:{:.2f}\".format(grid_lr.best_score_))\n",
    "print(\"Best parameters:{}\".format(grid_lr.best_params_))\n",
    "print(\"Model score:{:.2f}\".format(grid_lr.score(X_test,y_test)))"
   ]
  },
  {
   "cell_type": "code",
   "execution_count": 35,
   "id": "75639b5e",
   "metadata": {},
   "outputs": [],
   "source": [
    "lr_prob=grid_lr.predict_proba(X_test)"
   ]
  },
  {
   "cell_type": "code",
   "execution_count": 36,
   "id": "b87741ca",
   "metadata": {},
   "outputs": [],
   "source": [
    "from sklearn.metrics import confusion_matrix,classification_report,plot_confusion_matrix"
   ]
  },
  {
   "cell_type": "code",
   "execution_count": 37,
   "id": "5e59cac9",
   "metadata": {},
   "outputs": [
    {
     "data": {
      "text/plain": [
       "array([[ 563,  430],\n",
       "       [ 230, 2701]], dtype=int64)"
      ]
     },
     "execution_count": 37,
     "metadata": {},
     "output_type": "execute_result"
    }
   ],
   "source": [
    "confusion_matrix(y_test,grid_lr_preds)"
   ]
  },
  {
   "cell_type": "code",
   "execution_count": 38,
   "id": "88169731",
   "metadata": {},
   "outputs": [
    {
     "name": "stdout",
     "output_type": "stream",
     "text": [
      "              precision    recall  f1-score   support\n",
      "\n",
      "           0       0.71      0.57      0.63       993\n",
      "           1       0.86      0.92      0.89      2931\n",
      "\n",
      "    accuracy                           0.83      3924\n",
      "   macro avg       0.79      0.74      0.76      3924\n",
      "weighted avg       0.82      0.83      0.83      3924\n",
      "\n"
     ]
    }
   ],
   "source": [
    "print(classification_report(y_test,grid_lr_preds))"
   ]
  },
  {
   "cell_type": "code",
   "execution_count": 39,
   "id": "6aaa52b8",
   "metadata": {},
   "outputs": [
    {
     "name": "stderr",
     "output_type": "stream",
     "text": [
      "C:\\Users\\Priyambada\\anaconda3\\lib\\site-packages\\sklearn\\utils\\deprecation.py:87: FutureWarning: Function plot_confusion_matrix is deprecated; Function `plot_confusion_matrix` is deprecated in 1.0 and will be removed in 1.2. Use one of the class methods: ConfusionMatrixDisplay.from_predictions or ConfusionMatrixDisplay.from_estimator.\n",
      "  warnings.warn(msg, category=FutureWarning)\n"
     ]
    },
    {
     "data": {
      "image/png": "[encoded data removed]",
      "text/plain": [
       "<Figure size 640x480 with 2 Axes>"
      ]
     },
     "metadata": {},
     "output_type": "display_data"
    }
   ],
   "source": [
    "plot_confusion_matrix(grid_lr,X_test,y_test);"
   ]
  },
  {
   "cell_type": "code",
   "execution_count": 40,
   "id": "4b02dd82",
   "metadata": {},
   "outputs": [],
   "source": [
    "from sklearn import metrics\n",
    "def TP_rate_visualization(y_test, lr_prob):\n",
    "  precision, recall, thresholds = metrics.precision_recall_curve(y_test, lr_prob[:,1])\n",
    "  FPR, TPR, thresholds = metrics.roc_curve(y_test, lr_prob[:,1],)\n",
    "  AUC = metrics.auc(FPR, TPR)\n",
    "\n",
    "  plt.figure(figsize=(10,5))\n",
    "\n",
    "#   plt.subplot(1,2,1)\n",
    "  plt.plot(FPR, TPR)\n",
    "  plt.title('roc Curve')\n",
    "  plt.title(f'AUC = {AUC: .3f}')\n",
    "  plt.ylabel('True positive rate') # TP/(TP+FN)\n",
    "  plt.xlabel('False positive rate') # FP/(FP+TN)\n",
    "\n",
    "#   plt.subplot(1,2,2)\n",
    "#   plt.plot(recall, precision)\n",
    "#   plt.ylabel('Precision')\n",
    "#   plt.xlabel('Recall')\n",
    "\n",
    "  plt.show()"
   ]
  },
  {
   "cell_type": "code",
   "execution_count": 41,
   "id": "07405469",
   "metadata": {},
   "outputs": [
    {
     "data": {
      "image/png": "[encoded data removed]",
      "text/plain": [
       "<Figure size 1000x500 with 1 Axes>"
      ]
     },
     "metadata": {},
     "output_type": "display_data"
    }
   ],
   "source": [
    "TP_rate_visualization(y_test, lr_prob)"
   ]
  },
  {
   "cell_type": "markdown",
   "id": "809f137b",
   "metadata": {},
   "source": [
    "**Model 2**"
   ]
  },
  {
   "cell_type": "code",
   "execution_count": 42,
   "id": "e6bb4931",
   "metadata": {},
   "outputs": [
    {
     "name": "stdout",
     "output_type": "stream",
     "text": [
      "Best cross-validation score:0.83\n",
      "Best parameters:{'multinomialnb__alpha': 0.1}\n",
      "Model score:0.83\n"
     ]
    }
   ],
   "source": [
    "from sklearn.naive_bayes import MultinomialNB\n",
    "pipe = make_pipeline(TfidfVectorizer(),MultinomialNB())\n",
    "param_grid = {'multinomialnb__alpha': (1, 0.1, 0.01, 0.001, 0.0001, 0.00001)}\n",
    "grid_nb = GridSearchCV(pipe, param_grid, cv=5)\n",
    "grid_nb.fit(X_train, y_train)\n",
    "grid_nb_preds=grid_nb.predict(X_test)\n",
    "print(\"Best cross-validation score:{:.2f}\".format(grid_nb.best_score_))\n",
    "print(\"Best parameters:{}\".format(grid_nb.best_params_))\n",
    "print(\"Model score:{:.2f}\".format(grid_nb.score(X_test,y_test)))"
   ]
  },
  {
   "cell_type": "code",
   "execution_count": 43,
   "id": "934d79e3",
   "metadata": {},
   "outputs": [],
   "source": [
    "nb_prob=grid_nb.predict_proba(X_test)"
   ]
  },
  {
   "cell_type": "code",
   "execution_count": 44,
   "id": "b5347684",
   "metadata": {},
   "outputs": [
    {
     "name": "stderr",
     "output_type": "stream",
     "text": [
      "C:\\Users\\Priyambada\\anaconda3\\lib\\site-packages\\sklearn\\utils\\deprecation.py:87: FutureWarning: Function plot_confusion_matrix is deprecated; Function `plot_confusion_matrix` is deprecated in 1.0 and will be removed in 1.2. Use one of the class methods: ConfusionMatrixDisplay.from_predictions or ConfusionMatrixDisplay.from_estimator.\n",
      "  warnings.warn(msg, category=FutureWarning)\n"
     ]
    },
    {
     "data": {
      "image/png": "[encoded data removed]",
      "text/plain": [
       "<Figure size 640x480 with 2 Axes>"
      ]
     },
     "metadata": {},
     "output_type": "display_data"
    }
   ],
   "source": [
    "plot_confusion_matrix(grid_nb,X_test,y_test);"
   ]
  },
  {
   "cell_type": "code",
   "execution_count": 45,
   "id": "8774b244",
   "metadata": {},
   "outputs": [
    {
     "name": "stdout",
     "output_type": "stream",
     "text": [
      "              precision    recall  f1-score   support\n",
      "\n",
      "           0       0.68      0.61      0.64       993\n",
      "           1       0.87      0.90      0.89      2931\n",
      "\n",
      "    accuracy                           0.83      3924\n",
      "   macro avg       0.77      0.76      0.76      3924\n",
      "weighted avg       0.82      0.83      0.82      3924\n",
      "\n"
     ]
    }
   ],
   "source": [
    "print(classification_report(y_test,grid_nb_preds))"
   ]
  },
  {
   "cell_type": "code",
   "execution_count": 46,
   "id": "0def752c",
   "metadata": {},
   "outputs": [],
   "source": [
    "from sklearn import metrics\n",
    "def TP_rate_visualization(y_test, nb_prob):\n",
    "  precision, recall, thresholds = metrics.precision_recall_curve(y_test, nb_prob[:,1])\n",
    "  FPR, TPR, thresholds = metrics.roc_curve(y_test, nb_prob[:,1],)\n",
    "  AUC = metrics.auc(FPR, TPR)\n",
    "\n",
    "  plt.figure(figsize=(10,5))\n",
    "\n",
    "  plt.plot(FPR, TPR)\n",
    "  plt.title('roc Curve')\n",
    "  plt.title(f'AUC = {AUC: .3f}')\n",
    "  plt.ylabel('True positive rate') # TP/(TP+FN)\n",
    "  plt.xlabel('False positive rate') # FP/(FP+TN)\n",
    "\n",
    "\n",
    "  plt.show()"
   ]
  },
  {
   "cell_type": "code",
   "execution_count": 47,
   "id": "f5b0712e",
   "metadata": {},
   "outputs": [
    {
     "data": {
      "image/png": "[encoded data removed]",
      "text/plain": [
       "<Figure size 1000x500 with 1 Axes>"
      ]
     },
     "metadata": {},
     "output_type": "display_data"
    }
   ],
   "source": [
    "TP_rate_visualization(y_test, nb_prob)"
   ]
  },
  {
   "cell_type": "markdown",
   "id": "41b00986",
   "metadata": {},
   "source": [
    "**Model 3**"
   ]
  },
  {
   "cell_type": "code",
   "execution_count": 48,
   "id": "295a3442",
   "metadata": {},
   "outputs": [
    {
     "name": "stdout",
     "output_type": "stream",
     "text": [
      "Best cross-validation score:0.83\n",
      "Best parameters:{'svc__C': 100.0, 'svc__gamma': 'scale', 'svc__kernel': 'rbf'}\n",
      "Model score:0.83\n"
     ]
    }
   ],
   "source": [
    "from sklearn.svm import SVC\n",
    "pipe = make_pipeline(TfidfVectorizer(),SVC(probability=True))\n",
    "param_grid = {'svc__C':np.logspace(-3,2,6),'svc__kernel':['linear','rbf'], 'svc__gamma':['scale','auto']}\n",
    "grid_svc = GridSearchCV(pipe, param_grid, cv=5)\n",
    "grid_svc.fit(X_train, y_train)\n",
    "grid_svc_preds=grid_svc.predict(X_test)\n",
    "print(\"Best cross-validation score:{:.2f}\".format(grid_svc.best_score_))\n",
    "print(\"Best parameters:{}\".format(grid_svc.best_params_))\n",
    "print(\"Model score:{:.2f}\".format(grid_svc.score(X_test,y_test)))"
   ]
  },
  {
   "cell_type": "code",
   "execution_count": 49,
   "id": "0123e0eb",
   "metadata": {},
   "outputs": [],
   "source": [
    "grid_svc_prob=grid_svc.predict_proba(X_test)"
   ]
  },
  {
   "cell_type": "code",
   "execution_count": 50,
   "id": "62b528fa",
   "metadata": {},
   "outputs": [
    {
     "name": "stderr",
     "output_type": "stream",
     "text": [
      "C:\\Users\\Priyambada\\anaconda3\\lib\\site-packages\\sklearn\\utils\\deprecation.py:87: FutureWarning: Function plot_confusion_matrix is deprecated; Function `plot_confusion_matrix` is deprecated in 1.0 and will be removed in 1.2. Use one of the class methods: ConfusionMatrixDisplay.from_predictions or ConfusionMatrixDisplay.from_estimator.\n",
      "  warnings.warn(msg, category=FutureWarning)\n"
     ]
    },
    {
     "data": {
      "image/png": "[encoded data removed]",
      "text/plain": [
       "<Figure size 640x480 with 2 Axes>"
      ]
     },
     "metadata": {},
     "output_type": "display_data"
    }
   ],
   "source": [
    "plot_confusion_matrix(grid_svc,X_test,y_test);"
   ]
  },
  {
   "cell_type": "code",
   "execution_count": 51,
   "id": "09bd932d",
   "metadata": {},
   "outputs": [
    {
     "name": "stdout",
     "output_type": "stream",
     "text": [
      "              precision    recall  f1-score   support\n",
      "\n",
      "           0       0.71      0.56      0.63       993\n",
      "           1       0.86      0.92      0.89      2931\n",
      "\n",
      "    accuracy                           0.83      3924\n",
      "   macro avg       0.79      0.74      0.76      3924\n",
      "weighted avg       0.82      0.83      0.82      3924\n",
      "\n"
     ]
    }
   ],
   "source": [
    "print(classification_report(y_test,grid_svc_preds))"
   ]
  },
  {
   "cell_type": "code",
   "execution_count": 52,
   "id": "8c53e080",
   "metadata": {},
   "outputs": [],
   "source": [
    "from sklearn import metrics\n",
    "def TP_rate_visualization(y_test, grid_svc_prob):\n",
    "  precision, recall, thresholds = metrics.precision_recall_curve(y_test, grid_svc_prob[:,1])\n",
    "  FPR, TPR, thresholds = metrics.roc_curve(y_test, grid_svc_prob[:,1],)\n",
    "  AUC = metrics.auc(FPR, TPR)\n",
    "\n",
    "  plt.figure(figsize=(10,5))\n",
    "\n",
    "  plt.plot(FPR, TPR)\n",
    "  plt.title('roc Curve')\n",
    "  plt.title(f'AUC = {AUC: .3f}')\n",
    "  plt.ylabel('True positive rate') # TP/(TP+FN)\n",
    "  plt.xlabel('False positive rate') # FP/(FP+TN)\n",
    "\n",
    "\n",
    "  plt.show()"
   ]
  },
  {
   "cell_type": "code",
   "execution_count": 53,
   "id": "88ceb2b8",
   "metadata": {},
   "outputs": [
    {
     "data": {
      "image/png": "[encoded data removed]",
      "text/plain": [
       "<Figure size 1000x500 with 1 Axes>"
      ]
     },
     "metadata": {},
     "output_type": "display_data"
    }
   ],
   "source": [
    "TP_rate_visualization(y_test, grid_svc_prob)"
   ]
  },
  {
   "cell_type": "markdown",
   "id": "b0bd1f2b",
   "metadata": {},
   "source": [
    "**Model Evaluation**<br>\n",
    "Upon evaluating all the models, we can conclude the following details i.e.\n",
    "\n",
    "**Accuracy**: All three models have the same accuracy.\n",
    "\n",
    "**F1-score**: The F1 Scores for class 0 and class 1 are:<br>\n",
    "(a) For class 0: Logistic Regression (0.63) = SVC (0.63) < Multinomial Naive Bayes(0.64)<br> \n",
    "(b) For class 1: Logistic Regression (0.89) = SVC (0.89) = Multinomial Naive Bayes(0.89)\n",
    "\n",
    "**AUC Score**: All three models have the same ROC-AUC score.\n",
    "\n",
    "We, therefore, conclude that both the models:Logistic Regression and Multinomial Naive Bayes performed equally for the above-given dataset. Although, SVC gives similar results but the runtime is very high."
   ]
  },
  {
   "cell_type": "markdown",
   "id": "cffafd4d",
   "metadata": {},
   "source": [
    "**Find the best setting of n-gram range using a grid search**"
   ]
  },
  {
   "cell_type": "code",
   "execution_count": 54,
   "id": "4ff6fea9",
   "metadata": {},
   "outputs": [
    {
     "name": "stdout",
     "output_type": "stream",
     "text": [
      "Best cross-validation score:0.84\n",
      "Best parameters:{'logisticregression__C': 100, 'tfidfvectorizer__ngram_range': (1, 3)}\n",
      "Model score:0.84\n"
     ]
    }
   ],
   "source": [
    "pipe = make_pipeline(TfidfVectorizer(), LogisticRegression(max_iter=1000))\n",
    "# running the grid search takes a long time because of the\n",
    "# relatively large grid and the inclusion of trigrams\n",
    "param_grid = {\"logisticregression__C\": [0.001, 0.01, 0.1, 1, 10, 100],\n",
    "\"tfidfvectorizer__ngram_range\": [(1, 1), (1, 2), (1, 3)]}\n",
    "grid = GridSearchCV(pipe, param_grid, cv=5)\n",
    "grid.fit(X_train, y_train)\n",
    "grid_preds=grid.predict(X_test)\n",
    "print(\"Best cross-validation score:{:.2f}\".format(grid.best_score_))\n",
    "print(\"Best parameters:{}\".format(grid.best_params_))\n",
    "print(\"Model score:{:.2f}\".format(grid.score(X_test,y_test)))"
   ]
  },
  {
   "cell_type": "code",
   "execution_count": 55,
   "id": "43cfb673",
   "metadata": {},
   "outputs": [],
   "source": [
    "grid_prob=grid.predict_proba(X_test)"
   ]
  },
  {
   "cell_type": "code",
   "execution_count": 56,
   "id": "b7d57e6e",
   "metadata": {},
   "outputs": [
    {
     "name": "stderr",
     "output_type": "stream",
     "text": [
      "C:\\Users\\Priyambada\\anaconda3\\lib\\site-packages\\sklearn\\utils\\deprecation.py:87: FutureWarning: Function plot_confusion_matrix is deprecated; Function `plot_confusion_matrix` is deprecated in 1.0 and will be removed in 1.2. Use one of the class methods: ConfusionMatrixDisplay.from_predictions or ConfusionMatrixDisplay.from_estimator.\n",
      "  warnings.warn(msg, category=FutureWarning)\n"
     ]
    },
    {
     "data": {
      "image/png": "[encoded data removed]",
      "text/plain": [
       "<Figure size 640x480 with 2 Axes>"
      ]
     },
     "metadata": {},
     "output_type": "display_data"
    }
   ],
   "source": [
    "plot_confusion_matrix(grid,X_test,y_test);"
   ]
  },
  {
   "cell_type": "code",
   "execution_count": 57,
   "id": "268310f8",
   "metadata": {},
   "outputs": [
    {
     "name": "stdout",
     "output_type": "stream",
     "text": [
      "              precision    recall  f1-score   support\n",
      "\n",
      "           0       0.72      0.60      0.66       993\n",
      "           1       0.87      0.92      0.90      2931\n",
      "\n",
      "    accuracy                           0.84      3924\n",
      "   macro avg       0.80      0.76      0.78      3924\n",
      "weighted avg       0.83      0.84      0.84      3924\n",
      "\n"
     ]
    }
   ],
   "source": [
    "print(classification_report(y_test,grid_preds))"
   ]
  },
  {
   "cell_type": "code",
   "execution_count": 58,
   "id": "b5258f5e",
   "metadata": {},
   "outputs": [],
   "source": [
    "from sklearn import metrics\n",
    "def TP_rate_visualization(y_test, grid_prob):\n",
    "  precision, recall, thresholds = metrics.precision_recall_curve(y_test, grid_prob[:,1])\n",
    "  FPR, TPR, thresholds = metrics.roc_curve(y_test, grid_prob[:,1],)\n",
    "  AUC = metrics.auc(FPR, TPR)\n",
    "\n",
    "  plt.figure(figsize=(10,5))\n",
    "\n",
    "  plt.plot(FPR, TPR)\n",
    "  plt.title('roc Curve')\n",
    "  plt.title(f'AUC = {AUC: .3f}')\n",
    "  plt.ylabel('True positive rate') # TP/(TP+FN)\n",
    "  plt.xlabel('False positive rate') # FP/(FP+TN)\n",
    "\n",
    "\n",
    "  plt.show()"
   ]
  },
  {
   "cell_type": "code",
   "execution_count": 59,
   "id": "cae60b4d",
   "metadata": {},
   "outputs": [
    {
     "data": {
      "image/png": "[encoded data removed]",
      "text/plain": [
       "<Figure size 1000x500 with 1 Axes>"
      ]
     },
     "metadata": {},
     "output_type": "display_data"
    }
   ],
   "source": [
    "TP_rate_visualization(y_test, grid_prob)"
   ]
  },
  {
   "cell_type": "markdown",
   "id": "95c2c437",
   "metadata": {},
   "source": [
    "As it can be seen from the results, we improved performance by a bit more than a percent by adding ngram features."
   ]
  },
  {
   "cell_type": "code",
   "execution_count": null,
   "id": "e03aa88d",
   "metadata": {},
   "outputs": [],
   "source": []
  }
 ],
 "metadata": {
  "kernelspec": {
   "display_name": "Python 3 (ipykernel)",
   "language": "python",
   "name": "python3"
  },
  "language_info": {
   "codemirror_mode": {
    "name": "ipython",
    "version": 3
   },
   "file_extension": ".py",
   "mimetype": "text/x-python",
   "name": "python",
   "nbconvert_exporter": "python",
   "pygments_lexer": "ipython3",
   "version": "3.9.13"
  }
 },
 "nbformat": 4,
 "nbformat_minor": 5
}
