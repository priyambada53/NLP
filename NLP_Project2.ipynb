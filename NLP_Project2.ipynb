{
 "cells": [
  {
   "cell_type": "code",
   "execution_count": 1,
   "id": "7ad583b1",
   "metadata": {},
   "outputs": [],
   "source": [
    "import numpy as np # linear algebra\n",
    "import pandas as pd # data processing, CSV file I/O (e.g. pd.read_csv)\n",
    "import seaborn as sns\n",
    "import matplotlib.pyplot as plt"
   ]
  },
  {
   "cell_type": "code",
   "execution_count": 2,
   "id": "4a30dc01",
   "metadata": {},
   "outputs": [],
   "source": [
    "tweet_df = pd.read_csv(r'D:\\MACHINE LEARNING\\Mentorship program\\NLP Projects\\NLP_Project_first\\tweet_data.csv')"
   ]
  },
  {
   "cell_type": "code",
   "execution_count": 3,
   "id": "4fed4860",
   "metadata": {},
   "outputs": [
    {
     "data": {
      "text/html": [
       "<div>\n",
       "<style scoped>\n",
       "    .dataframe tbody tr th:only-of-type {\n",
       "        vertical-align: middle;\n",
       "    }\n",
       "\n",
       "    .dataframe tbody tr th {\n",
       "        vertical-align: top;\n",
       "    }\n",
       "\n",
       "    .dataframe thead th {\n",
       "        text-align: right;\n",
       "    }\n",
       "</style>\n",
       "<table border=\"1\" class=\"dataframe\">\n",
       "  <thead>\n",
       "    <tr style=\"text-align: right;\">\n",
       "      <th></th>\n",
       "      <th>tweetID</th>\n",
       "      <th>crDate</th>\n",
       "      <th>edInput</th>\n",
       "      <th>editor</th>\n",
       "      <th>engages</th>\n",
       "      <th>isApproved</th>\n",
       "      <th>isEdNeed</th>\n",
       "      <th>isRT</th>\n",
       "      <th>likes</th>\n",
       "      <th>photoUrl</th>\n",
       "      <th>retweets</th>\n",
       "      <th>rtUsID</th>\n",
       "      <th>text</th>\n",
       "      <th>topicName</th>\n",
       "      <th>usFlwrs</th>\n",
       "      <th>usID</th>\n",
       "      <th>usName</th>\n",
       "      <th>videoUrl</th>\n",
       "    </tr>\n",
       "  </thead>\n",
       "  <tbody>\n",
       "    <tr>\n",
       "      <th>0</th>\n",
       "      <td>1070867471245164544</td>\n",
       "      <td>2018-12-07 02:27:55</td>\n",
       "      <td>-1</td>\n",
       "      <td>-1</td>\n",
       "      <td>98</td>\n",
       "      <td>False</td>\n",
       "      <td>True</td>\n",
       "      <td>False</td>\n",
       "      <td>64</td>\n",
       "      <td>https://pbs.twimg.com/media/Dtx8SiIWkAImVsb.jpg</td>\n",
       "      <td>34</td>\n",
       "      <td>-1</td>\n",
       "      <td>The immediate impulse for an alliance of the E...</td>\n",
       "      <td>Business</td>\n",
       "      <td>23464532</td>\n",
       "      <td>5988062</td>\n",
       "      <td>The Economist</td>\n",
       "      <td>NaN</td>\n",
       "    </tr>\n",
       "    <tr>\n",
       "      <th>1</th>\n",
       "      <td>1070868017888837633</td>\n",
       "      <td>2018-12-07 02:30:05</td>\n",
       "      <td>-1</td>\n",
       "      <td>-1</td>\n",
       "      <td>13</td>\n",
       "      <td>False</td>\n",
       "      <td>True</td>\n",
       "      <td>False</td>\n",
       "      <td>10</td>\n",
       "      <td>https://pbs.twimg.com/media/Dtx8yTyW4AEciqP.jpg</td>\n",
       "      <td>3</td>\n",
       "      <td>-1</td>\n",
       "      <td>America's economy is flashing some warning sig...</td>\n",
       "      <td>Business</td>\n",
       "      <td>1732809</td>\n",
       "      <td>16184358</td>\n",
       "      <td>CNN Business</td>\n",
       "      <td>NaN</td>\n",
       "    </tr>\n",
       "    <tr>\n",
       "      <th>2</th>\n",
       "      <td>1070868012864028673</td>\n",
       "      <td>2018-12-07 02:30:04</td>\n",
       "      <td>-1</td>\n",
       "      <td>-1</td>\n",
       "      <td>12</td>\n",
       "      <td>False</td>\n",
       "      <td>True</td>\n",
       "      <td>False</td>\n",
       "      <td>8</td>\n",
       "      <td>NaN</td>\n",
       "      <td>4</td>\n",
       "      <td>-1</td>\n",
       "      <td>Lyft files for what is expected to be one of t...</td>\n",
       "      <td>Business</td>\n",
       "      <td>2253989</td>\n",
       "      <td>25053299</td>\n",
       "      <td>FORTUNE</td>\n",
       "      <td>NaN</td>\n",
       "    </tr>\n",
       "    <tr>\n",
       "      <th>3</th>\n",
       "      <td>1070867995239555075</td>\n",
       "      <td>2018-12-07 02:30:00</td>\n",
       "      <td>-1</td>\n",
       "      <td>-1</td>\n",
       "      <td>5</td>\n",
       "      <td>False</td>\n",
       "      <td>True</td>\n",
       "      <td>False</td>\n",
       "      <td>4</td>\n",
       "      <td>NaN</td>\n",
       "      <td>1</td>\n",
       "      <td>-1</td>\n",
       "      <td>Exporters still waiting to get Rs 6,000 crore ...</td>\n",
       "      <td>Business</td>\n",
       "      <td>1704056</td>\n",
       "      <td>43855487</td>\n",
       "      <td>Business Standard</td>\n",
       "      <td>NaN</td>\n",
       "    </tr>\n",
       "    <tr>\n",
       "      <th>4</th>\n",
       "      <td>1070867995205885952</td>\n",
       "      <td>2018-12-07 02:30:00</td>\n",
       "      <td>-1</td>\n",
       "      <td>-1</td>\n",
       "      <td>5</td>\n",
       "      <td>False</td>\n",
       "      <td>True</td>\n",
       "      <td>False</td>\n",
       "      <td>2</td>\n",
       "      <td>NaN</td>\n",
       "      <td>3</td>\n",
       "      <td>-1</td>\n",
       "      <td>Ride-hailing firm Lyft races to leave Uber beh...</td>\n",
       "      <td>Business</td>\n",
       "      <td>1997662</td>\n",
       "      <td>15110357</td>\n",
       "      <td>Reuters Business</td>\n",
       "      <td>https://video.twimg.com/amplify_video/10708116...</td>\n",
       "    </tr>\n",
       "  </tbody>\n",
       "</table>\n",
       "</div>"
      ],
      "text/plain": [
       "               tweetID               crDate  edInput  editor  engages  \\\n",
       "0  1070867471245164544  2018-12-07 02:27:55       -1      -1       98   \n",
       "1  1070868017888837633  2018-12-07 02:30:05       -1      -1       13   \n",
       "2  1070868012864028673  2018-12-07 02:30:04       -1      -1       12   \n",
       "3  1070867995239555075  2018-12-07 02:30:00       -1      -1        5   \n",
       "4  1070867995205885952  2018-12-07 02:30:00       -1      -1        5   \n",
       "\n",
       "   isApproved  isEdNeed   isRT  likes  \\\n",
       "0       False      True  False     64   \n",
       "1       False      True  False     10   \n",
       "2       False      True  False      8   \n",
       "3       False      True  False      4   \n",
       "4       False      True  False      2   \n",
       "\n",
       "                                          photoUrl  retweets  rtUsID  \\\n",
       "0  https://pbs.twimg.com/media/Dtx8SiIWkAImVsb.jpg        34      -1   \n",
       "1  https://pbs.twimg.com/media/Dtx8yTyW4AEciqP.jpg         3      -1   \n",
       "2                                              NaN         4      -1   \n",
       "3                                              NaN         1      -1   \n",
       "4                                              NaN         3      -1   \n",
       "\n",
       "                                                text topicName   usFlwrs  \\\n",
       "0  The immediate impulse for an alliance of the E...  Business  23464532   \n",
       "1  America's economy is flashing some warning sig...  Business   1732809   \n",
       "2  Lyft files for what is expected to be one of t...  Business   2253989   \n",
       "3  Exporters still waiting to get Rs 6,000 crore ...  Business   1704056   \n",
       "4  Ride-hailing firm Lyft races to leave Uber beh...  Business   1997662   \n",
       "\n",
       "       usID             usName  \\\n",
       "0   5988062      The Economist   \n",
       "1  16184358       CNN Business   \n",
       "2  25053299            FORTUNE   \n",
       "3  43855487  Business Standard   \n",
       "4  15110357   Reuters Business   \n",
       "\n",
       "                                            videoUrl  \n",
       "0                                                NaN  \n",
       "1                                                NaN  \n",
       "2                                                NaN  \n",
       "3                                                NaN  \n",
       "4  https://video.twimg.com/amplify_video/10708116...  "
      ]
     },
     "execution_count": 3,
     "metadata": {},
     "output_type": "execute_result"
    }
   ],
   "source": [
    "tweet_df.head()"
   ]
  },
  {
   "cell_type": "code",
   "execution_count": 4,
   "id": "90d1f688",
   "metadata": {},
   "outputs": [
    {
     "data": {
      "text/plain": [
       "-1    422665\n",
       " 1    215577\n",
       " 2    106741\n",
       " 4     32733\n",
       " 3      8200\n",
       "Name: edInput, dtype: int64"
      ]
     },
     "execution_count": 4,
     "metadata": {},
     "output_type": "execute_result"
    }
   ],
   "source": [
    "tweet_df['edInput'].value_counts()"
   ]
  },
  {
   "cell_type": "code",
   "execution_count": 5,
   "id": "2d91653c",
   "metadata": {},
   "outputs": [
    {
     "data": {
      "text/plain": [
       "Business                    164602\n",
       "News                        131973\n",
       "Motivational                 84750\n",
       "Technology                   47679\n",
       "Design & Architecture        44987\n",
       "Cryptocurrency               38623\n",
       "Art                          36697\n",
       "Interesting                  28615\n",
       "Animal                       28202\n",
       "Memes                        26349\n",
       "Nature                       25021\n",
       "Photography                  23638\n",
       "DIY & Craft                  22392\n",
       "Space                        14226\n",
       "Funny                        13654\n",
       "Travel                       13215\n",
       "Random                       11825\n",
       "Editorial Pics               11026\n",
       "Flowers                       9450\n",
       "Mindfulness                   2779\n",
       "Fitness                       2454\n",
       "Nanotech                       792\n",
       "World Leaders                  663\n",
       "Psychology                     544\n",
       "US News                        279\n",
       "science                        244\n",
       "Stocks                         188\n",
       "Humor                          154\n",
       "Spirituality                   150\n",
       "Entrepreneurship               148\n",
       "Science                        141\n",
       "Medical                        100\n",
       "Digital Media & Internet        94\n",
       "Startup                         87\n",
       "Biotech                         77\n",
       "Personal Development            38\n",
       "Informative                     24\n",
       "Love                            12\n",
       "Journalists                     11\n",
       "Fashion                         11\n",
       "Basketball                       1\n",
       "Poem                             1\n",
       "Name: topicName, dtype: int64"
      ]
     },
     "execution_count": 5,
     "metadata": {},
     "output_type": "execute_result"
    }
   ],
   "source": [
    "tweet_df['topicName'].value_counts()"
   ]
  },
  {
   "cell_type": "code",
   "execution_count": 6,
   "id": "81e52f69",
   "metadata": {},
   "outputs": [
    {
     "data": {
      "text/plain": [
       "Index(['tweetID', 'crDate', 'edInput', 'editor', 'engages', 'isApproved',\n",
       "       'isEdNeed', 'isRT', 'likes', 'photoUrl', 'retweets', 'rtUsID', 'text',\n",
       "       'topicName', 'usFlwrs', 'usID', 'usName', 'videoUrl'],\n",
       "      dtype='object')"
      ]
     },
     "execution_count": 6,
     "metadata": {},
     "output_type": "execute_result"
    }
   ],
   "source": [
    "tweet_df=tweet_df[tweet_df['topicName']=='Technology']\n",
    "tweet_df.columns"
   ]
  },
  {
   "cell_type": "code",
   "execution_count": 7,
   "id": "1d52d51f",
   "metadata": {},
   "outputs": [],
   "source": [
    "tweet_df=tweet_df[['text','edInput']]"
   ]
  },
  {
   "cell_type": "code",
   "execution_count": 8,
   "id": "4a9316dd",
   "metadata": {},
   "outputs": [
    {
     "data": {
      "text/plain": [
       "-1    22235\n",
       " 1    14652\n",
       " 2     4965\n",
       " 4     4761\n",
       " 3     1066\n",
       "Name: edInput, dtype: int64"
      ]
     },
     "execution_count": 8,
     "metadata": {},
     "output_type": "execute_result"
    }
   ],
   "source": [
    "tweet_df['edInput'].value_counts()"
   ]
  },
  {
   "cell_type": "code",
   "execution_count": 9,
   "id": "29f7e85b",
   "metadata": {},
   "outputs": [],
   "source": [
    "tweet_df=tweet_df[(tweet_df['edInput'] != -1) & (tweet_df['edInput'] != 3) & (tweet_df['edInput'] != 4)]"
   ]
  },
  {
   "cell_type": "code",
   "execution_count": 10,
   "id": "18596206",
   "metadata": {},
   "outputs": [],
   "source": [
    "tweet_df['text']=tweet_df['text'].str.split('https',1).str[0]"
   ]
  },
  {
   "cell_type": "code",
   "execution_count": 11,
   "id": "3e18e072",
   "metadata": {},
   "outputs": [
    {
     "data": {
      "text/html": [
       "<div>\n",
       "<style scoped>\n",
       "    .dataframe tbody tr th:only-of-type {\n",
       "        vertical-align: middle;\n",
       "    }\n",
       "\n",
       "    .dataframe tbody tr th {\n",
       "        vertical-align: top;\n",
       "    }\n",
       "\n",
       "    .dataframe thead th {\n",
       "        text-align: right;\n",
       "    }\n",
       "</style>\n",
       "<table border=\"1\" class=\"dataframe\">\n",
       "  <thead>\n",
       "    <tr style=\"text-align: right;\">\n",
       "      <th></th>\n",
       "      <th>text</th>\n",
       "      <th>edInput</th>\n",
       "    </tr>\n",
       "  </thead>\n",
       "  <tbody>\n",
       "    <tr>\n",
       "      <th>0</th>\n",
       "      <td>This paper Boeing 777 puts all other paper air...</td>\n",
       "      <td>1</td>\n",
       "    </tr>\n",
       "    <tr>\n",
       "      <th>1</th>\n",
       "      <td>This long-range wireless charging system charg...</td>\n",
       "      <td>1</td>\n",
       "    </tr>\n",
       "    <tr>\n",
       "      <th>2</th>\n",
       "      <td>Elon Musk has created and sold multiple compan...</td>\n",
       "      <td>1</td>\n",
       "    </tr>\n",
       "    <tr>\n",
       "      <th>3</th>\n",
       "      <td>Honda's $4.9 million private jet is an absolut...</td>\n",
       "      <td>1</td>\n",
       "    </tr>\n",
       "    <tr>\n",
       "      <th>4</th>\n",
       "      <td>The US Marines pieced together this temporary ...</td>\n",
       "      <td>1</td>\n",
       "    </tr>\n",
       "    <tr>\n",
       "      <th>...</th>\n",
       "      <td>...</td>\n",
       "      <td>...</td>\n",
       "    </tr>\n",
       "    <tr>\n",
       "      <th>19612</th>\n",
       "      <td>Tomorrow on @cheddar, my exclusive interview w...</td>\n",
       "      <td>2</td>\n",
       "    </tr>\n",
       "    <tr>\n",
       "      <th>19613</th>\n",
       "      <td>Netflix documentary The Great Hack turns the C...</td>\n",
       "      <td>2</td>\n",
       "    </tr>\n",
       "    <tr>\n",
       "      <th>19614</th>\n",
       "      <td>Hulu is developing a Hitchhiker’s Guide to the...</td>\n",
       "      <td>1</td>\n",
       "    </tr>\n",
       "    <tr>\n",
       "      <th>19615</th>\n",
       "      <td>This machine folds dumplings super fast.</td>\n",
       "      <td>1</td>\n",
       "    </tr>\n",
       "    <tr>\n",
       "      <th>19616</th>\n",
       "      <td>Heat records topple in Europe. Again.</td>\n",
       "      <td>2</td>\n",
       "    </tr>\n",
       "  </tbody>\n",
       "</table>\n",
       "<p>19617 rows × 2 columns</p>\n",
       "</div>"
      ],
      "text/plain": [
       "                                                    text  edInput\n",
       "0      This paper Boeing 777 puts all other paper air...        1\n",
       "1      This long-range wireless charging system charg...        1\n",
       "2      Elon Musk has created and sold multiple compan...        1\n",
       "3      Honda's $4.9 million private jet is an absolut...        1\n",
       "4      The US Marines pieced together this temporary ...        1\n",
       "...                                                  ...      ...\n",
       "19612  Tomorrow on @cheddar, my exclusive interview w...        2\n",
       "19613  Netflix documentary The Great Hack turns the C...        2\n",
       "19614  Hulu is developing a Hitchhiker’s Guide to the...        1\n",
       "19615          This machine folds dumplings super fast.         1\n",
       "19616             Heat records topple in Europe. Again.         2\n",
       "\n",
       "[19617 rows x 2 columns]"
      ]
     },
     "execution_count": 11,
     "metadata": {},
     "output_type": "execute_result"
    }
   ],
   "source": [
    "tweet_df.reset_index(drop=True)"
   ]
  },
  {
   "cell_type": "code",
   "execution_count": 12,
   "id": "7fda85b3",
   "metadata": {},
   "outputs": [],
   "source": [
    "# tweet_df['text'].iloc[19615]"
   ]
  },
  {
   "cell_type": "code",
   "execution_count": 13,
   "id": "511588a9",
   "metadata": {},
   "outputs": [
    {
     "data": {
      "text/plain": [
       "text       0\n",
       "edInput    0\n",
       "dtype: int64"
      ]
     },
     "execution_count": 13,
     "metadata": {},
     "output_type": "execute_result"
    }
   ],
   "source": [
    "tweet_df.isnull().sum()"
   ]
  },
  {
   "cell_type": "code",
   "execution_count": 14,
   "id": "e2343d7a",
   "metadata": {},
   "outputs": [
    {
     "data": {
      "text/plain": [
       "0"
      ]
     },
     "execution_count": 14,
     "metadata": {},
     "output_type": "execute_result"
    }
   ],
   "source": [
    "tweet_df['text'].str.isspace().sum()"
   ]
  },
  {
   "cell_type": "code",
   "execution_count": 15,
   "id": "76105d93",
   "metadata": {},
   "outputs": [
    {
     "name": "stdout",
     "output_type": "stream",
     "text": [
      "<class 'pandas.core.frame.DataFrame'>\n",
      "Int64Index: 19617 entries, 60071 to 785452\n",
      "Data columns (total 2 columns):\n",
      " #   Column   Non-Null Count  Dtype \n",
      "---  ------   --------------  ----- \n",
      " 0   text     19617 non-null  object\n",
      " 1   edInput  19617 non-null  int64 \n",
      "dtypes: int64(1), object(1)\n",
      "memory usage: 459.8+ KB\n"
     ]
    }
   ],
   "source": [
    "tweet_df.info()"
   ]
  },
  {
   "cell_type": "code",
   "execution_count": 16,
   "id": "89fa1aaa",
   "metadata": {},
   "outputs": [
    {
     "data": {
      "text/plain": [
       "1    14652\n",
       "2     4965\n",
       "Name: edInput, dtype: int64"
      ]
     },
     "execution_count": 16,
     "metadata": {},
     "output_type": "execute_result"
    }
   ],
   "source": [
    "#Check for data imbalancement\n",
    "tweet_df['edInput'].value_counts()"
   ]
  },
  {
   "cell_type": "code",
   "execution_count": 17,
   "id": "ecf5c08e",
   "metadata": {},
   "outputs": [
    {
     "data": {
      "image/png": "[encoded data removed]",
      "text/plain": [
       "<Figure size 640x480 with 1 Axes>"
      ]
     },
     "metadata": {},
     "output_type": "display_data"
    }
   ],
   "source": [
    "tweet_df['edInput'].value_counts().plot(kind='bar')\n",
    "plt.show()"
   ]
  },
  {
   "cell_type": "code",
   "execution_count": 18,
   "id": "2cd38358",
   "metadata": {},
   "outputs": [],
   "source": [
    "y = tweet_df['edInput']\n",
    "X = tweet_df['text']"
   ]
  },
  {
   "cell_type": "code",
   "execution_count": 19,
   "id": "75ce2b8b",
   "metadata": {},
   "outputs": [],
   "source": [
    "from sklearn.model_selection import train_test_split"
   ]
  },
  {
   "cell_type": "code",
   "execution_count": 20,
   "id": "a706c44c",
   "metadata": {},
   "outputs": [],
   "source": [
    "X_train, X_test, y_train, y_test = train_test_split(X, y, test_size=0.2, random_state=101)"
   ]
  },
  {
   "cell_type": "code",
   "execution_count": 21,
   "id": "af91825b",
   "metadata": {},
   "outputs": [
    {
     "name": "stdout",
     "output_type": "stream",
     "text": [
      "Best cross-validation score:0.83\n",
      "Best parameters:{'logisticregression__C': 10}\n",
      "Model score:0.82\n"
     ]
    }
   ],
   "source": [
    "from sklearn.feature_extraction.text import TfidfVectorizer\n",
    "from sklearn.linear_model import LogisticRegression\n",
    "from sklearn.model_selection import GridSearchCV\n",
    "from sklearn.pipeline import make_pipeline\n",
    "pipe = make_pipeline(TfidfVectorizer(stop_words='english'),\n",
    "LogisticRegression(max_iter=1000))\n",
    "param_grid = {'logisticregression__C': [0.001, 0.01, 0.1, 1, 10]}\n",
    "grid = GridSearchCV(pipe, param_grid, cv=5)\n",
    "grid.fit(X_train, y_train)\n",
    "grid_preds=grid.predict(X_test)\n",
    "print(\"Best cross-validation score:{:.2f}\".format(grid.best_score_))\n",
    "print(\"Best parameters:{}\".format(grid.best_params_))\n",
    "print(\"Model score:{:.2f}\".format(grid.score(X_test,y_test)))"
   ]
  },
  {
   "cell_type": "code",
   "execution_count": 22,
   "id": "78f4de89",
   "metadata": {},
   "outputs": [],
   "source": [
    "from sklearn.metrics import confusion_matrix,classification_report,plot_confusion_matrix"
   ]
  },
  {
   "cell_type": "code",
   "execution_count": 23,
   "id": "aee789ad",
   "metadata": {},
   "outputs": [
    {
     "data": {
      "text/plain": [
       "array([[2673,  252],\n",
       "       [ 450,  549]], dtype=int64)"
      ]
     },
     "execution_count": 23,
     "metadata": {},
     "output_type": "execute_result"
    }
   ],
   "source": [
    "confusion_matrix(y_test,grid_preds)"
   ]
  },
  {
   "cell_type": "code",
   "execution_count": 24,
   "id": "799e63f2",
   "metadata": {},
   "outputs": [
    {
     "name": "stderr",
     "output_type": "stream",
     "text": [
      "C:\\Users\\Priyambada\\anaconda3\\lib\\site-packages\\sklearn\\utils\\deprecation.py:87: FutureWarning: Function plot_confusion_matrix is deprecated; Function `plot_confusion_matrix` is deprecated in 1.0 and will be removed in 1.2. Use one of the class methods: ConfusionMatrixDisplay.from_predictions or ConfusionMatrixDisplay.from_estimator.\n",
      "  warnings.warn(msg, category=FutureWarning)\n"
     ]
    },
    {
     "data": {
      "image/png": "[encoded data removed]",
      "text/plain": [
       "<Figure size 640x480 with 2 Axes>"
      ]
     },
     "metadata": {},
     "output_type": "display_data"
    }
   ],
   "source": [
    "plot_confusion_matrix(grid,X_test,y_test);"
   ]
  },
  {
   "cell_type": "code",
   "execution_count": 25,
   "id": "ff8fa6ad",
   "metadata": {},
   "outputs": [
    {
     "name": "stdout",
     "output_type": "stream",
     "text": [
      "              precision    recall  f1-score   support\n",
      "\n",
      "           1       0.86      0.91      0.88      2925\n",
      "           2       0.69      0.55      0.61       999\n",
      "\n",
      "    accuracy                           0.82      3924\n",
      "   macro avg       0.77      0.73      0.75      3924\n",
      "weighted avg       0.81      0.82      0.81      3924\n",
      "\n"
     ]
    }
   ],
   "source": [
    "print(classification_report(y_test,grid_preds))"
   ]
  },
  {
   "cell_type": "code",
   "execution_count": 26,
   "id": "4d7f0da5",
   "metadata": {},
   "outputs": [
    {
     "name": "stdout",
     "output_type": "stream",
     "text": [
      "Best cross-validation score:0.83\n",
      "Best parameters:{'svc__C': 10.0, 'svc__gamma': 'scale', 'svc__kernel': 'rbf'}\n",
      "Model score:0.83\n"
     ]
    }
   ],
   "source": [
    "from sklearn.svm import SVC\n",
    "pipe = make_pipeline(TfidfVectorizer(),SVC())\n",
    "param_grid = {'svc__C':np.logspace(-3,2,6),'svc__kernel':['linear','rbf'], 'svc__gamma':['scale','auto']}\n",
    "grid = GridSearchCV(pipe, param_grid, cv=5)\n",
    "grid.fit(X_train, y_train)\n",
    "grid_preds=grid.predict(X_test)\n",
    "print(\"Best cross-validation score:{:.2f}\".format(grid.best_score_))\n",
    "print(\"Best parameters:{}\".format(grid.best_params_))\n",
    "print(\"Model score:{:.2f}\".format(grid.score(X_test,y_test)))"
   ]
  },
  {
   "cell_type": "code",
   "execution_count": 27,
   "id": "c8685a0d",
   "metadata": {},
   "outputs": [
    {
     "data": {
      "text/plain": [
       "array([[2703,  222],\n",
       "       [ 432,  567]], dtype=int64)"
      ]
     },
     "execution_count": 27,
     "metadata": {},
     "output_type": "execute_result"
    }
   ],
   "source": [
    "confusion_matrix(y_test,grid_preds)"
   ]
  },
  {
   "cell_type": "code",
   "execution_count": 28,
   "id": "2ab36f39",
   "metadata": {},
   "outputs": [
    {
     "name": "stderr",
     "output_type": "stream",
     "text": [
      "C:\\Users\\Priyambada\\anaconda3\\lib\\site-packages\\sklearn\\utils\\deprecation.py:87: FutureWarning: Function plot_confusion_matrix is deprecated; Function `plot_confusion_matrix` is deprecated in 1.0 and will be removed in 1.2. Use one of the class methods: ConfusionMatrixDisplay.from_predictions or ConfusionMatrixDisplay.from_estimator.\n",
      "  warnings.warn(msg, category=FutureWarning)\n"
     ]
    },
    {
     "data": {
      "image/png": "[encoded data removed]",
      "text/plain": [
       "<Figure size 640x480 with 2 Axes>"
      ]
     },
     "metadata": {},
     "output_type": "display_data"
    }
   ],
   "source": [
    "plot_confusion_matrix(grid,X_test,y_test);"
   ]
  },
  {
   "cell_type": "code",
   "execution_count": 29,
   "id": "7a121bc8",
   "metadata": {},
   "outputs": [
    {
     "name": "stdout",
     "output_type": "stream",
     "text": [
      "              precision    recall  f1-score   support\n",
      "\n",
      "           1       0.86      0.92      0.89      2925\n",
      "           2       0.72      0.57      0.63       999\n",
      "\n",
      "    accuracy                           0.83      3924\n",
      "   macro avg       0.79      0.75      0.76      3924\n",
      "weighted avg       0.83      0.83      0.83      3924\n",
      "\n"
     ]
    }
   ],
   "source": [
    "print(classification_report(y_test,grid_preds))"
   ]
  },
  {
   "cell_type": "code",
   "execution_count": 30,
   "id": "fef5dc41",
   "metadata": {},
   "outputs": [
    {
     "name": "stdout",
     "output_type": "stream",
     "text": [
      "Model score:0.82\n"
     ]
    }
   ],
   "source": [
    "from sklearn.naive_bayes import MultinomialNB\n",
    "pipe = make_pipeline(TfidfVectorizer(stop_words='english'),\n",
    "MultinomialNB())\n",
    "pipe.fit(X_train, y_train)\n",
    "pipe_preds=pipe.predict(X_test)\n",
    "print(\"Model score:{:.2f}\".format(pipe.score(X_test,y_test)))"
   ]
  },
  {
   "cell_type": "code",
   "execution_count": 31,
   "id": "d16a9690",
   "metadata": {},
   "outputs": [
    {
     "data": {
      "text/plain": [
       "array([[2841,   84],\n",
       "       [ 620,  379]], dtype=int64)"
      ]
     },
     "execution_count": 31,
     "metadata": {},
     "output_type": "execute_result"
    }
   ],
   "source": [
    "confusion_matrix(y_test,pipe_preds)"
   ]
  },
  {
   "cell_type": "code",
   "execution_count": 32,
   "id": "327d063d",
   "metadata": {},
   "outputs": [
    {
     "name": "stderr",
     "output_type": "stream",
     "text": [
      "C:\\Users\\Priyambada\\anaconda3\\lib\\site-packages\\sklearn\\utils\\deprecation.py:87: FutureWarning: Function plot_confusion_matrix is deprecated; Function `plot_confusion_matrix` is deprecated in 1.0 and will be removed in 1.2. Use one of the class methods: ConfusionMatrixDisplay.from_predictions or ConfusionMatrixDisplay.from_estimator.\n",
      "  warnings.warn(msg, category=FutureWarning)\n"
     ]
    },
    {
     "data": {
      "image/png": "[encoded data removed]",
      "text/plain": [
       "<Figure size 640x480 with 2 Axes>"
      ]
     },
     "metadata": {},
     "output_type": "display_data"
    }
   ],
   "source": [
    "plot_confusion_matrix(pipe,X_test,y_test);"
   ]
  },
  {
   "cell_type": "code",
   "execution_count": 33,
   "id": "be5a5e14",
   "metadata": {},
   "outputs": [
    {
     "name": "stdout",
     "output_type": "stream",
     "text": [
      "              precision    recall  f1-score   support\n",
      "\n",
      "           1       0.82      0.97      0.89      2925\n",
      "           2       0.82      0.38      0.52       999\n",
      "\n",
      "    accuracy                           0.82      3924\n",
      "   macro avg       0.82      0.68      0.70      3924\n",
      "weighted avg       0.82      0.82      0.80      3924\n",
      "\n"
     ]
    }
   ],
   "source": [
    "print(classification_report(y_test,pipe_preds))"
   ]
  },
  {
   "cell_type": "code",
   "execution_count": 34,
   "id": "e11b306b",
   "metadata": {},
   "outputs": [
    {
     "name": "stdout",
     "output_type": "stream",
     "text": [
      "Best cross-validation score:0.83\n",
      "Best parameters:{'multinomialnb__alpha': 0.1}\n",
      "Model score:0.83\n"
     ]
    }
   ],
   "source": [
    "pipe = make_pipeline(TfidfVectorizer(stop_words='english'),\n",
    "MultinomialNB())\n",
    "param_grid = {'multinomialnb__alpha': (1, 0.1, 0.01, 0.001, 0.0001, 0.00001)}\n",
    "grid = GridSearchCV(pipe, param_grid, cv=5)\n",
    "grid.fit(X_train, y_train)\n",
    "grid_preds=grid.predict(X_test)\n",
    "print(\"Best cross-validation score:{:.2f}\".format(grid.best_score_))\n",
    "print(\"Best parameters:{}\".format(grid.best_params_))\n",
    "print(\"Model score:{:.2f}\".format(grid.score(X_test,y_test)))"
   ]
  },
  {
   "cell_type": "code",
   "execution_count": 35,
   "id": "27614d3c",
   "metadata": {},
   "outputs": [
    {
     "name": "stdout",
     "output_type": "stream",
     "text": [
      "              precision    recall  f1-score   support\n",
      "\n",
      "           1       0.87      0.91      0.89      2925\n",
      "           2       0.70      0.61      0.65       999\n",
      "\n",
      "    accuracy                           0.83      3924\n",
      "   macro avg       0.79      0.76      0.77      3924\n",
      "weighted avg       0.83      0.83      0.83      3924\n",
      "\n"
     ]
    }
   ],
   "source": [
    "print(classification_report(y_test,grid_preds))"
   ]
  },
  {
   "cell_type": "code",
   "execution_count": null,
   "id": "a16f7ff6",
   "metadata": {},
   "outputs": [],
   "source": []
  },
  {
   "cell_type": "code",
   "execution_count": 36,
   "id": "37b84ed7",
   "metadata": {},
   "outputs": [
    {
     "name": "stdout",
     "output_type": "stream",
     "text": [
      "Best cross-validation score:0.84\n",
      "Best parameters:{'logisticregression__C': 100, 'tfidfvectorizer__ngram_range': (1, 3)}\n",
      "Model score:0.84\n"
     ]
    }
   ],
   "source": [
    "pipe = make_pipeline(TfidfVectorizer(stop_words='english'), LogisticRegression(max_iter=1000))\n",
    "# running the grid search takes a long time because of the\n",
    "# relatively large grid and the inclusion of trigrams\n",
    "param_grid = {\"logisticregression__C\": [0.001, 0.01, 0.1, 1, 10, 100],\n",
    "\"tfidfvectorizer__ngram_range\": [(1, 1), (1, 2), (1, 3)]}\n",
    "grid = GridSearchCV(pipe, param_grid, cv=5)\n",
    "grid.fit(X_train, y_train)\n",
    "grid_preds=grid.predict(X_test)\n",
    "print(\"Best cross-validation score:{:.2f}\".format(grid.best_score_))\n",
    "print(\"Best parameters:{}\".format(grid.best_params_))\n",
    "print(\"Model score:{:.2f}\".format(grid.score(X_test,y_test)))"
   ]
  },
  {
   "cell_type": "code",
   "execution_count": 37,
   "id": "0e20d6b1",
   "metadata": {},
   "outputs": [
    {
     "name": "stdout",
     "output_type": "stream",
     "text": [
      "              precision    recall  f1-score   support\n",
      "\n",
      "           1       0.87      0.92      0.89      2925\n",
      "           2       0.71      0.59      0.64       999\n",
      "\n",
      "    accuracy                           0.84      3924\n",
      "   macro avg       0.79      0.75      0.77      3924\n",
      "weighted avg       0.83      0.84      0.83      3924\n",
      "\n"
     ]
    }
   ],
   "source": [
    "print(classification_report(y_test,grid_preds))"
   ]
  },
  {
   "cell_type": "code",
   "execution_count": null,
   "id": "c0e4bb99",
   "metadata": {},
   "outputs": [],
   "source": []
  }
 ],
 "metadata": {
  "kernelspec": {
   "display_name": "Python 3 (ipykernel)",
   "language": "python",
   "name": "python3"
  },
  "language_info": {
   "codemirror_mode": {
    "name": "ipython",
    "version": 3
   },
   "file_extension": ".py",
   "mimetype": "text/x-python",
   "name": "python",
   "nbconvert_exporter": "python",
   "pygments_lexer": "ipython3",
   "version": "3.9.13"
  }
 },
 "nbformat": 4,
 "nbformat_minor": 5
}
