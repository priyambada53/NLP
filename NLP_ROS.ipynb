{
 "cells": [
  {
   "cell_type": "markdown",
   "id": "f59d1805",
   "metadata": {},
   "source": [
    "**Import the Necessary Dependencies**"
   ]
  },
  {
   "cell_type": "code",
   "execution_count": 1,
   "id": "3d526d59",
   "metadata": {},
   "outputs": [],
   "source": [
    "# utilities\n",
    "import re\n",
    "import numpy as np\n",
    "import pandas as pd\n",
    "# plotting\n",
    "import seaborn as sns\n",
    "import matplotlib.pyplot as plt\n",
    "# nltk\n",
    "from nltk.stem import WordNetLemmatizer\n",
    "# sklearn\n",
    "from sklearn.svm import LinearSVC\n",
    "from sklearn.naive_bayes import BernoulliNB\n",
    "from sklearn.linear_model import LogisticRegression\n",
    "from sklearn.model_selection import train_test_split\n",
    "from sklearn.feature_extraction.text import TfidfVectorizer\n",
    "from sklearn.metrics import confusion_matrix, classification_report"
   ]
  },
  {
   "cell_type": "markdown",
   "id": "c764ee20",
   "metadata": {},
   "source": [
    "**Read and Load the Dataset**"
   ]
  },
  {
   "cell_type": "code",
   "execution_count": 2,
   "id": "4a30dc01",
   "metadata": {},
   "outputs": [],
   "source": [
    "tweet_df = pd.read_csv(r'D:\\MACHINE LEARNING\\Mentorship program\\NLP Projects\\NLP_Project_first\\tweet_data.csv')"
   ]
  },
  {
   "cell_type": "markdown",
   "id": "cf33ba8e",
   "metadata": {},
   "source": [
    "**Exploratory Data Analysis**"
   ]
  },
  {
   "cell_type": "code",
   "execution_count": 3,
   "id": "461a91c1",
   "metadata": {},
   "outputs": [
    {
     "data": {
      "text/html": [
       "<div>\n",
       "<style scoped>\n",
       "    .dataframe tbody tr th:only-of-type {\n",
       "        vertical-align: middle;\n",
       "    }\n",
       "\n",
       "    .dataframe tbody tr th {\n",
       "        vertical-align: top;\n",
       "    }\n",
       "\n",
       "    .dataframe thead th {\n",
       "        text-align: right;\n",
       "    }\n",
       "</style>\n",
       "<table border=\"1\" class=\"dataframe\">\n",
       "  <thead>\n",
       "    <tr style=\"text-align: right;\">\n",
       "      <th></th>\n",
       "      <th>tweetID</th>\n",
       "      <th>crDate</th>\n",
       "      <th>edInput</th>\n",
       "      <th>editor</th>\n",
       "      <th>engages</th>\n",
       "      <th>isApproved</th>\n",
       "      <th>isEdNeed</th>\n",
       "      <th>isRT</th>\n",
       "      <th>likes</th>\n",
       "      <th>photoUrl</th>\n",
       "      <th>retweets</th>\n",
       "      <th>rtUsID</th>\n",
       "      <th>text</th>\n",
       "      <th>topicName</th>\n",
       "      <th>usFlwrs</th>\n",
       "      <th>usID</th>\n",
       "      <th>usName</th>\n",
       "      <th>videoUrl</th>\n",
       "    </tr>\n",
       "  </thead>\n",
       "  <tbody>\n",
       "    <tr>\n",
       "      <th>0</th>\n",
       "      <td>1070867471245164544</td>\n",
       "      <td>2018-12-07 02:27:55</td>\n",
       "      <td>-1</td>\n",
       "      <td>-1</td>\n",
       "      <td>98</td>\n",
       "      <td>False</td>\n",
       "      <td>True</td>\n",
       "      <td>False</td>\n",
       "      <td>64</td>\n",
       "      <td>https://pbs.twimg.com/media/Dtx8SiIWkAImVsb.jpg</td>\n",
       "      <td>34</td>\n",
       "      <td>-1</td>\n",
       "      <td>The immediate impulse for an alliance of the E...</td>\n",
       "      <td>Business</td>\n",
       "      <td>23464532</td>\n",
       "      <td>5988062</td>\n",
       "      <td>The Economist</td>\n",
       "      <td>NaN</td>\n",
       "    </tr>\n",
       "    <tr>\n",
       "      <th>1</th>\n",
       "      <td>1070868017888837633</td>\n",
       "      <td>2018-12-07 02:30:05</td>\n",
       "      <td>-1</td>\n",
       "      <td>-1</td>\n",
       "      <td>13</td>\n",
       "      <td>False</td>\n",
       "      <td>True</td>\n",
       "      <td>False</td>\n",
       "      <td>10</td>\n",
       "      <td>https://pbs.twimg.com/media/Dtx8yTyW4AEciqP.jpg</td>\n",
       "      <td>3</td>\n",
       "      <td>-1</td>\n",
       "      <td>America's economy is flashing some warning sig...</td>\n",
       "      <td>Business</td>\n",
       "      <td>1732809</td>\n",
       "      <td>16184358</td>\n",
       "      <td>CNN Business</td>\n",
       "      <td>NaN</td>\n",
       "    </tr>\n",
       "    <tr>\n",
       "      <th>2</th>\n",
       "      <td>1070868012864028673</td>\n",
       "      <td>2018-12-07 02:30:04</td>\n",
       "      <td>-1</td>\n",
       "      <td>-1</td>\n",
       "      <td>12</td>\n",
       "      <td>False</td>\n",
       "      <td>True</td>\n",
       "      <td>False</td>\n",
       "      <td>8</td>\n",
       "      <td>NaN</td>\n",
       "      <td>4</td>\n",
       "      <td>-1</td>\n",
       "      <td>Lyft files for what is expected to be one of t...</td>\n",
       "      <td>Business</td>\n",
       "      <td>2253989</td>\n",
       "      <td>25053299</td>\n",
       "      <td>FORTUNE</td>\n",
       "      <td>NaN</td>\n",
       "    </tr>\n",
       "    <tr>\n",
       "      <th>3</th>\n",
       "      <td>1070867995239555075</td>\n",
       "      <td>2018-12-07 02:30:00</td>\n",
       "      <td>-1</td>\n",
       "      <td>-1</td>\n",
       "      <td>5</td>\n",
       "      <td>False</td>\n",
       "      <td>True</td>\n",
       "      <td>False</td>\n",
       "      <td>4</td>\n",
       "      <td>NaN</td>\n",
       "      <td>1</td>\n",
       "      <td>-1</td>\n",
       "      <td>Exporters still waiting to get Rs 6,000 crore ...</td>\n",
       "      <td>Business</td>\n",
       "      <td>1704056</td>\n",
       "      <td>43855487</td>\n",
       "      <td>Business Standard</td>\n",
       "      <td>NaN</td>\n",
       "    </tr>\n",
       "    <tr>\n",
       "      <th>4</th>\n",
       "      <td>1070867995205885952</td>\n",
       "      <td>2018-12-07 02:30:00</td>\n",
       "      <td>-1</td>\n",
       "      <td>-1</td>\n",
       "      <td>5</td>\n",
       "      <td>False</td>\n",
       "      <td>True</td>\n",
       "      <td>False</td>\n",
       "      <td>2</td>\n",
       "      <td>NaN</td>\n",
       "      <td>3</td>\n",
       "      <td>-1</td>\n",
       "      <td>Ride-hailing firm Lyft races to leave Uber beh...</td>\n",
       "      <td>Business</td>\n",
       "      <td>1997662</td>\n",
       "      <td>15110357</td>\n",
       "      <td>Reuters Business</td>\n",
       "      <td>https://video.twimg.com/amplify_video/10708116...</td>\n",
       "    </tr>\n",
       "  </tbody>\n",
       "</table>\n",
       "</div>"
      ],
      "text/plain": [
       "               tweetID               crDate  edInput  editor  engages  \\\n",
       "0  1070867471245164544  2018-12-07 02:27:55       -1      -1       98   \n",
       "1  1070868017888837633  2018-12-07 02:30:05       -1      -1       13   \n",
       "2  1070868012864028673  2018-12-07 02:30:04       -1      -1       12   \n",
       "3  1070867995239555075  2018-12-07 02:30:00       -1      -1        5   \n",
       "4  1070867995205885952  2018-12-07 02:30:00       -1      -1        5   \n",
       "\n",
       "   isApproved  isEdNeed   isRT  likes  \\\n",
       "0       False      True  False     64   \n",
       "1       False      True  False     10   \n",
       "2       False      True  False      8   \n",
       "3       False      True  False      4   \n",
       "4       False      True  False      2   \n",
       "\n",
       "                                          photoUrl  retweets  rtUsID  \\\n",
       "0  https://pbs.twimg.com/media/Dtx8SiIWkAImVsb.jpg        34      -1   \n",
       "1  https://pbs.twimg.com/media/Dtx8yTyW4AEciqP.jpg         3      -1   \n",
       "2                                              NaN         4      -1   \n",
       "3                                              NaN         1      -1   \n",
       "4                                              NaN         3      -1   \n",
       "\n",
       "                                                text topicName   usFlwrs  \\\n",
       "0  The immediate impulse for an alliance of the E...  Business  23464532   \n",
       "1  America's economy is flashing some warning sig...  Business   1732809   \n",
       "2  Lyft files for what is expected to be one of t...  Business   2253989   \n",
       "3  Exporters still waiting to get Rs 6,000 crore ...  Business   1704056   \n",
       "4  Ride-hailing firm Lyft races to leave Uber beh...  Business   1997662   \n",
       "\n",
       "       usID             usName  \\\n",
       "0   5988062      The Economist   \n",
       "1  16184358       CNN Business   \n",
       "2  25053299            FORTUNE   \n",
       "3  43855487  Business Standard   \n",
       "4  15110357   Reuters Business   \n",
       "\n",
       "                                            videoUrl  \n",
       "0                                                NaN  \n",
       "1                                                NaN  \n",
       "2                                                NaN  \n",
       "3                                                NaN  \n",
       "4  https://video.twimg.com/amplify_video/10708116...  "
      ]
     },
     "execution_count": 3,
     "metadata": {},
     "output_type": "execute_result"
    }
   ],
   "source": [
    "tweet_df.head()"
   ]
  },
  {
   "cell_type": "code",
   "execution_count": 4,
   "id": "e749fddf",
   "metadata": {},
   "outputs": [
    {
     "data": {
      "text/plain": [
       "Business                    164602\n",
       "News                        131973\n",
       "Motivational                 84750\n",
       "Technology                   47679\n",
       "Design & Architecture        44987\n",
       "Cryptocurrency               38623\n",
       "Art                          36697\n",
       "Interesting                  28615\n",
       "Animal                       28202\n",
       "Memes                        26349\n",
       "Nature                       25021\n",
       "Photography                  23638\n",
       "DIY & Craft                  22392\n",
       "Space                        14226\n",
       "Funny                        13654\n",
       "Travel                       13215\n",
       "Random                       11825\n",
       "Editorial Pics               11026\n",
       "Flowers                       9450\n",
       "Mindfulness                   2779\n",
       "Fitness                       2454\n",
       "Nanotech                       792\n",
       "World Leaders                  663\n",
       "Psychology                     544\n",
       "US News                        279\n",
       "science                        244\n",
       "Stocks                         188\n",
       "Humor                          154\n",
       "Spirituality                   150\n",
       "Entrepreneurship               148\n",
       "Science                        141\n",
       "Medical                        100\n",
       "Digital Media & Internet        94\n",
       "Startup                         87\n",
       "Biotech                         77\n",
       "Personal Development            38\n",
       "Informative                     24\n",
       "Love                            12\n",
       "Journalists                     11\n",
       "Fashion                         11\n",
       "Basketball                       1\n",
       "Poem                             1\n",
       "Name: topicName, dtype: int64"
      ]
     },
     "execution_count": 4,
     "metadata": {},
     "output_type": "execute_result"
    }
   ],
   "source": [
    "tweet_df['topicName'].value_counts()"
   ]
  },
  {
   "cell_type": "code",
   "execution_count": 5,
   "id": "9b3821b0",
   "metadata": {},
   "outputs": [
    {
     "data": {
      "text/plain": [
       "Index(['tweetID', 'crDate', 'edInput', 'editor', 'engages', 'isApproved',\n",
       "       'isEdNeed', 'isRT', 'likes', 'photoUrl', 'retweets', 'rtUsID', 'text',\n",
       "       'topicName', 'usFlwrs', 'usID', 'usName', 'videoUrl'],\n",
       "      dtype='object')"
      ]
     },
     "execution_count": 5,
     "metadata": {},
     "output_type": "execute_result"
    }
   ],
   "source": [
    "tweet_df=tweet_df[tweet_df['topicName']=='Technology']\n",
    "tweet_df.columns"
   ]
  },
  {
   "cell_type": "code",
   "execution_count": 6,
   "id": "e73c2126",
   "metadata": {},
   "outputs": [],
   "source": [
    "tweet_df=tweet_df[['text','edInput']]"
   ]
  },
  {
   "cell_type": "code",
   "execution_count": 7,
   "id": "c74639ba",
   "metadata": {},
   "outputs": [
    {
     "data": {
      "text/plain": [
       "-1    22235\n",
       " 1    14652\n",
       " 2     4965\n",
       " 4     4761\n",
       " 3     1066\n",
       "Name: edInput, dtype: int64"
      ]
     },
     "execution_count": 7,
     "metadata": {},
     "output_type": "execute_result"
    }
   ],
   "source": [
    "tweet_df['edInput'].value_counts()"
   ]
  },
  {
   "cell_type": "code",
   "execution_count": 8,
   "id": "f42f7215",
   "metadata": {},
   "outputs": [],
   "source": [
    "tweet_df=tweet_df[(tweet_df['edInput'] != -1) & (tweet_df['edInput'] != 3) & (tweet_df['edInput'] != 4)]"
   ]
  },
  {
   "cell_type": "code",
   "execution_count": 9,
   "id": "3d7ba4e7",
   "metadata": {},
   "outputs": [
    {
     "data": {
      "text/html": [
       "<div>\n",
       "<style scoped>\n",
       "    .dataframe tbody tr th:only-of-type {\n",
       "        vertical-align: middle;\n",
       "    }\n",
       "\n",
       "    .dataframe tbody tr th {\n",
       "        vertical-align: top;\n",
       "    }\n",
       "\n",
       "    .dataframe thead th {\n",
       "        text-align: right;\n",
       "    }\n",
       "</style>\n",
       "<table border=\"1\" class=\"dataframe\">\n",
       "  <thead>\n",
       "    <tr style=\"text-align: right;\">\n",
       "      <th></th>\n",
       "      <th>text</th>\n",
       "      <th>edInput</th>\n",
       "    </tr>\n",
       "  </thead>\n",
       "  <tbody>\n",
       "    <tr>\n",
       "      <th>0</th>\n",
       "      <td>This paper Boeing 777 puts all other paper air...</td>\n",
       "      <td>1</td>\n",
       "    </tr>\n",
       "    <tr>\n",
       "      <th>1</th>\n",
       "      <td>This long-range wireless charging system charg...</td>\n",
       "      <td>1</td>\n",
       "    </tr>\n",
       "    <tr>\n",
       "      <th>2</th>\n",
       "      <td>Elon Musk has created and sold multiple compan...</td>\n",
       "      <td>1</td>\n",
       "    </tr>\n",
       "    <tr>\n",
       "      <th>3</th>\n",
       "      <td>Honda's $4.9 million private jet is an absolut...</td>\n",
       "      <td>1</td>\n",
       "    </tr>\n",
       "    <tr>\n",
       "      <th>4</th>\n",
       "      <td>The US Marines pieced together this temporary ...</td>\n",
       "      <td>1</td>\n",
       "    </tr>\n",
       "    <tr>\n",
       "      <th>...</th>\n",
       "      <td>...</td>\n",
       "      <td>...</td>\n",
       "    </tr>\n",
       "    <tr>\n",
       "      <th>19612</th>\n",
       "      <td>Tomorrow on @cheddar, my exclusive interview w...</td>\n",
       "      <td>2</td>\n",
       "    </tr>\n",
       "    <tr>\n",
       "      <th>19613</th>\n",
       "      <td>Netflix documentary The Great Hack turns the C...</td>\n",
       "      <td>2</td>\n",
       "    </tr>\n",
       "    <tr>\n",
       "      <th>19614</th>\n",
       "      <td>Hulu is developing a Hitchhiker’s Guide to the...</td>\n",
       "      <td>1</td>\n",
       "    </tr>\n",
       "    <tr>\n",
       "      <th>19615</th>\n",
       "      <td>This machine folds dumplings super fast. https...</td>\n",
       "      <td>1</td>\n",
       "    </tr>\n",
       "    <tr>\n",
       "      <th>19616</th>\n",
       "      <td>Heat records topple in Europe. Again. https://...</td>\n",
       "      <td>2</td>\n",
       "    </tr>\n",
       "  </tbody>\n",
       "</table>\n",
       "<p>19617 rows × 2 columns</p>\n",
       "</div>"
      ],
      "text/plain": [
       "                                                    text  edInput\n",
       "0      This paper Boeing 777 puts all other paper air...        1\n",
       "1      This long-range wireless charging system charg...        1\n",
       "2      Elon Musk has created and sold multiple compan...        1\n",
       "3      Honda's $4.9 million private jet is an absolut...        1\n",
       "4      The US Marines pieced together this temporary ...        1\n",
       "...                                                  ...      ...\n",
       "19612  Tomorrow on @cheddar, my exclusive interview w...        2\n",
       "19613  Netflix documentary The Great Hack turns the C...        2\n",
       "19614  Hulu is developing a Hitchhiker’s Guide to the...        1\n",
       "19615  This machine folds dumplings super fast. https...        1\n",
       "19616  Heat records topple in Europe. Again. https://...        2\n",
       "\n",
       "[19617 rows x 2 columns]"
      ]
     },
     "execution_count": 9,
     "metadata": {},
     "output_type": "execute_result"
    }
   ],
   "source": [
    "tweet_df.reset_index(drop=True)"
   ]
  },
  {
   "cell_type": "code",
   "execution_count": 10,
   "id": "2bdc7d0b",
   "metadata": {},
   "outputs": [
    {
     "name": "stdout",
     "output_type": "stream",
     "text": [
      "<class 'pandas.core.frame.DataFrame'>\n",
      "Int64Index: 19617 entries, 60071 to 785452\n",
      "Data columns (total 2 columns):\n",
      " #   Column   Non-Null Count  Dtype \n",
      "---  ------   --------------  ----- \n",
      " 0   text     19617 non-null  object\n",
      " 1   edInput  19617 non-null  int64 \n",
      "dtypes: int64(1), object(1)\n",
      "memory usage: 459.8+ KB\n"
     ]
    }
   ],
   "source": [
    "tweet_df.info()"
   ]
  },
  {
   "cell_type": "markdown",
   "id": "ff9e6414",
   "metadata": {},
   "source": [
    "**Checking for null values**"
   ]
  },
  {
   "cell_type": "code",
   "execution_count": 11,
   "id": "11c482f2",
   "metadata": {},
   "outputs": [
    {
     "data": {
      "text/plain": [
       "text       0\n",
       "edInput    0\n",
       "dtype: int64"
      ]
     },
     "execution_count": 11,
     "metadata": {},
     "output_type": "execute_result"
    }
   ],
   "source": [
    "# np.sum(tweet_df.isnull().any(axis=1))\n",
    "tweet_df.isnull().sum()"
   ]
  },
  {
   "cell_type": "markdown",
   "id": "46e3f66c",
   "metadata": {},
   "source": [
    "**Check unique target values**"
   ]
  },
  {
   "cell_type": "code",
   "execution_count": 12,
   "id": "26214ba9",
   "metadata": {},
   "outputs": [
    {
     "data": {
      "text/plain": [
       "array([1, 2], dtype=int64)"
      ]
     },
     "execution_count": 12,
     "metadata": {},
     "output_type": "execute_result"
    }
   ],
   "source": [
    "tweet_df['edInput'].unique()"
   ]
  },
  {
   "cell_type": "markdown",
   "id": "3e644fbc",
   "metadata": {},
   "source": [
    "**Check the number of target values**"
   ]
  },
  {
   "cell_type": "code",
   "execution_count": 13,
   "id": "26d183f0",
   "metadata": {},
   "outputs": [
    {
     "data": {
      "text/plain": [
       "2"
      ]
     },
     "execution_count": 13,
     "metadata": {},
     "output_type": "execute_result"
    }
   ],
   "source": [
    "tweet_df['edInput'].nunique()"
   ]
  },
  {
   "cell_type": "code",
   "execution_count": 14,
   "id": "ffa0a3fb",
   "metadata": {},
   "outputs": [],
   "source": [
    "tweet_df['edInput'] = tweet_df['edInput'].replace(2,0)"
   ]
  },
  {
   "cell_type": "markdown",
   "id": "9cafed73",
   "metadata": {},
   "source": [
    "**Data Visualization of Target Variables**"
   ]
  },
  {
   "cell_type": "code",
   "execution_count": 15,
   "id": "9b14d02c",
   "metadata": {},
   "outputs": [
    {
     "data": {
      "text/plain": [
       "1    0.746903\n",
       "0    0.253097\n",
       "Name: edInput, dtype: float64"
      ]
     },
     "execution_count": 15,
     "metadata": {},
     "output_type": "execute_result"
    }
   ],
   "source": [
    "tweet_df['edInput'].value_counts(normalize=True)"
   ]
  },
  {
   "cell_type": "code",
   "execution_count": 16,
   "id": "d05ff015",
   "metadata": {},
   "outputs": [
    {
     "data": {
      "image/png": "[encoded data removed]",
      "text/plain": [
       "<Figure size 640x480 with 1 Axes>"
      ]
     },
     "metadata": {},
     "output_type": "display_data"
    }
   ],
   "source": [
    "tweet_df['edInput'].value_counts(normalize=True).plot(kind='bar')\n",
    "plt.show()"
   ]
  },
  {
   "cell_type": "markdown",
   "id": "67674dd9",
   "metadata": {},
   "source": [
    "**Data Preprocessing**"
   ]
  },
  {
   "cell_type": "markdown",
   "id": "7ac4836f",
   "metadata": {},
   "source": [
    "In the above-given problem statement, before training the model, we performed various pre-processing steps on the dataset that mainly dealt with removing stopwords, removing special characters like emojis, hashtags, etc. The text document is then converted into lowercase for better generalization.\n",
    "Subsequently, the punctuations were cleaned and removed, thereby reducing the unnecessary noise from the dataset. After that, we also removed the repeating characters from the words along with removing the URLs as they do not have any significant importance.\n",
    "At last, we then performed Stemming(reducing the words to their derived stems) and Lemmatization(reducing the derived words to their root form, known as lemma) for better results."
   ]
  },
  {
   "cell_type": "markdown",
   "id": "8fa4017d",
   "metadata": {},
   "source": [
    "**Making statement text in lowercase**"
   ]
  },
  {
   "cell_type": "code",
   "execution_count": 17,
   "id": "690530e9",
   "metadata": {},
   "outputs": [
    {
     "data": {
      "text/plain": [
       "60071    this paper boeing 777 puts all other paper air...\n",
       "60462    this long-range wireless charging system charg...\n",
       "61260    elon musk has created and sold multiple compan...\n",
       "61996    honda's $4.9 million private jet is an absolut...\n",
       "64482    the us marines pieced together this temporary ...\n",
       "Name: text, dtype: object"
      ]
     },
     "execution_count": 17,
     "metadata": {},
     "output_type": "execute_result"
    }
   ],
   "source": [
    "tweet_df['text']=tweet_df['text'].str.lower()\n",
    "tweet_df['text'].head()"
   ]
  },
  {
   "cell_type": "markdown",
   "id": "2fed4cae",
   "metadata": {},
   "source": [
    "**Cleaning and removing punctuations**"
   ]
  },
  {
   "cell_type": "code",
   "execution_count": 18,
   "id": "ea5ae9e7",
   "metadata": {},
   "outputs": [
    {
     "data": {
      "text/plain": [
       "60071    this paper boeing 777 puts all other paper air...\n",
       "60462    this longrange wireless charging system charge...\n",
       "61260    elon musk has created and sold multiple compan...\n",
       "61996    hondas 49 million private jet is an absolute g...\n",
       "64482    the us marines pieced together this temporary ...\n",
       "Name: text, dtype: object"
      ]
     },
     "execution_count": 18,
     "metadata": {},
     "output_type": "execute_result"
    }
   ],
   "source": [
    "import string\n",
    "string.punctuation\n",
    "def remove_punctuation(text):\n",
    "    no_punct=[words for words in text if words not in string.punctuation]\n",
    "    words_wo_punct=''.join(no_punct)\n",
    "    return words_wo_punct\n",
    "tweet_df['text']=tweet_df['text'].apply(lambda x: remove_punctuation(x))\n",
    "tweet_df['text'].head()"
   ]
  },
  {
   "cell_type": "markdown",
   "id": "12817f3f",
   "metadata": {},
   "source": [
    "**Cleaning and removing URLs**"
   ]
  },
  {
   "cell_type": "code",
   "execution_count": 19,
   "id": "98ed7292",
   "metadata": {},
   "outputs": [],
   "source": [
    "tweet_df['text'] = tweet_df['text'].replace(r'http\\S+', '', regex=True).replace(r'www\\S+', '', regex=True)"
   ]
  },
  {
   "cell_type": "markdown",
   "id": "8ed86a71",
   "metadata": {},
   "source": [
    "**Cleaning and removing numeric numbers**"
   ]
  },
  {
   "cell_type": "code",
   "execution_count": 20,
   "id": "840bcc96",
   "metadata": {},
   "outputs": [
    {
     "data": {
      "text/plain": [
       "60071    this paper boeing  puts all other paper airpla...\n",
       "60462    this longrange wireless charging system charge...\n",
       "61260    elon musk has created and sold multiple compan...\n",
       "61996    hondas  million private jet is an absolute gam...\n",
       "64482    the us marines pieced together this temporary ...\n",
       "Name: text, dtype: object"
      ]
     },
     "execution_count": 20,
     "metadata": {},
     "output_type": "execute_result"
    }
   ],
   "source": [
    "def cleaning_numbers(data):\n",
    "    return re.sub('[0-9]+', '', data)\n",
    "tweet_df['text']  = tweet_df['text'] .apply(lambda x: cleaning_numbers(x))\n",
    "tweet_df['text'].head()"
   ]
  },
  {
   "cell_type": "markdown",
   "id": "2d3970d6",
   "metadata": {},
   "source": [
    "**Defining set containing all stopwords in English**"
   ]
  },
  {
   "cell_type": "code",
   "execution_count": 21,
   "id": "e0074c56",
   "metadata": {},
   "outputs": [],
   "source": [
    "stopwordlist = ['a', 'about', 'above', 'after', 'again', 'ain', 'all', 'am', 'an',\n",
    "             'and','any','are', 'as', 'at', 'be', 'because', 'been', 'before',\n",
    "             'being', 'below', 'between','both', 'by', 'can', 'd', 'did', 'do',\n",
    "             'does', 'doing', 'down', 'during', 'each','few', 'for', 'from',\n",
    "             'further', 'had', 'has', 'have', 'having', 'he', 'her', 'here',\n",
    "             'hers', 'herself', 'him', 'himself', 'his', 'how', 'i', 'if', 'in',\n",
    "             'into','is', 'it', 'its', 'itself', 'just', 'll', 'm', 'ma',\n",
    "             'me', 'more', 'most','my', 'myself', 'now', 'o', 'of', 'on', 'once',\n",
    "             'only', 'or', 'other', 'our', 'ours','ourselves', 'out', 'own', 're','s', 'same', 'she', \"shes\", 'should', \"shouldve\",'so', 'some', 'such',\n",
    "             't', 'than', 'that', \"thatll\", 'the', 'their', 'theirs', 'them',\n",
    "             'themselves', 'then', 'there', 'these', 'they', 'this', 'those',\n",
    "             'through', 'to', 'too','under', 'until', 'up', 've', 'very', 'was',\n",
    "             'we', 'were', 'what', 'when', 'where','which','while', 'who', 'whom',\n",
    "             'why', 'will', 'with', 'won', 'y', 'you', \"youd\",\"youll\", \"youre\",\n",
    "             \"youve\", 'your', 'yours', 'yourself', 'yourselves']"
   ]
  },
  {
   "cell_type": "markdown",
   "id": "46050dfd",
   "metadata": {},
   "source": [
    "**Cleaning and removing the above stop words list from the tweet text**"
   ]
  },
  {
   "cell_type": "code",
   "execution_count": 22,
   "id": "1b65c45d",
   "metadata": {},
   "outputs": [
    {
     "data": {
      "text/plain": [
       "60071              paper boeing puts paper airplanes shame\n",
       "60462    longrange wireless charging system charges dev...\n",
       "61260            elon musk created sold multiple companies\n",
       "61996      hondas million private jet absolute gamechanger\n",
       "64482    us marines pieced together temporary bridge li...\n",
       "Name: text, dtype: object"
      ]
     },
     "execution_count": 22,
     "metadata": {},
     "output_type": "execute_result"
    }
   ],
   "source": [
    "STOPWORDS = set(stopwordlist)\n",
    "def cleaning_stopwords(text):\n",
    "    return \" \".join([word for word in str(text).split() if word not in STOPWORDS])\n",
    "tweet_df['text'] = tweet_df['text'].apply(lambda text: cleaning_stopwords(text))\n",
    "tweet_df['text'].head()"
   ]
  },
  {
   "cell_type": "markdown",
   "id": "4758d15e",
   "metadata": {},
   "source": [
    "**Cleaning and removing repeating characters**"
   ]
  },
  {
   "cell_type": "code",
   "execution_count": 23,
   "id": "40fb654f",
   "metadata": {},
   "outputs": [
    {
     "data": {
      "text/plain": [
       "60071              paper boeing puts paper airplanes shame\n",
       "60462    longrange wireless charging system charges dev...\n",
       "61260            elon musk created sold multiple companies\n",
       "61996      hondas million private jet absolute gamechanger\n",
       "64482    us marines pieced together temporary bridge li...\n",
       "Name: text, dtype: object"
      ]
     },
     "execution_count": 23,
     "metadata": {},
     "output_type": "execute_result"
    }
   ],
   "source": [
    "def cleaning_repeating_char(text):\n",
    "    return re.sub(r'(.)1+', r'1', text)\n",
    "tweet_df['text'] = tweet_df['text'].apply(lambda x: cleaning_repeating_char(x))\n",
    "tweet_df['text'].head()"
   ]
  },
  {
   "cell_type": "markdown",
   "id": "1062f83d",
   "metadata": {},
   "source": [
    "**Getting tokenization of tweet text**"
   ]
  },
  {
   "cell_type": "code",
   "execution_count": 24,
   "id": "8973763f",
   "metadata": {},
   "outputs": [],
   "source": [
    "import nltk"
   ]
  },
  {
   "cell_type": "code",
   "execution_count": 25,
   "id": "db3209ae",
   "metadata": {},
   "outputs": [
    {
     "name": "stderr",
     "output_type": "stream",
     "text": [
      "[nltk_data] Downloading package punkt to\n",
      "[nltk_data]     C:\\Users\\Priyambada\\AppData\\Roaming\\nltk_data...\n",
      "[nltk_data]   Package punkt is already up-to-date!\n"
     ]
    },
    {
     "data": {
      "text/plain": [
       "True"
      ]
     },
     "execution_count": 25,
     "metadata": {},
     "output_type": "execute_result"
    }
   ],
   "source": [
    "nltk.download('punkt')"
   ]
  },
  {
   "cell_type": "code",
   "execution_count": 26,
   "id": "00ede7c0",
   "metadata": {},
   "outputs": [],
   "source": [
    "# from nltk.tokenize import word_tokenize\n",
    "# tweet_df['text'].apply(word_tokenize)\n",
    "# tweet_df['text'].iloc[0]"
   ]
  },
  {
   "cell_type": "code",
   "execution_count": 27,
   "id": "3db7c69a",
   "metadata": {},
   "outputs": [
    {
     "data": {
      "text/html": [
       "<div>\n",
       "<style scoped>\n",
       "    .dataframe tbody tr th:only-of-type {\n",
       "        vertical-align: middle;\n",
       "    }\n",
       "\n",
       "    .dataframe tbody tr th {\n",
       "        vertical-align: top;\n",
       "    }\n",
       "\n",
       "    .dataframe thead th {\n",
       "        text-align: right;\n",
       "    }\n",
       "</style>\n",
       "<table border=\"1\" class=\"dataframe\">\n",
       "  <thead>\n",
       "    <tr style=\"text-align: right;\">\n",
       "      <th></th>\n",
       "      <th>text</th>\n",
       "      <th>edInput</th>\n",
       "      <th>text_tokenize</th>\n",
       "    </tr>\n",
       "  </thead>\n",
       "  <tbody>\n",
       "    <tr>\n",
       "      <th>60071</th>\n",
       "      <td>paper boeing puts paper airplanes shame</td>\n",
       "      <td>1</td>\n",
       "      <td>[paper, boeing, puts, paper, airplanes, shame]</td>\n",
       "    </tr>\n",
       "    <tr>\n",
       "      <th>60462</th>\n",
       "      <td>longrange wireless charging system charges dev...</td>\n",
       "      <td>1</td>\n",
       "      <td>[longrange, wireless, charging, system, charge...</td>\n",
       "    </tr>\n",
       "    <tr>\n",
       "      <th>61260</th>\n",
       "      <td>elon musk created sold multiple companies</td>\n",
       "      <td>1</td>\n",
       "      <td>[elon, musk, created, sold, multiple, companies]</td>\n",
       "    </tr>\n",
       "    <tr>\n",
       "      <th>61996</th>\n",
       "      <td>hondas million private jet absolute gamechanger</td>\n",
       "      <td>1</td>\n",
       "      <td>[hondas, million, private, jet, absolute, game...</td>\n",
       "    </tr>\n",
       "    <tr>\n",
       "      <th>64482</th>\n",
       "      <td>us marines pieced together temporary bridge li...</td>\n",
       "      <td>1</td>\n",
       "      <td>[us, marines, pieced, together, temporary, bri...</td>\n",
       "    </tr>\n",
       "  </tbody>\n",
       "</table>\n",
       "</div>"
      ],
      "text/plain": [
       "                                                    text  edInput  \\\n",
       "60071            paper boeing puts paper airplanes shame        1   \n",
       "60462  longrange wireless charging system charges dev...        1   \n",
       "61260          elon musk created sold multiple companies        1   \n",
       "61996    hondas million private jet absolute gamechanger        1   \n",
       "64482  us marines pieced together temporary bridge li...        1   \n",
       "\n",
       "                                           text_tokenize  \n",
       "60071     [paper, boeing, puts, paper, airplanes, shame]  \n",
       "60462  [longrange, wireless, charging, system, charge...  \n",
       "61260   [elon, musk, created, sold, multiple, companies]  \n",
       "61996  [hondas, million, private, jet, absolute, game...  \n",
       "64482  [us, marines, pieced, together, temporary, bri...  "
      ]
     },
     "execution_count": 27,
     "metadata": {},
     "output_type": "execute_result"
    }
   ],
   "source": [
    "from nltk.tokenize import RegexpTokenizer \n",
    "tweet_df['text_tokenize']=tweet_df['text'].apply(lambda x: RegexpTokenizer(r'\\w+').tokenize(x))\n",
    "# tweet_df['text_tokenize']=tweet_df['text'].apply(lambda x: RegexpTokenizer(r'\\w+').tokenize(x))\n",
    "tweet_df.head()"
   ]
  },
  {
   "cell_type": "markdown",
   "id": "17f7207c",
   "metadata": {},
   "source": [
    "**Applying stemming**"
   ]
  },
  {
   "cell_type": "code",
   "execution_count": 28,
   "id": "f10f830b",
   "metadata": {},
   "outputs": [
    {
     "data": {
      "text/html": [
       "<div>\n",
       "<style scoped>\n",
       "    .dataframe tbody tr th:only-of-type {\n",
       "        vertical-align: middle;\n",
       "    }\n",
       "\n",
       "    .dataframe tbody tr th {\n",
       "        vertical-align: top;\n",
       "    }\n",
       "\n",
       "    .dataframe thead th {\n",
       "        text-align: right;\n",
       "    }\n",
       "</style>\n",
       "<table border=\"1\" class=\"dataframe\">\n",
       "  <thead>\n",
       "    <tr style=\"text-align: right;\">\n",
       "      <th></th>\n",
       "      <th>text</th>\n",
       "      <th>edInput</th>\n",
       "      <th>text_tokenize</th>\n",
       "      <th>text_stemmed</th>\n",
       "    </tr>\n",
       "  </thead>\n",
       "  <tbody>\n",
       "    <tr>\n",
       "      <th>60071</th>\n",
       "      <td>paper boeing puts paper airplanes shame</td>\n",
       "      <td>1</td>\n",
       "      <td>[paper, boeing, puts, paper, airplanes, shame]</td>\n",
       "      <td>[paper, boe, put, paper, airplan, shame]</td>\n",
       "    </tr>\n",
       "    <tr>\n",
       "      <th>60462</th>\n",
       "      <td>longrange wireless charging system charges dev...</td>\n",
       "      <td>1</td>\n",
       "      <td>[longrange, wireless, charging, system, charge...</td>\n",
       "      <td>[longrang, wireless, charg, system, charg, dev...</td>\n",
       "    </tr>\n",
       "    <tr>\n",
       "      <th>61260</th>\n",
       "      <td>elon musk created sold multiple companies</td>\n",
       "      <td>1</td>\n",
       "      <td>[elon, musk, created, sold, multiple, companies]</td>\n",
       "      <td>[elon, musk, creat, sold, multipl, compani]</td>\n",
       "    </tr>\n",
       "    <tr>\n",
       "      <th>61996</th>\n",
       "      <td>hondas million private jet absolute gamechanger</td>\n",
       "      <td>1</td>\n",
       "      <td>[hondas, million, private, jet, absolute, game...</td>\n",
       "      <td>[honda, million, privat, jet, absolut, gamechang]</td>\n",
       "    </tr>\n",
       "    <tr>\n",
       "      <th>64482</th>\n",
       "      <td>us marines pieced together temporary bridge li...</td>\n",
       "      <td>1</td>\n",
       "      <td>[us, marines, pieced, together, temporary, bri...</td>\n",
       "      <td>[us, marin, piec, togeth, temporari, bridg, li...</td>\n",
       "    </tr>\n",
       "  </tbody>\n",
       "</table>\n",
       "</div>"
      ],
      "text/plain": [
       "                                                    text  edInput  \\\n",
       "60071            paper boeing puts paper airplanes shame        1   \n",
       "60462  longrange wireless charging system charges dev...        1   \n",
       "61260          elon musk created sold multiple companies        1   \n",
       "61996    hondas million private jet absolute gamechanger        1   \n",
       "64482  us marines pieced together temporary bridge li...        1   \n",
       "\n",
       "                                           text_tokenize  \\\n",
       "60071     [paper, boeing, puts, paper, airplanes, shame]   \n",
       "60462  [longrange, wireless, charging, system, charge...   \n",
       "61260   [elon, musk, created, sold, multiple, companies]   \n",
       "61996  [hondas, million, private, jet, absolute, game...   \n",
       "64482  [us, marines, pieced, together, temporary, bri...   \n",
       "\n",
       "                                            text_stemmed  \n",
       "60071           [paper, boe, put, paper, airplan, shame]  \n",
       "60462  [longrang, wireless, charg, system, charg, dev...  \n",
       "61260        [elon, musk, creat, sold, multipl, compani]  \n",
       "61996  [honda, million, privat, jet, absolut, gamechang]  \n",
       "64482  [us, marin, piec, togeth, temporari, bridg, li...  "
      ]
     },
     "execution_count": 28,
     "metadata": {},
     "output_type": "execute_result"
    }
   ],
   "source": [
    "from nltk.stem.snowball import SnowballStemmer\n",
    "stemmer = SnowballStemmer(\"english\")\n",
    "tweet_df['text_stemmed'] = tweet_df['text_tokenize'].apply(lambda x: [stemmer.stem(y) for y in x])\n",
    "# tweet_df['text_stemmed'] = tweet_df['text_tokenize'].apply(lambda x: [stemmer.stem(y) for y in x])\n",
    "tweet_df.head()"
   ]
  },
  {
   "cell_type": "code",
   "execution_count": 29,
   "id": "e7db9a91",
   "metadata": {},
   "outputs": [
    {
     "name": "stderr",
     "output_type": "stream",
     "text": [
      "[nltk_data] Downloading package omw-1.4 to\n",
      "[nltk_data]     C:\\Users\\Priyambada\\AppData\\Roaming\\nltk_data...\n",
      "[nltk_data]   Package omw-1.4 is already up-to-date!\n"
     ]
    },
    {
     "data": {
      "text/plain": [
       "True"
      ]
     },
     "execution_count": 29,
     "metadata": {},
     "output_type": "execute_result"
    }
   ],
   "source": [
    "import nltk\n",
    "nltk.download('omw-1.4')"
   ]
  },
  {
   "cell_type": "markdown",
   "id": "66d7900e",
   "metadata": {},
   "source": [
    "**Applying lemmatizer**"
   ]
  },
  {
   "cell_type": "code",
   "execution_count": 30,
   "id": "ff028d24",
   "metadata": {},
   "outputs": [
    {
     "data": {
      "text/html": [
       "<div>\n",
       "<style scoped>\n",
       "    .dataframe tbody tr th:only-of-type {\n",
       "        vertical-align: middle;\n",
       "    }\n",
       "\n",
       "    .dataframe tbody tr th {\n",
       "        vertical-align: top;\n",
       "    }\n",
       "\n",
       "    .dataframe thead th {\n",
       "        text-align: right;\n",
       "    }\n",
       "</style>\n",
       "<table border=\"1\" class=\"dataframe\">\n",
       "  <thead>\n",
       "    <tr style=\"text-align: right;\">\n",
       "      <th></th>\n",
       "      <th>text</th>\n",
       "      <th>edInput</th>\n",
       "      <th>text_tokenize</th>\n",
       "      <th>text_stemmed</th>\n",
       "      <th>text_lemmatized</th>\n",
       "    </tr>\n",
       "  </thead>\n",
       "  <tbody>\n",
       "    <tr>\n",
       "      <th>60071</th>\n",
       "      <td>paper boeing puts paper airplanes shame</td>\n",
       "      <td>1</td>\n",
       "      <td>[paper, boeing, puts, paper, airplanes, shame]</td>\n",
       "      <td>[paper, boe, put, paper, airplan, shame]</td>\n",
       "      <td>paper boeing put paper airplane shame</td>\n",
       "    </tr>\n",
       "    <tr>\n",
       "      <th>60462</th>\n",
       "      <td>longrange wireless charging system charges dev...</td>\n",
       "      <td>1</td>\n",
       "      <td>[longrange, wireless, charging, system, charge...</td>\n",
       "      <td>[longrang, wireless, charg, system, charg, dev...</td>\n",
       "      <td>longrange wireless charging system charge devi...</td>\n",
       "    </tr>\n",
       "    <tr>\n",
       "      <th>61260</th>\n",
       "      <td>elon musk created sold multiple companies</td>\n",
       "      <td>1</td>\n",
       "      <td>[elon, musk, created, sold, multiple, companies]</td>\n",
       "      <td>[elon, musk, creat, sold, multipl, compani]</td>\n",
       "      <td>elon musk created sold multiple company</td>\n",
       "    </tr>\n",
       "    <tr>\n",
       "      <th>61996</th>\n",
       "      <td>hondas million private jet absolute gamechanger</td>\n",
       "      <td>1</td>\n",
       "      <td>[hondas, million, private, jet, absolute, game...</td>\n",
       "      <td>[honda, million, privat, jet, absolut, gamechang]</td>\n",
       "      <td>hondas million private jet absolute gamechanger</td>\n",
       "    </tr>\n",
       "    <tr>\n",
       "      <th>64482</th>\n",
       "      <td>us marines pieced together temporary bridge li...</td>\n",
       "      <td>1</td>\n",
       "      <td>[us, marines, pieced, together, temporary, bri...</td>\n",
       "      <td>[us, marin, piec, togeth, temporari, bridg, li...</td>\n",
       "      <td>u marine pieced together temporary bridge like...</td>\n",
       "    </tr>\n",
       "  </tbody>\n",
       "</table>\n",
       "</div>"
      ],
      "text/plain": [
       "                                                    text  edInput  \\\n",
       "60071            paper boeing puts paper airplanes shame        1   \n",
       "60462  longrange wireless charging system charges dev...        1   \n",
       "61260          elon musk created sold multiple companies        1   \n",
       "61996    hondas million private jet absolute gamechanger        1   \n",
       "64482  us marines pieced together temporary bridge li...        1   \n",
       "\n",
       "                                           text_tokenize  \\\n",
       "60071     [paper, boeing, puts, paper, airplanes, shame]   \n",
       "60462  [longrange, wireless, charging, system, charge...   \n",
       "61260   [elon, musk, created, sold, multiple, companies]   \n",
       "61996  [hondas, million, private, jet, absolute, game...   \n",
       "64482  [us, marines, pieced, together, temporary, bri...   \n",
       "\n",
       "                                            text_stemmed  \\\n",
       "60071           [paper, boe, put, paper, airplan, shame]   \n",
       "60462  [longrang, wireless, charg, system, charg, dev...   \n",
       "61260        [elon, musk, creat, sold, multipl, compani]   \n",
       "61996  [honda, million, privat, jet, absolut, gamechang]   \n",
       "64482  [us, marin, piec, togeth, temporari, bridg, li...   \n",
       "\n",
       "                                         text_lemmatized  \n",
       "60071              paper boeing put paper airplane shame  \n",
       "60462  longrange wireless charging system charge devi...  \n",
       "61260            elon musk created sold multiple company  \n",
       "61996    hondas million private jet absolute gamechanger  \n",
       "64482  u marine pieced together temporary bridge like...  "
      ]
     },
     "execution_count": 30,
     "metadata": {},
     "output_type": "execute_result"
    }
   ],
   "source": [
    "import nltk\n",
    "lemmatizer = nltk.stem.WordNetLemmatizer()\n",
    "\n",
    "def lemmatize_text(text):\n",
    "    return [lemmatizer.lemmatize(w) for w in text]\n",
    "\n",
    "tweet_df['text_lemmatized'] = tweet_df['text_tokenize'].apply(lemmatize_text)\n",
    "tweet_df['text_lemmatized'] = tweet_df['text_lemmatized'].apply(' '.join)\n",
    "tweet_df.head()"
   ]
  },
  {
   "cell_type": "markdown",
   "id": "2c25fb99",
   "metadata": {},
   "source": [
    "**Separating input feature and label**"
   ]
  },
  {
   "cell_type": "code",
   "execution_count": 31,
   "id": "435b9c12",
   "metadata": {},
   "outputs": [],
   "source": [
    "y = tweet_df['edInput']\n",
    "X = tweet_df['text_lemmatized']"
   ]
  },
  {
   "cell_type": "markdown",
   "id": "1a1615ad",
   "metadata": {},
   "source": [
    "**Implementing Imbalanced-Learn**"
   ]
  },
  {
   "cell_type": "markdown",
   "id": "80ffb650",
   "metadata": {},
   "source": [
    "We will use the RandomOverSampler function to balance the classes."
   ]
  },
  {
   "cell_type": "code",
   "execution_count": 32,
   "id": "32a8a8b0",
   "metadata": {},
   "outputs": [],
   "source": [
    "from imblearn.over_sampling import RandomOverSampler"
   ]
  },
  {
   "cell_type": "markdown",
   "id": "265514a4",
   "metadata": {},
   "source": [
    "**Splitting the text dataset**"
   ]
  },
  {
   "cell_type": "code",
   "execution_count": 33,
   "id": "699bf0c7",
   "metadata": {},
   "outputs": [],
   "source": [
    " X_train, X_test, y_train, y_test = train_test_split(X, y.values, test_size=0.2, stratify=y, random_state=101)"
   ]
  },
  {
   "cell_type": "code",
   "execution_count": 34,
   "id": "9b4b2a9e",
   "metadata": {},
   "outputs": [],
   "source": [
    "from collections import Counter"
   ]
  },
  {
   "cell_type": "code",
   "execution_count": 35,
   "id": "53f7d907",
   "metadata": {},
   "outputs": [
    {
     "name": "stdout",
     "output_type": "stream",
     "text": [
      "Counter({1: 11721, 0: 3972})\n"
     ]
    }
   ],
   "source": [
    "print(Counter(y_train))"
   ]
  },
  {
   "cell_type": "code",
   "execution_count": 36,
   "id": "cf7b07dd",
   "metadata": {},
   "outputs": [
    {
     "data": {
      "text/plain": [
       "TfidfVectorizer()"
      ]
     },
     "execution_count": 36,
     "metadata": {},
     "output_type": "execute_result"
    }
   ],
   "source": [
    "vectorizer = TfidfVectorizer()\n",
    "vectorizer.fit(X_train)"
   ]
  },
  {
   "cell_type": "code",
   "execution_count": 37,
   "id": "049289c6",
   "metadata": {},
   "outputs": [],
   "source": [
    "X_train_tf = vectorizer.transform(X_train)"
   ]
  },
  {
   "cell_type": "code",
   "execution_count": 38,
   "id": "22c7643f",
   "metadata": {},
   "outputs": [],
   "source": [
    "X_train_tf = X_train_tf.toarray()"
   ]
  },
  {
   "cell_type": "code",
   "execution_count": 39,
   "id": "f719dc2a",
   "metadata": {},
   "outputs": [],
   "source": [
    "X_test_tf = vectorizer.transform(X_test)"
   ]
  },
  {
   "cell_type": "code",
   "execution_count": 40,
   "id": "a27709f7",
   "metadata": {},
   "outputs": [],
   "source": [
    "X_test_tf = X_test_tf.toarray()"
   ]
  },
  {
   "cell_type": "code",
   "execution_count": 41,
   "id": "b3f1b6fc",
   "metadata": {},
   "outputs": [],
   "source": [
    "ROS = RandomOverSampler(sampling_strategy=1)"
   ]
  },
  {
   "cell_type": "code",
   "execution_count": 42,
   "id": "1d14e913",
   "metadata": {},
   "outputs": [],
   "source": [
    "X_train_ros, y_train_ros = ROS.fit_resample(X_train_tf, y_train)"
   ]
  },
  {
   "cell_type": "code",
   "execution_count": 43,
   "id": "d128a5bd",
   "metadata": {},
   "outputs": [
    {
     "name": "stdout",
     "output_type": "stream",
     "text": [
      "Counter({1: 11721, 0: 11721})\n"
     ]
    }
   ],
   "source": [
    "print(Counter(y_train_ros))"
   ]
  },
  {
   "cell_type": "markdown",
   "id": "3f5a5cb7",
   "metadata": {},
   "source": [
    "**Using the balanced dataset to build the same model**"
   ]
  },
  {
   "cell_type": "code",
   "execution_count": 44,
   "id": "3701bdab",
   "metadata": {},
   "outputs": [
    {
     "data": {
      "text/plain": [
       "LogisticRegression(C=10, max_iter=1000)"
      ]
     },
     "execution_count": 44,
     "metadata": {},
     "output_type": "execute_result"
    }
   ],
   "source": [
    "LOG = LogisticRegression(max_iter=1000,C=10)\n",
    "LOG.fit(X_train_ros, y_train_ros)"
   ]
  },
  {
   "cell_type": "code",
   "execution_count": 45,
   "id": "4b2d9bdd",
   "metadata": {},
   "outputs": [],
   "source": [
    "from sklearn.metrics import confusion_matrix,classification_report,plot_confusion_matrix"
   ]
  },
  {
   "cell_type": "code",
   "execution_count": 46,
   "id": "eda57daa",
   "metadata": {},
   "outputs": [
    {
     "name": "stdout",
     "output_type": "stream",
     "text": [
      "              precision    recall  f1-score   support\n",
      "\n",
      "           0       0.60      0.67      0.64       993\n",
      "           1       0.88      0.85      0.87      2931\n",
      "\n",
      "    accuracy                           0.81      3924\n",
      "   macro avg       0.74      0.76      0.75      3924\n",
      "weighted avg       0.81      0.81      0.81      3924\n",
      "\n"
     ]
    },
    {
     "name": "stderr",
     "output_type": "stream",
     "text": [
      "C:\\Users\\Priyambada\\anaconda3\\lib\\site-packages\\sklearn\\utils\\deprecation.py:87: FutureWarning: Function plot_confusion_matrix is deprecated; Function `plot_confusion_matrix` is deprecated in 1.0 and will be removed in 1.2. Use one of the class methods: ConfusionMatrixDisplay.from_predictions or ConfusionMatrixDisplay.from_estimator.\n",
      "  warnings.warn(msg, category=FutureWarning)\n"
     ]
    },
    {
     "data": {
      "text/plain": [
       "<sklearn.metrics._plot.confusion_matrix.ConfusionMatrixDisplay at 0x1cb1d873400>"
      ]
     },
     "execution_count": 46,
     "metadata": {},
     "output_type": "execute_result"
    },
    {
     "data": {
      "image/png": "[encoded data removed]",
      "text/plain": [
       "<Figure size 640x480 with 2 Axes>"
      ]
     },
     "metadata": {},
     "output_type": "display_data"
    }
   ],
   "source": [
    "preds = LOG.predict(X_test_tf)\n",
    "print(classification_report(y_test,preds))\n",
    "plot_confusion_matrix(LOG,X_test_tf,y_test)"
   ]
  },
  {
   "cell_type": "code",
   "execution_count": 47,
   "id": "b8b231cd",
   "metadata": {},
   "outputs": [],
   "source": [
    "LOG_prob=LOG.predict_proba(X_test_tf)"
   ]
  },
  {
   "cell_type": "code",
   "execution_count": 48,
   "id": "61b2e145",
   "metadata": {},
   "outputs": [],
   "source": [
    "from sklearn import metrics\n",
    "def TP_rate_visualization(y_test, LOG_prob):\n",
    "  precision, recall, thresholds = metrics.precision_recall_curve(y_test, LOG_prob[:,1])\n",
    "  FPR, TPR, thresholds = metrics.roc_curve(y_test, LOG_prob[:,1],)\n",
    "  AUC = metrics.auc(FPR, TPR)\n",
    "\n",
    "  plt.figure(figsize=(10,5))\n",
    "\n",
    "\n",
    "  plt.plot(FPR, TPR)\n",
    "  plt.title('roc Curve')\n",
    "  plt.title(f'AUC = {AUC: .3f}')\n",
    "  plt.ylabel('True positive rate') # TP/(TP+FN)\n",
    "  plt.xlabel('False positive rate') # FP/(FP+TN)\n",
    "\n",
    "  plt.show()"
   ]
  },
  {
   "cell_type": "code",
   "execution_count": 49,
   "id": "5c394bed",
   "metadata": {},
   "outputs": [
    {
     "data": {
      "image/png": "[encoded data removed]",
      "text/plain": [
       "<Figure size 1000x500 with 1 Axes>"
      ]
     },
     "metadata": {},
     "output_type": "display_data"
    }
   ],
   "source": [
    "TP_rate_visualization(y_test, LOG_prob)"
   ]
  },
  {
   "cell_type": "code",
   "execution_count": 50,
   "id": "f312ccf8",
   "metadata": {},
   "outputs": [
    {
     "data": {
      "text/plain": [
       "MultinomialNB(alpha=0.1)"
      ]
     },
     "execution_count": 50,
     "metadata": {},
     "output_type": "execute_result"
    }
   ],
   "source": [
    "from sklearn.naive_bayes import MultinomialNB\n",
    "NB = MultinomialNB(alpha=0.1)\n",
    "NB.fit(X_train_ros, y_train_ros)"
   ]
  },
  {
   "cell_type": "code",
   "execution_count": 51,
   "id": "ac5e2b29",
   "metadata": {},
   "outputs": [
    {
     "name": "stdout",
     "output_type": "stream",
     "text": [
      "              precision    recall  f1-score   support\n",
      "\n",
      "           0       0.57      0.75      0.64       993\n",
      "           1       0.90      0.81      0.85      2931\n",
      "\n",
      "    accuracy                           0.79      3924\n",
      "   macro avg       0.74      0.78      0.75      3924\n",
      "weighted avg       0.82      0.79      0.80      3924\n",
      "\n"
     ]
    },
    {
     "name": "stderr",
     "output_type": "stream",
     "text": [
      "C:\\Users\\Priyambada\\anaconda3\\lib\\site-packages\\sklearn\\utils\\deprecation.py:87: FutureWarning: Function plot_confusion_matrix is deprecated; Function `plot_confusion_matrix` is deprecated in 1.0 and will be removed in 1.2. Use one of the class methods: ConfusionMatrixDisplay.from_predictions or ConfusionMatrixDisplay.from_estimator.\n",
      "  warnings.warn(msg, category=FutureWarning)\n"
     ]
    },
    {
     "data": {
      "text/plain": [
       "<sklearn.metrics._plot.confusion_matrix.ConfusionMatrixDisplay at 0x1cb20ee3d30>"
      ]
     },
     "execution_count": 51,
     "metadata": {},
     "output_type": "execute_result"
    },
    {
     "data": {
      "image/png": "[encoded data removed]",
      "text/plain": [
       "<Figure size 640x480 with 2 Axes>"
      ]
     },
     "metadata": {},
     "output_type": "display_data"
    }
   ],
   "source": [
    "pred_NB = NB.predict(X_test_tf)\n",
    "print(classification_report(y_test,pred_NB))\n",
    "plot_confusion_matrix(NB,X_test_tf,y_test)"
   ]
  },
  {
   "cell_type": "code",
   "execution_count": 52,
   "id": "0c3035ab",
   "metadata": {},
   "outputs": [],
   "source": [
    "NB_prob=NB.predict_proba(X_test_tf)"
   ]
  },
  {
   "cell_type": "code",
   "execution_count": 53,
   "id": "0dde0ea5",
   "metadata": {},
   "outputs": [],
   "source": [
    "from sklearn import metrics\n",
    "def TP_rate_visualization(y_test, NB_prob):\n",
    "  precision, recall, thresholds = metrics.precision_recall_curve(y_test, NB_prob[:,1])\n",
    "  FPR, TPR, thresholds = metrics.roc_curve(y_test, NB_prob[:,1],)\n",
    "  AUC = metrics.auc(FPR, TPR)\n",
    "\n",
    "  plt.figure(figsize=(10,5))\n",
    "\n",
    "\n",
    "  plt.plot(FPR, TPR)\n",
    "  plt.title('roc Curve')\n",
    "  plt.title(f'AUC = {AUC: .3f}')\n",
    "  plt.ylabel('True positive rate') # TP/(TP+FN)\n",
    "  plt.xlabel('False positive rate') # FP/(FP+TN)\n",
    "\n",
    "  plt.show()"
   ]
  },
  {
   "cell_type": "code",
   "execution_count": 54,
   "id": "4a7e4d2c",
   "metadata": {},
   "outputs": [
    {
     "data": {
      "image/png": "[encoded data removed]",
      "text/plain": [
       "<Figure size 1000x500 with 1 Axes>"
      ]
     },
     "metadata": {},
     "output_type": "display_data"
    }
   ],
   "source": [
    "TP_rate_visualization(y_test, NB_prob)"
   ]
  },
  {
   "cell_type": "code",
   "execution_count": null,
   "id": "7902ea1f",
   "metadata": {},
   "outputs": [],
   "source": [
    "from sklearn.svm import SVC\n",
    "svc=SVC(probability=True)\n",
    "svc.fit(X_train_ros, y_train_ros)"
   ]
  },
  {
   "cell_type": "code",
   "execution_count": null,
   "id": "dc2bce3c",
   "metadata": {},
   "outputs": [],
   "source": []
  }
 ],
 "metadata": {
  "kernelspec": {
   "display_name": "Python 3 (ipykernel)",
   "language": "python",
   "name": "python3"
  },
  "language_info": {
   "codemirror_mode": {
    "name": "ipython",
    "version": 3
   },
   "file_extension": ".py",
   "mimetype": "text/x-python",
   "name": "python",
   "nbconvert_exporter": "python",
   "pygments_lexer": "ipython3",
   "version": "3.9.13"
  }
 },
 "nbformat": 4,
 "nbformat_minor": 5
}
