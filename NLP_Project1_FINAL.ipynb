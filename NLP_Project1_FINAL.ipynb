{
 "cells": [
  {
   "cell_type": "markdown",
   "id": "f59d1805",
   "metadata": {},
   "source": [
    "**Import the Necessary Dependencies**"
   ]
  },
  {
   "cell_type": "code",
   "execution_count": 1,
   "id": "3d526d59",
   "metadata": {},
   "outputs": [],
   "source": [
    "# utilities\n",
    "import re\n",
    "import numpy as np\n",
    "import pandas as pd\n",
    "# plotting\n",
    "import seaborn as sns\n",
    "import matplotlib.pyplot as plt\n",
    "# nltk\n",
    "from nltk.stem import WordNetLemmatizer\n",
    "# sklearn\n",
    "from sklearn.svm import LinearSVC\n",
    "from sklearn.naive_bayes import BernoulliNB\n",
    "from sklearn.linear_model import LogisticRegression\n",
    "from sklearn.model_selection import train_test_split\n",
    "from sklearn.feature_extraction.text import TfidfVectorizer\n",
    "from sklearn.metrics import confusion_matrix, classification_report\n",
    "\n",
    "# pd.set_option('display.max_rows', 5000)\n",
    "# pd.set_option('display.max_columns', 5000)\n",
    "# pd.set_option('display.width', 1000)"
   ]
  },
  {
   "cell_type": "markdown",
   "id": "c764ee20",
   "metadata": {},
   "source": [
    "**Read and Load the Dataset**"
   ]
  },
  {
   "cell_type": "code",
   "execution_count": 2,
   "id": "4a30dc01",
   "metadata": {},
   "outputs": [],
   "source": [
    "tweet_df = pd.read_csv(r'D:\\MACHINE LEARNING\\Mentorship program\\NLP Projects\\NLP_Project_first\\tweet_data.csv')"
   ]
  },
  {
   "cell_type": "markdown",
   "id": "cf33ba8e",
   "metadata": {},
   "source": [
    "**Exploratory Data Analysis**"
   ]
  },
  {
   "cell_type": "code",
   "execution_count": 3,
   "id": "461a91c1",
   "metadata": {},
   "outputs": [
    {
     "data": {
      "text/html": [
       "<div>\n",
       "<style scoped>\n",
       "    .dataframe tbody tr th:only-of-type {\n",
       "        vertical-align: middle;\n",
       "    }\n",
       "\n",
       "    .dataframe tbody tr th {\n",
       "        vertical-align: top;\n",
       "    }\n",
       "\n",
       "    .dataframe thead th {\n",
       "        text-align: right;\n",
       "    }\n",
       "</style>\n",
       "<table border=\"1\" class=\"dataframe\">\n",
       "  <thead>\n",
       "    <tr style=\"text-align: right;\">\n",
       "      <th></th>\n",
       "      <th>tweetID</th>\n",
       "      <th>crDate</th>\n",
       "      <th>edInput</th>\n",
       "      <th>editor</th>\n",
       "      <th>engages</th>\n",
       "      <th>isApproved</th>\n",
       "      <th>isEdNeed</th>\n",
       "      <th>isRT</th>\n",
       "      <th>likes</th>\n",
       "      <th>photoUrl</th>\n",
       "      <th>retweets</th>\n",
       "      <th>rtUsID</th>\n",
       "      <th>text</th>\n",
       "      <th>topicName</th>\n",
       "      <th>usFlwrs</th>\n",
       "      <th>usID</th>\n",
       "      <th>usName</th>\n",
       "      <th>videoUrl</th>\n",
       "    </tr>\n",
       "  </thead>\n",
       "  <tbody>\n",
       "    <tr>\n",
       "      <th>0</th>\n",
       "      <td>1070867471245164544</td>\n",
       "      <td>2018-12-07 02:27:55</td>\n",
       "      <td>-1</td>\n",
       "      <td>-1</td>\n",
       "      <td>98</td>\n",
       "      <td>False</td>\n",
       "      <td>True</td>\n",
       "      <td>False</td>\n",
       "      <td>64</td>\n",
       "      <td>https://pbs.twimg.com/media/Dtx8SiIWkAImVsb.jpg</td>\n",
       "      <td>34</td>\n",
       "      <td>-1</td>\n",
       "      <td>The immediate impulse for an alliance of the E...</td>\n",
       "      <td>Business</td>\n",
       "      <td>23464532</td>\n",
       "      <td>5988062</td>\n",
       "      <td>The Economist</td>\n",
       "      <td>NaN</td>\n",
       "    </tr>\n",
       "    <tr>\n",
       "      <th>1</th>\n",
       "      <td>1070868017888837633</td>\n",
       "      <td>2018-12-07 02:30:05</td>\n",
       "      <td>-1</td>\n",
       "      <td>-1</td>\n",
       "      <td>13</td>\n",
       "      <td>False</td>\n",
       "      <td>True</td>\n",
       "      <td>False</td>\n",
       "      <td>10</td>\n",
       "      <td>https://pbs.twimg.com/media/Dtx8yTyW4AEciqP.jpg</td>\n",
       "      <td>3</td>\n",
       "      <td>-1</td>\n",
       "      <td>America's economy is flashing some warning sig...</td>\n",
       "      <td>Business</td>\n",
       "      <td>1732809</td>\n",
       "      <td>16184358</td>\n",
       "      <td>CNN Business</td>\n",
       "      <td>NaN</td>\n",
       "    </tr>\n",
       "    <tr>\n",
       "      <th>2</th>\n",
       "      <td>1070868012864028673</td>\n",
       "      <td>2018-12-07 02:30:04</td>\n",
       "      <td>-1</td>\n",
       "      <td>-1</td>\n",
       "      <td>12</td>\n",
       "      <td>False</td>\n",
       "      <td>True</td>\n",
       "      <td>False</td>\n",
       "      <td>8</td>\n",
       "      <td>NaN</td>\n",
       "      <td>4</td>\n",
       "      <td>-1</td>\n",
       "      <td>Lyft files for what is expected to be one of t...</td>\n",
       "      <td>Business</td>\n",
       "      <td>2253989</td>\n",
       "      <td>25053299</td>\n",
       "      <td>FORTUNE</td>\n",
       "      <td>NaN</td>\n",
       "    </tr>\n",
       "    <tr>\n",
       "      <th>3</th>\n",
       "      <td>1070867995239555075</td>\n",
       "      <td>2018-12-07 02:30:00</td>\n",
       "      <td>-1</td>\n",
       "      <td>-1</td>\n",
       "      <td>5</td>\n",
       "      <td>False</td>\n",
       "      <td>True</td>\n",
       "      <td>False</td>\n",
       "      <td>4</td>\n",
       "      <td>NaN</td>\n",
       "      <td>1</td>\n",
       "      <td>-1</td>\n",
       "      <td>Exporters still waiting to get Rs 6,000 crore ...</td>\n",
       "      <td>Business</td>\n",
       "      <td>1704056</td>\n",
       "      <td>43855487</td>\n",
       "      <td>Business Standard</td>\n",
       "      <td>NaN</td>\n",
       "    </tr>\n",
       "    <tr>\n",
       "      <th>4</th>\n",
       "      <td>1070867995205885952</td>\n",
       "      <td>2018-12-07 02:30:00</td>\n",
       "      <td>-1</td>\n",
       "      <td>-1</td>\n",
       "      <td>5</td>\n",
       "      <td>False</td>\n",
       "      <td>True</td>\n",
       "      <td>False</td>\n",
       "      <td>2</td>\n",
       "      <td>NaN</td>\n",
       "      <td>3</td>\n",
       "      <td>-1</td>\n",
       "      <td>Ride-hailing firm Lyft races to leave Uber beh...</td>\n",
       "      <td>Business</td>\n",
       "      <td>1997662</td>\n",
       "      <td>15110357</td>\n",
       "      <td>Reuters Business</td>\n",
       "      <td>https://video.twimg.com/amplify_video/10708116...</td>\n",
       "    </tr>\n",
       "  </tbody>\n",
       "</table>\n",
       "</div>"
      ],
      "text/plain": [
       "               tweetID               crDate  edInput  editor  engages  \\\n",
       "0  1070867471245164544  2018-12-07 02:27:55       -1      -1       98   \n",
       "1  1070868017888837633  2018-12-07 02:30:05       -1      -1       13   \n",
       "2  1070868012864028673  2018-12-07 02:30:04       -1      -1       12   \n",
       "3  1070867995239555075  2018-12-07 02:30:00       -1      -1        5   \n",
       "4  1070867995205885952  2018-12-07 02:30:00       -1      -1        5   \n",
       "\n",
       "   isApproved  isEdNeed   isRT  likes  \\\n",
       "0       False      True  False     64   \n",
       "1       False      True  False     10   \n",
       "2       False      True  False      8   \n",
       "3       False      True  False      4   \n",
       "4       False      True  False      2   \n",
       "\n",
       "                                          photoUrl  retweets  rtUsID  \\\n",
       "0  https://pbs.twimg.com/media/Dtx8SiIWkAImVsb.jpg        34      -1   \n",
       "1  https://pbs.twimg.com/media/Dtx8yTyW4AEciqP.jpg         3      -1   \n",
       "2                                              NaN         4      -1   \n",
       "3                                              NaN         1      -1   \n",
       "4                                              NaN         3      -1   \n",
       "\n",
       "                                                text topicName   usFlwrs  \\\n",
       "0  The immediate impulse for an alliance of the E...  Business  23464532   \n",
       "1  America's economy is flashing some warning sig...  Business   1732809   \n",
       "2  Lyft files for what is expected to be one of t...  Business   2253989   \n",
       "3  Exporters still waiting to get Rs 6,000 crore ...  Business   1704056   \n",
       "4  Ride-hailing firm Lyft races to leave Uber beh...  Business   1997662   \n",
       "\n",
       "       usID             usName  \\\n",
       "0   5988062      The Economist   \n",
       "1  16184358       CNN Business   \n",
       "2  25053299            FORTUNE   \n",
       "3  43855487  Business Standard   \n",
       "4  15110357   Reuters Business   \n",
       "\n",
       "                                            videoUrl  \n",
       "0                                                NaN  \n",
       "1                                                NaN  \n",
       "2                                                NaN  \n",
       "3                                                NaN  \n",
       "4  https://video.twimg.com/amplify_video/10708116...  "
      ]
     },
     "execution_count": 3,
     "metadata": {},
     "output_type": "execute_result"
    }
   ],
   "source": [
    "tweet_df.head()"
   ]
  },
  {
   "cell_type": "code",
   "execution_count": 4,
   "id": "e749fddf",
   "metadata": {},
   "outputs": [
    {
     "data": {
      "text/plain": [
       "Business                    164602\n",
       "News                        131973\n",
       "Motivational                 84750\n",
       "Technology                   47679\n",
       "Design & Architecture        44987\n",
       "Cryptocurrency               38623\n",
       "Art                          36697\n",
       "Interesting                  28615\n",
       "Animal                       28202\n",
       "Memes                        26349\n",
       "Nature                       25021\n",
       "Photography                  23638\n",
       "DIY & Craft                  22392\n",
       "Space                        14226\n",
       "Funny                        13654\n",
       "Travel                       13215\n",
       "Random                       11825\n",
       "Editorial Pics               11026\n",
       "Flowers                       9450\n",
       "Mindfulness                   2779\n",
       "Fitness                       2454\n",
       "Nanotech                       792\n",
       "World Leaders                  663\n",
       "Psychology                     544\n",
       "US News                        279\n",
       "science                        244\n",
       "Stocks                         188\n",
       "Humor                          154\n",
       "Spirituality                   150\n",
       "Entrepreneurship               148\n",
       "Science                        141\n",
       "Medical                        100\n",
       "Digital Media & Internet        94\n",
       "Startup                         87\n",
       "Biotech                         77\n",
       "Personal Development            38\n",
       "Informative                     24\n",
       "Love                            12\n",
       "Journalists                     11\n",
       "Fashion                         11\n",
       "Basketball                       1\n",
       "Poem                             1\n",
       "Name: topicName, dtype: int64"
      ]
     },
     "execution_count": 4,
     "metadata": {},
     "output_type": "execute_result"
    }
   ],
   "source": [
    "tweet_df['topicName'].value_counts()"
   ]
  },
  {
   "cell_type": "code",
   "execution_count": 5,
   "id": "9b3821b0",
   "metadata": {},
   "outputs": [
    {
     "data": {
      "text/plain": [
       "Index(['tweetID', 'crDate', 'edInput', 'editor', 'engages', 'isApproved',\n",
       "       'isEdNeed', 'isRT', 'likes', 'photoUrl', 'retweets', 'rtUsID', 'text',\n",
       "       'topicName', 'usFlwrs', 'usID', 'usName', 'videoUrl'],\n",
       "      dtype='object')"
      ]
     },
     "execution_count": 5,
     "metadata": {},
     "output_type": "execute_result"
    }
   ],
   "source": [
    "tweet_df=tweet_df[tweet_df['topicName']=='Technology']\n",
    "tweet_df.columns"
   ]
  },
  {
   "cell_type": "code",
   "execution_count": 6,
   "id": "e73c2126",
   "metadata": {},
   "outputs": [],
   "source": [
    "tweet_df=tweet_df[['text','edInput']]"
   ]
  },
  {
   "cell_type": "code",
   "execution_count": 7,
   "id": "c74639ba",
   "metadata": {},
   "outputs": [
    {
     "data": {
      "text/plain": [
       "-1    22235\n",
       " 1    14652\n",
       " 2     4965\n",
       " 4     4761\n",
       " 3     1066\n",
       "Name: edInput, dtype: int64"
      ]
     },
     "execution_count": 7,
     "metadata": {},
     "output_type": "execute_result"
    }
   ],
   "source": [
    "tweet_df['edInput'].value_counts()"
   ]
  },
  {
   "cell_type": "code",
   "execution_count": 8,
   "id": "f42f7215",
   "metadata": {},
   "outputs": [],
   "source": [
    "tweet_df=tweet_df[(tweet_df['edInput'] != -1) & (tweet_df['edInput'] != 3) & (tweet_df['edInput'] != 4)]"
   ]
  },
  {
   "cell_type": "code",
   "execution_count": 9,
   "id": "3d7ba4e7",
   "metadata": {},
   "outputs": [
    {
     "data": {
      "text/html": [
       "<div>\n",
       "<style scoped>\n",
       "    .dataframe tbody tr th:only-of-type {\n",
       "        vertical-align: middle;\n",
       "    }\n",
       "\n",
       "    .dataframe tbody tr th {\n",
       "        vertical-align: top;\n",
       "    }\n",
       "\n",
       "    .dataframe thead th {\n",
       "        text-align: right;\n",
       "    }\n",
       "</style>\n",
       "<table border=\"1\" class=\"dataframe\">\n",
       "  <thead>\n",
       "    <tr style=\"text-align: right;\">\n",
       "      <th></th>\n",
       "      <th>text</th>\n",
       "      <th>edInput</th>\n",
       "    </tr>\n",
       "  </thead>\n",
       "  <tbody>\n",
       "    <tr>\n",
       "      <th>0</th>\n",
       "      <td>This paper Boeing 777 puts all other paper air...</td>\n",
       "      <td>1</td>\n",
       "    </tr>\n",
       "    <tr>\n",
       "      <th>1</th>\n",
       "      <td>This long-range wireless charging system charg...</td>\n",
       "      <td>1</td>\n",
       "    </tr>\n",
       "    <tr>\n",
       "      <th>2</th>\n",
       "      <td>Elon Musk has created and sold multiple compan...</td>\n",
       "      <td>1</td>\n",
       "    </tr>\n",
       "    <tr>\n",
       "      <th>3</th>\n",
       "      <td>Honda's $4.9 million private jet is an absolut...</td>\n",
       "      <td>1</td>\n",
       "    </tr>\n",
       "    <tr>\n",
       "      <th>4</th>\n",
       "      <td>The US Marines pieced together this temporary ...</td>\n",
       "      <td>1</td>\n",
       "    </tr>\n",
       "    <tr>\n",
       "      <th>...</th>\n",
       "      <td>...</td>\n",
       "      <td>...</td>\n",
       "    </tr>\n",
       "    <tr>\n",
       "      <th>19612</th>\n",
       "      <td>Tomorrow on @cheddar, my exclusive interview w...</td>\n",
       "      <td>2</td>\n",
       "    </tr>\n",
       "    <tr>\n",
       "      <th>19613</th>\n",
       "      <td>Netflix documentary The Great Hack turns the C...</td>\n",
       "      <td>2</td>\n",
       "    </tr>\n",
       "    <tr>\n",
       "      <th>19614</th>\n",
       "      <td>Hulu is developing a Hitchhiker’s Guide to the...</td>\n",
       "      <td>1</td>\n",
       "    </tr>\n",
       "    <tr>\n",
       "      <th>19615</th>\n",
       "      <td>This machine folds dumplings super fast. https...</td>\n",
       "      <td>1</td>\n",
       "    </tr>\n",
       "    <tr>\n",
       "      <th>19616</th>\n",
       "      <td>Heat records topple in Europe. Again. https://...</td>\n",
       "      <td>2</td>\n",
       "    </tr>\n",
       "  </tbody>\n",
       "</table>\n",
       "<p>19617 rows × 2 columns</p>\n",
       "</div>"
      ],
      "text/plain": [
       "                                                    text  edInput\n",
       "0      This paper Boeing 777 puts all other paper air...        1\n",
       "1      This long-range wireless charging system charg...        1\n",
       "2      Elon Musk has created and sold multiple compan...        1\n",
       "3      Honda's $4.9 million private jet is an absolut...        1\n",
       "4      The US Marines pieced together this temporary ...        1\n",
       "...                                                  ...      ...\n",
       "19612  Tomorrow on @cheddar, my exclusive interview w...        2\n",
       "19613  Netflix documentary The Great Hack turns the C...        2\n",
       "19614  Hulu is developing a Hitchhiker’s Guide to the...        1\n",
       "19615  This machine folds dumplings super fast. https...        1\n",
       "19616  Heat records topple in Europe. Again. https://...        2\n",
       "\n",
       "[19617 rows x 2 columns]"
      ]
     },
     "execution_count": 9,
     "metadata": {},
     "output_type": "execute_result"
    }
   ],
   "source": [
    "tweet_df.reset_index(drop=True)"
   ]
  },
  {
   "cell_type": "code",
   "execution_count": 10,
   "id": "2bdc7d0b",
   "metadata": {},
   "outputs": [
    {
     "name": "stdout",
     "output_type": "stream",
     "text": [
      "<class 'pandas.core.frame.DataFrame'>\n",
      "Int64Index: 19617 entries, 60071 to 785452\n",
      "Data columns (total 2 columns):\n",
      " #   Column   Non-Null Count  Dtype \n",
      "---  ------   --------------  ----- \n",
      " 0   text     19617 non-null  object\n",
      " 1   edInput  19617 non-null  int64 \n",
      "dtypes: int64(1), object(1)\n",
      "memory usage: 459.8+ KB\n"
     ]
    }
   ],
   "source": [
    "tweet_df.info()"
   ]
  },
  {
   "cell_type": "markdown",
   "id": "ff9e6414",
   "metadata": {},
   "source": [
    "**Checking for null values**"
   ]
  },
  {
   "cell_type": "code",
   "execution_count": 11,
   "id": "11c482f2",
   "metadata": {},
   "outputs": [
    {
     "data": {
      "text/plain": [
       "text       0\n",
       "edInput    0\n",
       "dtype: int64"
      ]
     },
     "execution_count": 11,
     "metadata": {},
     "output_type": "execute_result"
    }
   ],
   "source": [
    "# np.sum(tweet_df.isnull().any(axis=1))\n",
    "tweet_df.isnull().sum()"
   ]
  },
  {
   "cell_type": "markdown",
   "id": "46e3f66c",
   "metadata": {},
   "source": [
    "**Check unique target values**"
   ]
  },
  {
   "cell_type": "code",
   "execution_count": 12,
   "id": "26214ba9",
   "metadata": {},
   "outputs": [
    {
     "data": {
      "text/plain": [
       "array([1, 2], dtype=int64)"
      ]
     },
     "execution_count": 12,
     "metadata": {},
     "output_type": "execute_result"
    }
   ],
   "source": [
    "tweet_df['edInput'].unique()"
   ]
  },
  {
   "cell_type": "markdown",
   "id": "3e644fbc",
   "metadata": {},
   "source": [
    "**Check the number of target values**"
   ]
  },
  {
   "cell_type": "code",
   "execution_count": 13,
   "id": "26d183f0",
   "metadata": {},
   "outputs": [
    {
     "data": {
      "text/plain": [
       "2"
      ]
     },
     "execution_count": 13,
     "metadata": {},
     "output_type": "execute_result"
    }
   ],
   "source": [
    "tweet_df['edInput'].nunique()"
   ]
  },
  {
   "cell_type": "code",
   "execution_count": 14,
   "id": "ffa0a3fb",
   "metadata": {},
   "outputs": [],
   "source": [
    "tweet_df['edInput'] = tweet_df['edInput'].replace(2,0)"
   ]
  },
  {
   "cell_type": "markdown",
   "id": "9cafed73",
   "metadata": {},
   "source": [
    "**Data Visualization of Target Variables**"
   ]
  },
  {
   "cell_type": "code",
   "execution_count": 15,
   "id": "9b14d02c",
   "metadata": {},
   "outputs": [
    {
     "data": {
      "text/plain": [
       "1    0.746903\n",
       "0    0.253097\n",
       "Name: edInput, dtype: float64"
      ]
     },
     "execution_count": 15,
     "metadata": {},
     "output_type": "execute_result"
    }
   ],
   "source": [
    "tweet_df['edInput'].value_counts(normalize=True)"
   ]
  },
  {
   "cell_type": "code",
   "execution_count": 16,
   "id": "d05ff015",
   "metadata": {},
   "outputs": [
    {
     "data": {
      "image/png": "[encoded data removed]",
      "text/plain": [
       "<Figure size 640x480 with 1 Axes>"
      ]
     },
     "metadata": {},
     "output_type": "display_data"
    }
   ],
   "source": [
    "tweet_df['edInput'].value_counts(normalize=True).plot(kind='bar')\n",
    "plt.show()"
   ]
  },
  {
   "cell_type": "markdown",
   "id": "67674dd9",
   "metadata": {},
   "source": [
    "**Data Preprocessing**"
   ]
  },
  {
   "cell_type": "markdown",
   "id": "7ac4836f",
   "metadata": {},
   "source": [
    "In the above-given problem statement, before training the model, we performed various pre-processing steps on the dataset that mainly dealt with removing stopwords, removing special characters like emojis, hashtags, etc. The text document is then converted into lowercase for better generalization.\n",
    "Subsequently, the punctuations were cleaned and removed, thereby reducing the unnecessary noise from the dataset. After that, we also removed the repeating characters from the words along with removing the URLs as they do not have any significant importance.\n",
    "At last, we then performed Stemming(reducing the words to their derived stems) and Lemmatization(reducing the derived words to their root form, known as lemma) for better results."
   ]
  },
  {
   "cell_type": "markdown",
   "id": "8fa4017d",
   "metadata": {},
   "source": [
    "**Making statement text in lowercase**"
   ]
  },
  {
   "cell_type": "code",
   "execution_count": 17,
   "id": "690530e9",
   "metadata": {},
   "outputs": [
    {
     "data": {
      "text/plain": [
       "60071    this paper boeing 777 puts all other paper air...\n",
       "60462    this long-range wireless charging system charg...\n",
       "61260    elon musk has created and sold multiple compan...\n",
       "61996    honda's $4.9 million private jet is an absolut...\n",
       "64482    the us marines pieced together this temporary ...\n",
       "Name: text, dtype: object"
      ]
     },
     "execution_count": 17,
     "metadata": {},
     "output_type": "execute_result"
    }
   ],
   "source": [
    "tweet_df['text']=tweet_df['text'].str.lower()\n",
    "tweet_df['text'].head()"
   ]
  },
  {
   "cell_type": "markdown",
   "id": "2fed4cae",
   "metadata": {},
   "source": [
    "**Cleaning and removing punctuations**"
   ]
  },
  {
   "cell_type": "code",
   "execution_count": 18,
   "id": "ea5ae9e7",
   "metadata": {},
   "outputs": [
    {
     "data": {
      "text/plain": [
       "60071    this paper boeing 777 puts all other paper air...\n",
       "60462    this longrange wireless charging system charge...\n",
       "61260    elon musk has created and sold multiple compan...\n",
       "61996    hondas 49 million private jet is an absolute g...\n",
       "64482    the us marines pieced together this temporary ...\n",
       "Name: text, dtype: object"
      ]
     },
     "execution_count": 18,
     "metadata": {},
     "output_type": "execute_result"
    }
   ],
   "source": [
    "import string\n",
    "string.punctuation\n",
    "def remove_punctuation(text):\n",
    "    no_punct=[words for words in text if words not in string.punctuation]\n",
    "    words_wo_punct=''.join(no_punct)\n",
    "    return words_wo_punct\n",
    "tweet_df['text']=tweet_df['text'].apply(lambda x: remove_punctuation(x))\n",
    "tweet_df['text'].head()"
   ]
  },
  {
   "cell_type": "markdown",
   "id": "12817f3f",
   "metadata": {},
   "source": [
    "**Cleaning and removing URLs**"
   ]
  },
  {
   "cell_type": "code",
   "execution_count": 19,
   "id": "98ed7292",
   "metadata": {},
   "outputs": [],
   "source": [
    "tweet_df['text'] = tweet_df['text'].replace(r'http\\S+', '', regex=True).replace(r'www\\S+', '', regex=True)"
   ]
  },
  {
   "cell_type": "markdown",
   "id": "8ed86a71",
   "metadata": {},
   "source": [
    "**Cleaning and removing numeric numbers**"
   ]
  },
  {
   "cell_type": "code",
   "execution_count": 20,
   "id": "840bcc96",
   "metadata": {},
   "outputs": [
    {
     "data": {
      "text/plain": [
       "60071    this paper boeing  puts all other paper airpla...\n",
       "60462    this longrange wireless charging system charge...\n",
       "61260    elon musk has created and sold multiple compan...\n",
       "61996    hondas  million private jet is an absolute gam...\n",
       "64482    the us marines pieced together this temporary ...\n",
       "Name: text, dtype: object"
      ]
     },
     "execution_count": 20,
     "metadata": {},
     "output_type": "execute_result"
    }
   ],
   "source": [
    "def cleaning_numbers(data):\n",
    "    return re.sub('[0-9]+', '', data)\n",
    "tweet_df['text']  = tweet_df['text'] .apply(lambda x: cleaning_numbers(x))\n",
    "tweet_df['text'].head()"
   ]
  },
  {
   "cell_type": "markdown",
   "id": "8d456efc",
   "metadata": {},
   "source": [
    "**Count the number of words present in a tweet**"
   ]
  },
  {
   "cell_type": "code",
   "execution_count": 21,
   "id": "bd845549",
   "metadata": {},
   "outputs": [
    {
     "data": {
      "text/html": [
       "<div>\n",
       "<style scoped>\n",
       "    .dataframe tbody tr th:only-of-type {\n",
       "        vertical-align: middle;\n",
       "    }\n",
       "\n",
       "    .dataframe tbody tr th {\n",
       "        vertical-align: top;\n",
       "    }\n",
       "\n",
       "    .dataframe thead th {\n",
       "        text-align: right;\n",
       "    }\n",
       "</style>\n",
       "<table border=\"1\" class=\"dataframe\">\n",
       "  <thead>\n",
       "    <tr style=\"text-align: right;\">\n",
       "      <th></th>\n",
       "      <th>text</th>\n",
       "      <th>edInput</th>\n",
       "      <th>word count</th>\n",
       "    </tr>\n",
       "  </thead>\n",
       "  <tbody>\n",
       "    <tr>\n",
       "      <th>60071</th>\n",
       "      <td>this paper boeing  puts all other paper airpla...</td>\n",
       "      <td>1</td>\n",
       "      <td>10</td>\n",
       "    </tr>\n",
       "    <tr>\n",
       "      <th>60462</th>\n",
       "      <td>this longrange wireless charging system charge...</td>\n",
       "      <td>1</td>\n",
       "      <td>14</td>\n",
       "    </tr>\n",
       "    <tr>\n",
       "      <th>61260</th>\n",
       "      <td>elon musk has created and sold multiple compan...</td>\n",
       "      <td>1</td>\n",
       "      <td>8</td>\n",
       "    </tr>\n",
       "    <tr>\n",
       "      <th>61996</th>\n",
       "      <td>hondas  million private jet is an absolute gam...</td>\n",
       "      <td>1</td>\n",
       "      <td>8</td>\n",
       "    </tr>\n",
       "    <tr>\n",
       "      <th>64482</th>\n",
       "      <td>the us marines pieced together this temporary ...</td>\n",
       "      <td>1</td>\n",
       "      <td>10</td>\n",
       "    </tr>\n",
       "  </tbody>\n",
       "</table>\n",
       "</div>"
      ],
      "text/plain": [
       "                                                    text  edInput  word count\n",
       "60071  this paper boeing  puts all other paper airpla...        1          10\n",
       "60462  this longrange wireless charging system charge...        1          14\n",
       "61260  elon musk has created and sold multiple compan...        1           8\n",
       "61996  hondas  million private jet is an absolute gam...        1           8\n",
       "64482  the us marines pieced together this temporary ...        1          10"
      ]
     },
     "execution_count": 21,
     "metadata": {},
     "output_type": "execute_result"
    }
   ],
   "source": [
    "def word_count(sentence):\n",
    "    return len(sentence.split())\n",
    "    \n",
    "tweet_df['word count'] = tweet_df['text'].apply(word_count)\n",
    "tweet_df.head()"
   ]
  },
  {
   "cell_type": "markdown",
   "id": "fcf3326a",
   "metadata": {},
   "source": [
    "**Expand contractions in Text Processing**"
   ]
  },
  {
   "cell_type": "code",
   "execution_count": 22,
   "id": "09a2dbb6",
   "metadata": {},
   "outputs": [
    {
     "data": {
      "text/html": [
       "<div>\n",
       "<style scoped>\n",
       "    .dataframe tbody tr th:only-of-type {\n",
       "        vertical-align: middle;\n",
       "    }\n",
       "\n",
       "    .dataframe tbody tr th {\n",
       "        vertical-align: top;\n",
       "    }\n",
       "\n",
       "    .dataframe thead th {\n",
       "        text-align: right;\n",
       "    }\n",
       "</style>\n",
       "<table border=\"1\" class=\"dataframe\">\n",
       "  <thead>\n",
       "    <tr style=\"text-align: right;\">\n",
       "      <th></th>\n",
       "      <th>text</th>\n",
       "      <th>edInput</th>\n",
       "      <th>word count</th>\n",
       "    </tr>\n",
       "  </thead>\n",
       "  <tbody>\n",
       "    <tr>\n",
       "      <th>60071</th>\n",
       "      <td>this paper boeing  puts all other paper airpla...</td>\n",
       "      <td>1</td>\n",
       "      <td>10</td>\n",
       "    </tr>\n",
       "    <tr>\n",
       "      <th>60462</th>\n",
       "      <td>this longrange wireless charging system charge...</td>\n",
       "      <td>1</td>\n",
       "      <td>14</td>\n",
       "    </tr>\n",
       "    <tr>\n",
       "      <th>61260</th>\n",
       "      <td>elon musk has created and sold multiple compan...</td>\n",
       "      <td>1</td>\n",
       "      <td>8</td>\n",
       "    </tr>\n",
       "    <tr>\n",
       "      <th>61996</th>\n",
       "      <td>hondas  million private jet is an absolute gam...</td>\n",
       "      <td>1</td>\n",
       "      <td>8</td>\n",
       "    </tr>\n",
       "    <tr>\n",
       "      <th>64482</th>\n",
       "      <td>the us marines pieced together this temporary ...</td>\n",
       "      <td>1</td>\n",
       "      <td>10</td>\n",
       "    </tr>\n",
       "  </tbody>\n",
       "</table>\n",
       "</div>"
      ],
      "text/plain": [
       "                                                    text  edInput  word count\n",
       "60071  this paper boeing  puts all other paper airpla...        1          10\n",
       "60462  this longrange wireless charging system charge...        1          14\n",
       "61260  elon musk has created and sold multiple compan...        1           8\n",
       "61996  hondas  million private jet is an absolute gam...        1           8\n",
       "64482  the us marines pieced together this temporary ...        1          10"
      ]
     },
     "execution_count": 22,
     "metadata": {},
     "output_type": "execute_result"
    }
   ],
   "source": [
    "import contractions\n",
    "def expanded_text(sentence):\n",
    "    return contractions.fix(sentence)\n",
    "    \n",
    "tweet_df['text'] = tweet_df['text'].apply(expanded_text)\n",
    "tweet_df.head()"
   ]
  },
  {
   "cell_type": "code",
   "execution_count": 23,
   "id": "f59f1945",
   "metadata": {},
   "outputs": [
    {
     "data": {
      "text/html": [
       "<div>\n",
       "<style scoped>\n",
       "    .dataframe tbody tr th:only-of-type {\n",
       "        vertical-align: middle;\n",
       "    }\n",
       "\n",
       "    .dataframe tbody tr th {\n",
       "        vertical-align: top;\n",
       "    }\n",
       "\n",
       "    .dataframe thead th {\n",
       "        text-align: right;\n",
       "    }\n",
       "</style>\n",
       "<table border=\"1\" class=\"dataframe\">\n",
       "  <thead>\n",
       "    <tr style=\"text-align: right;\">\n",
       "      <th></th>\n",
       "      <th>text</th>\n",
       "      <th>edInput</th>\n",
       "      <th>word count</th>\n",
       "    </tr>\n",
       "  </thead>\n",
       "  <tbody>\n",
       "    <tr>\n",
       "      <th>60071</th>\n",
       "      <td>this paper boeing puts all other paper airplan...</td>\n",
       "      <td>1</td>\n",
       "      <td>10</td>\n",
       "    </tr>\n",
       "    <tr>\n",
       "      <th>60462</th>\n",
       "      <td>this longrange wireless charging system charge...</td>\n",
       "      <td>1</td>\n",
       "      <td>14</td>\n",
       "    </tr>\n",
       "    <tr>\n",
       "      <th>61260</th>\n",
       "      <td>elon musk has created and sold multiple companies</td>\n",
       "      <td>1</td>\n",
       "      <td>8</td>\n",
       "    </tr>\n",
       "    <tr>\n",
       "      <th>61996</th>\n",
       "      <td>hondas million private jet is an absolute game...</td>\n",
       "      <td>1</td>\n",
       "      <td>8</td>\n",
       "    </tr>\n",
       "    <tr>\n",
       "      <th>64482</th>\n",
       "      <td>the us marines pieced together this temporary ...</td>\n",
       "      <td>1</td>\n",
       "      <td>10</td>\n",
       "    </tr>\n",
       "  </tbody>\n",
       "</table>\n",
       "</div>"
      ],
      "text/plain": [
       "                                                    text  edInput  word count\n",
       "60071  this paper boeing puts all other paper airplan...        1          10\n",
       "60462  this longrange wireless charging system charge...        1          14\n",
       "61260  elon musk has created and sold multiple companies        1           8\n",
       "61996  hondas million private jet is an absolute game...        1           8\n",
       "64482  the us marines pieced together this temporary ...        1          10"
      ]
     },
     "execution_count": 23,
     "metadata": {},
     "output_type": "execute_result"
    }
   ],
   "source": [
    "from cleantext import clean\n",
    "def clean_text(sentence):\n",
    "    return clean(sentence, no_emoji=True)\n",
    "    \n",
    "tweet_df['text'] = tweet_df['text'].apply(clean_text)\n",
    "tweet_df.head()"
   ]
  },
  {
   "cell_type": "markdown",
   "id": "1062f83d",
   "metadata": {},
   "source": [
    "**Getting tokenization of tweet text**"
   ]
  },
  {
   "cell_type": "code",
   "execution_count": 24,
   "id": "8973763f",
   "metadata": {},
   "outputs": [],
   "source": [
    "import nltk"
   ]
  },
  {
   "cell_type": "code",
   "execution_count": 25,
   "id": "db3209ae",
   "metadata": {},
   "outputs": [
    {
     "name": "stderr",
     "output_type": "stream",
     "text": [
      "[nltk_data] Error loading punkt: <urlopen error [WinError 10054] An\n",
      "[nltk_data]     existing connection was forcibly closed by the remote\n",
      "[nltk_data]     host>\n"
     ]
    },
    {
     "data": {
      "text/plain": [
       "False"
      ]
     },
     "execution_count": 25,
     "metadata": {},
     "output_type": "execute_result"
    }
   ],
   "source": [
    "nltk.download('punkt')"
   ]
  },
  {
   "cell_type": "code",
   "execution_count": 26,
   "id": "3db7c69a",
   "metadata": {},
   "outputs": [
    {
     "data": {
      "text/html": [
       "<div>\n",
       "<style scoped>\n",
       "    .dataframe tbody tr th:only-of-type {\n",
       "        vertical-align: middle;\n",
       "    }\n",
       "\n",
       "    .dataframe tbody tr th {\n",
       "        vertical-align: top;\n",
       "    }\n",
       "\n",
       "    .dataframe thead th {\n",
       "        text-align: right;\n",
       "    }\n",
       "</style>\n",
       "<table border=\"1\" class=\"dataframe\">\n",
       "  <thead>\n",
       "    <tr style=\"text-align: right;\">\n",
       "      <th></th>\n",
       "      <th>text</th>\n",
       "      <th>edInput</th>\n",
       "      <th>word count</th>\n",
       "      <th>text_tokenize</th>\n",
       "    </tr>\n",
       "  </thead>\n",
       "  <tbody>\n",
       "    <tr>\n",
       "      <th>60071</th>\n",
       "      <td>this paper boeing puts all other paper airplan...</td>\n",
       "      <td>1</td>\n",
       "      <td>10</td>\n",
       "      <td>[this, paper, boeing, puts, all, other, paper,...</td>\n",
       "    </tr>\n",
       "    <tr>\n",
       "      <th>60462</th>\n",
       "      <td>this longrange wireless charging system charge...</td>\n",
       "      <td>1</td>\n",
       "      <td>14</td>\n",
       "      <td>[this, longrange, wireless, charging, system, ...</td>\n",
       "    </tr>\n",
       "    <tr>\n",
       "      <th>61260</th>\n",
       "      <td>elon musk has created and sold multiple companies</td>\n",
       "      <td>1</td>\n",
       "      <td>8</td>\n",
       "      <td>[elon, musk, has, created, and, sold, multiple...</td>\n",
       "    </tr>\n",
       "    <tr>\n",
       "      <th>61996</th>\n",
       "      <td>hondas million private jet is an absolute game...</td>\n",
       "      <td>1</td>\n",
       "      <td>8</td>\n",
       "      <td>[hondas, million, private, jet, is, an, absolu...</td>\n",
       "    </tr>\n",
       "    <tr>\n",
       "      <th>64482</th>\n",
       "      <td>the us marines pieced together this temporary ...</td>\n",
       "      <td>1</td>\n",
       "      <td>10</td>\n",
       "      <td>[the, us, marines, pieced, together, this, tem...</td>\n",
       "    </tr>\n",
       "  </tbody>\n",
       "</table>\n",
       "</div>"
      ],
      "text/plain": [
       "                                                    text  edInput  word count  \\\n",
       "60071  this paper boeing puts all other paper airplan...        1          10   \n",
       "60462  this longrange wireless charging system charge...        1          14   \n",
       "61260  elon musk has created and sold multiple companies        1           8   \n",
       "61996  hondas million private jet is an absolute game...        1           8   \n",
       "64482  the us marines pieced together this temporary ...        1          10   \n",
       "\n",
       "                                           text_tokenize  \n",
       "60071  [this, paper, boeing, puts, all, other, paper,...  \n",
       "60462  [this, longrange, wireless, charging, system, ...  \n",
       "61260  [elon, musk, has, created, and, sold, multiple...  \n",
       "61996  [hondas, million, private, jet, is, an, absolu...  \n",
       "64482  [the, us, marines, pieced, together, this, tem...  "
      ]
     },
     "execution_count": 26,
     "metadata": {},
     "output_type": "execute_result"
    }
   ],
   "source": [
    "from nltk.tokenize import RegexpTokenizer \n",
    "tweet_df['text_tokenize']=tweet_df['text'].apply(lambda x: RegexpTokenizer(r'\\w+').tokenize(x))\n",
    "# tweet_df['text_tokenize']=tweet_df['text'].apply(lambda x: RegexpTokenizer(r'\\w+').tokenize(x))\n",
    "tweet_df.head()"
   ]
  },
  {
   "cell_type": "markdown",
   "id": "17f7207c",
   "metadata": {},
   "source": [
    "**Applying stemming**"
   ]
  },
  {
   "cell_type": "code",
   "execution_count": 27,
   "id": "f10f830b",
   "metadata": {},
   "outputs": [
    {
     "data": {
      "text/html": [
       "<div>\n",
       "<style scoped>\n",
       "    .dataframe tbody tr th:only-of-type {\n",
       "        vertical-align: middle;\n",
       "    }\n",
       "\n",
       "    .dataframe tbody tr th {\n",
       "        vertical-align: top;\n",
       "    }\n",
       "\n",
       "    .dataframe thead th {\n",
       "        text-align: right;\n",
       "    }\n",
       "</style>\n",
       "<table border=\"1\" class=\"dataframe\">\n",
       "  <thead>\n",
       "    <tr style=\"text-align: right;\">\n",
       "      <th></th>\n",
       "      <th>text</th>\n",
       "      <th>edInput</th>\n",
       "      <th>word count</th>\n",
       "      <th>text_tokenize</th>\n",
       "      <th>text_stemmed</th>\n",
       "    </tr>\n",
       "  </thead>\n",
       "  <tbody>\n",
       "    <tr>\n",
       "      <th>60071</th>\n",
       "      <td>this paper boeing puts all other paper airplan...</td>\n",
       "      <td>1</td>\n",
       "      <td>10</td>\n",
       "      <td>[this, paper, boeing, puts, all, other, paper,...</td>\n",
       "      <td>[this, paper, boe, put, all, other, paper, air...</td>\n",
       "    </tr>\n",
       "    <tr>\n",
       "      <th>60462</th>\n",
       "      <td>this longrange wireless charging system charge...</td>\n",
       "      <td>1</td>\n",
       "      <td>14</td>\n",
       "      <td>[this, longrange, wireless, charging, system, ...</td>\n",
       "      <td>[this, longrang, wireless, charg, system, char...</td>\n",
       "    </tr>\n",
       "    <tr>\n",
       "      <th>61260</th>\n",
       "      <td>elon musk has created and sold multiple companies</td>\n",
       "      <td>1</td>\n",
       "      <td>8</td>\n",
       "      <td>[elon, musk, has, created, and, sold, multiple...</td>\n",
       "      <td>[elon, musk, has, creat, and, sold, multipl, c...</td>\n",
       "    </tr>\n",
       "    <tr>\n",
       "      <th>61996</th>\n",
       "      <td>hondas million private jet is an absolute game...</td>\n",
       "      <td>1</td>\n",
       "      <td>8</td>\n",
       "      <td>[hondas, million, private, jet, is, an, absolu...</td>\n",
       "      <td>[honda, million, privat, jet, is, an, absolut,...</td>\n",
       "    </tr>\n",
       "    <tr>\n",
       "      <th>64482</th>\n",
       "      <td>the us marines pieced together this temporary ...</td>\n",
       "      <td>1</td>\n",
       "      <td>10</td>\n",
       "      <td>[the, us, marines, pieced, together, this, tem...</td>\n",
       "      <td>[the, us, marin, piec, togeth, this, temporari...</td>\n",
       "    </tr>\n",
       "  </tbody>\n",
       "</table>\n",
       "</div>"
      ],
      "text/plain": [
       "                                                    text  edInput  word count  \\\n",
       "60071  this paper boeing puts all other paper airplan...        1          10   \n",
       "60462  this longrange wireless charging system charge...        1          14   \n",
       "61260  elon musk has created and sold multiple companies        1           8   \n",
       "61996  hondas million private jet is an absolute game...        1           8   \n",
       "64482  the us marines pieced together this temporary ...        1          10   \n",
       "\n",
       "                                           text_tokenize  \\\n",
       "60071  [this, paper, boeing, puts, all, other, paper,...   \n",
       "60462  [this, longrange, wireless, charging, system, ...   \n",
       "61260  [elon, musk, has, created, and, sold, multiple...   \n",
       "61996  [hondas, million, private, jet, is, an, absolu...   \n",
       "64482  [the, us, marines, pieced, together, this, tem...   \n",
       "\n",
       "                                            text_stemmed  \n",
       "60071  [this, paper, boe, put, all, other, paper, air...  \n",
       "60462  [this, longrang, wireless, charg, system, char...  \n",
       "61260  [elon, musk, has, creat, and, sold, multipl, c...  \n",
       "61996  [honda, million, privat, jet, is, an, absolut,...  \n",
       "64482  [the, us, marin, piec, togeth, this, temporari...  "
      ]
     },
     "execution_count": 27,
     "metadata": {},
     "output_type": "execute_result"
    }
   ],
   "source": [
    "from nltk.stem.snowball import SnowballStemmer\n",
    "stemmer = SnowballStemmer(\"english\")\n",
    "tweet_df['text_stemmed'] = tweet_df['text_tokenize'].apply(lambda x: [stemmer.stem(y) for y in x])\n",
    "# tweet_df['text_stemmed'] = tweet_df['text_tokenize'].apply(lambda x: [stemmer.stem(y) for y in x])\n",
    "tweet_df.head()"
   ]
  },
  {
   "cell_type": "code",
   "execution_count": 28,
   "id": "e7db9a91",
   "metadata": {},
   "outputs": [
    {
     "name": "stderr",
     "output_type": "stream",
     "text": [
      "[nltk_data] Error loading omw-1.4: <urlopen error [WinError 10054] An\n",
      "[nltk_data]     existing connection was forcibly closed by the remote\n",
      "[nltk_data]     host>\n"
     ]
    },
    {
     "data": {
      "text/plain": [
       "False"
      ]
     },
     "execution_count": 28,
     "metadata": {},
     "output_type": "execute_result"
    }
   ],
   "source": [
    "import nltk\n",
    "nltk.download('omw-1.4')"
   ]
  },
  {
   "cell_type": "markdown",
   "id": "66d7900e",
   "metadata": {},
   "source": [
    "**Applying lemmatizer**"
   ]
  },
  {
   "cell_type": "code",
   "execution_count": 29,
   "id": "ff028d24",
   "metadata": {},
   "outputs": [
    {
     "data": {
      "text/html": [
       "<div>\n",
       "<style scoped>\n",
       "    .dataframe tbody tr th:only-of-type {\n",
       "        vertical-align: middle;\n",
       "    }\n",
       "\n",
       "    .dataframe tbody tr th {\n",
       "        vertical-align: top;\n",
       "    }\n",
       "\n",
       "    .dataframe thead th {\n",
       "        text-align: right;\n",
       "    }\n",
       "</style>\n",
       "<table border=\"1\" class=\"dataframe\">\n",
       "  <thead>\n",
       "    <tr style=\"text-align: right;\">\n",
       "      <th></th>\n",
       "      <th>text</th>\n",
       "      <th>edInput</th>\n",
       "      <th>word count</th>\n",
       "      <th>text_tokenize</th>\n",
       "      <th>text_stemmed</th>\n",
       "      <th>text_lemmatized</th>\n",
       "    </tr>\n",
       "  </thead>\n",
       "  <tbody>\n",
       "    <tr>\n",
       "      <th>60071</th>\n",
       "      <td>this paper boeing puts all other paper airplan...</td>\n",
       "      <td>1</td>\n",
       "      <td>10</td>\n",
       "      <td>[this, paper, boeing, puts, all, other, paper,...</td>\n",
       "      <td>[this, paper, boe, put, all, other, paper, air...</td>\n",
       "      <td>this paper boeing put all other paper airplane...</td>\n",
       "    </tr>\n",
       "    <tr>\n",
       "      <th>60462</th>\n",
       "      <td>this longrange wireless charging system charge...</td>\n",
       "      <td>1</td>\n",
       "      <td>14</td>\n",
       "      <td>[this, longrange, wireless, charging, system, ...</td>\n",
       "      <td>[this, longrang, wireless, charg, system, char...</td>\n",
       "      <td>this longrange wireless charging system charge...</td>\n",
       "    </tr>\n",
       "    <tr>\n",
       "      <th>61260</th>\n",
       "      <td>elon musk has created and sold multiple companies</td>\n",
       "      <td>1</td>\n",
       "      <td>8</td>\n",
       "      <td>[elon, musk, has, created, and, sold, multiple...</td>\n",
       "      <td>[elon, musk, has, creat, and, sold, multipl, c...</td>\n",
       "      <td>elon musk ha created and sold multiple company</td>\n",
       "    </tr>\n",
       "    <tr>\n",
       "      <th>61996</th>\n",
       "      <td>hondas million private jet is an absolute game...</td>\n",
       "      <td>1</td>\n",
       "      <td>8</td>\n",
       "      <td>[hondas, million, private, jet, is, an, absolu...</td>\n",
       "      <td>[honda, million, privat, jet, is, an, absolut,...</td>\n",
       "      <td>hondas million private jet is an absolute game...</td>\n",
       "    </tr>\n",
       "    <tr>\n",
       "      <th>64482</th>\n",
       "      <td>the us marines pieced together this temporary ...</td>\n",
       "      <td>1</td>\n",
       "      <td>10</td>\n",
       "      <td>[the, us, marines, pieced, together, this, tem...</td>\n",
       "      <td>[the, us, marin, piec, togeth, this, temporari...</td>\n",
       "      <td>the u marine pieced together this temporary br...</td>\n",
       "    </tr>\n",
       "  </tbody>\n",
       "</table>\n",
       "</div>"
      ],
      "text/plain": [
       "                                                    text  edInput  word count  \\\n",
       "60071  this paper boeing puts all other paper airplan...        1          10   \n",
       "60462  this longrange wireless charging system charge...        1          14   \n",
       "61260  elon musk has created and sold multiple companies        1           8   \n",
       "61996  hondas million private jet is an absolute game...        1           8   \n",
       "64482  the us marines pieced together this temporary ...        1          10   \n",
       "\n",
       "                                           text_tokenize  \\\n",
       "60071  [this, paper, boeing, puts, all, other, paper,...   \n",
       "60462  [this, longrange, wireless, charging, system, ...   \n",
       "61260  [elon, musk, has, created, and, sold, multiple...   \n",
       "61996  [hondas, million, private, jet, is, an, absolu...   \n",
       "64482  [the, us, marines, pieced, together, this, tem...   \n",
       "\n",
       "                                            text_stemmed  \\\n",
       "60071  [this, paper, boe, put, all, other, paper, air...   \n",
       "60462  [this, longrang, wireless, charg, system, char...   \n",
       "61260  [elon, musk, has, creat, and, sold, multipl, c...   \n",
       "61996  [honda, million, privat, jet, is, an, absolut,...   \n",
       "64482  [the, us, marin, piec, togeth, this, temporari...   \n",
       "\n",
       "                                         text_lemmatized  \n",
       "60071  this paper boeing put all other paper airplane...  \n",
       "60462  this longrange wireless charging system charge...  \n",
       "61260     elon musk ha created and sold multiple company  \n",
       "61996  hondas million private jet is an absolute game...  \n",
       "64482  the u marine pieced together this temporary br...  "
      ]
     },
     "execution_count": 29,
     "metadata": {},
     "output_type": "execute_result"
    }
   ],
   "source": [
    "import nltk\n",
    "lemmatizer = nltk.stem.WordNetLemmatizer()\n",
    "\n",
    "def lemmatize_text(text):\n",
    "    return [lemmatizer.lemmatize(w) for w in text]\n",
    "\n",
    "tweet_df['text_lemmatized'] = tweet_df['text_tokenize'].apply(lemmatize_text)\n",
    "tweet_df['text_lemmatized'] = tweet_df['text_lemmatized'].apply(' '.join)\n",
    "tweet_df.head()"
   ]
  },
  {
   "cell_type": "markdown",
   "id": "2c25fb99",
   "metadata": {},
   "source": [
    "**Separating input feature and label**"
   ]
  },
  {
   "cell_type": "code",
   "execution_count": 30,
   "id": "435b9c12",
   "metadata": {},
   "outputs": [],
   "source": [
    "y = tweet_df['edInput']\n",
    "X = tweet_df['text_lemmatized']"
   ]
  },
  {
   "cell_type": "markdown",
   "id": "dcb517f1",
   "metadata": {},
   "source": [
    "**Splitting Our Data Into Train and Test Subsets**"
   ]
  },
  {
   "cell_type": "code",
   "execution_count": 31,
   "id": "b289504b",
   "metadata": {},
   "outputs": [],
   "source": [
    "from sklearn.model_selection import train_test_split"
   ]
  },
  {
   "cell_type": "code",
   "execution_count": 32,
   "id": "ee4f95e9",
   "metadata": {},
   "outputs": [],
   "source": [
    "X_train, X_test, y_train, y_test = train_test_split(X, y, test_size=0.2, stratify=y, random_state=101)"
   ]
  },
  {
   "cell_type": "markdown",
   "id": "e35d5a59",
   "metadata": {},
   "source": [
    "**Model 1**"
   ]
  },
  {
   "cell_type": "code",
   "execution_count": 33,
   "id": "4e6fda93",
   "metadata": {},
   "outputs": [],
   "source": [
    "from sklearn.feature_extraction.text import TfidfVectorizer\n",
    "from sklearn.linear_model import LogisticRegression\n",
    "from sklearn.model_selection import GridSearchCV\n",
    "from sklearn.pipeline import make_pipeline\n",
    "pipe = make_pipeline(TfidfVectorizer(),LogisticRegression(max_iter=1000,class_weight='balanced'))\n",
    "param_grid = {'logisticregression__C': [0.001, 0.01, 0.1, 1, 10]}\n",
    "grid_lr = GridSearchCV(pipe, param_grid, cv=5)\n",
    "grid_lr.fit(X_train, y_train)\n",
    "grid_lr_preds=grid_lr.predict(X_test)\n",
    "# print(\"Best cross-validation score:{:.2f}\".format(grid_lr.best_score_))\n",
    "# print(\"Best parameters:{}\".format(grid_lr.best_params_))\n",
    "# print(\"Model score:{:.2f}\".format(grid_lr.score(X_test,y_test)))"
   ]
  },
  {
   "cell_type": "code",
   "execution_count": 34,
   "id": "75639b5e",
   "metadata": {},
   "outputs": [],
   "source": [
    "lr_prob=grid_lr.predict_proba(X_test)"
   ]
  },
  {
   "cell_type": "code",
   "execution_count": 35,
   "id": "b87741ca",
   "metadata": {},
   "outputs": [],
   "source": [
    "from sklearn.metrics import confusion_matrix,classification_report,plot_confusion_matrix"
   ]
  },
  {
   "cell_type": "code",
   "execution_count": 36,
   "id": "5e59cac9",
   "metadata": {},
   "outputs": [
    {
     "data": {
      "text/plain": [
       "array([[ 698,  295],\n",
       "       [ 463, 2468]], dtype=int64)"
      ]
     },
     "execution_count": 36,
     "metadata": {},
     "output_type": "execute_result"
    }
   ],
   "source": [
    "confusion_matrix(y_test,grid_lr_preds)"
   ]
  },
  {
   "cell_type": "code",
   "execution_count": 37,
   "id": "88169731",
   "metadata": {},
   "outputs": [
    {
     "name": "stdout",
     "output_type": "stream",
     "text": [
      "              precision    recall  f1-score   support\n",
      "\n",
      "           0       0.60      0.70      0.65       993\n",
      "           1       0.89      0.84      0.87      2931\n",
      "\n",
      "    accuracy                           0.81      3924\n",
      "   macro avg       0.75      0.77      0.76      3924\n",
      "weighted avg       0.82      0.81      0.81      3924\n",
      "\n"
     ]
    }
   ],
   "source": [
    "print(classification_report(y_test,grid_lr_preds))"
   ]
  },
  {
   "cell_type": "code",
   "execution_count": 38,
   "id": "6aaa52b8",
   "metadata": {},
   "outputs": [
    {
     "name": "stderr",
     "output_type": "stream",
     "text": [
      "C:\\Users\\Priyambada\\anaconda3\\lib\\site-packages\\sklearn\\utils\\deprecation.py:87: FutureWarning: Function plot_confusion_matrix is deprecated; Function `plot_confusion_matrix` is deprecated in 1.0 and will be removed in 1.2. Use one of the class methods: ConfusionMatrixDisplay.from_predictions or ConfusionMatrixDisplay.from_estimator.\n",
      "  warnings.warn(msg, category=FutureWarning)\n"
     ]
    },
    {
     "data": {
      "image/png": "[encoded data removed]",
      "text/plain": [
       "<Figure size 640x480 with 2 Axes>"
      ]
     },
     "metadata": {},
     "output_type": "display_data"
    }
   ],
   "source": [
    "plot_confusion_matrix(grid_lr,X_test,y_test);"
   ]
  },
  {
   "cell_type": "code",
   "execution_count": 39,
   "id": "4b02dd82",
   "metadata": {},
   "outputs": [],
   "source": [
    "from sklearn import metrics\n",
    "def TP_rate_visualization(y_test, lr_prob):\n",
    "  precision, recall, thresholds = metrics.precision_recall_curve(y_test, lr_prob[:,1])\n",
    "  FPR, TPR, thresholds = metrics.roc_curve(y_test, lr_prob[:,1])\n",
    "  AUC = metrics.auc(FPR, TPR)\n",
    "  AP = metrics.auc(recall, precision)\n",
    "    \n",
    "  \n",
    "\n",
    "  plt.figure(figsize=(10,5))\n",
    "\n",
    "  plt.subplot(1,2,1)\n",
    "  plt.plot(FPR, TPR)\n",
    "  plt.title('roc Curve')\n",
    "  plt.title(f'AUC = {AUC: .3f}')\n",
    "  plt.ylabel('True positive rate') # TP/(TP+FN)\n",
    "  plt.xlabel('False positive rate') # FP/(FP+TN)\n",
    "\n",
    "  plt.subplot(1,2,2)\n",
    "  plt.plot(recall, precision)\n",
    "  plt.title(f'AP = {AP: .3f}')\n",
    "  plt.ylabel('Precision')\n",
    "  plt.xlabel('Recall')\n",
    "\n",
    "  plt.show()"
   ]
  },
  {
   "cell_type": "code",
   "execution_count": 40,
   "id": "07405469",
   "metadata": {},
   "outputs": [
    {
     "data": {
      "image/png": "[encoded data removed]",
      "text/plain": [
       "<Figure size 1000x500 with 2 Axes>"
      ]
     },
     "metadata": {},
     "output_type": "display_data"
    }
   ],
   "source": [
    "TP_rate_visualization(y_test, lr_prob)"
   ]
  },
  {
   "cell_type": "code",
   "execution_count": 41,
   "id": "54c43c25",
   "metadata": {},
   "outputs": [
    {
     "data": {
      "text/html": [
       "<div>\n",
       "<style scoped>\n",
       "    .dataframe tbody tr th:only-of-type {\n",
       "        vertical-align: middle;\n",
       "    }\n",
       "\n",
       "    .dataframe tbody tr th {\n",
       "        vertical-align: top;\n",
       "    }\n",
       "\n",
       "    .dataframe thead th {\n",
       "        text-align: right;\n",
       "    }\n",
       "</style>\n",
       "<table border=\"1\" class=\"dataframe\">\n",
       "  <thead>\n",
       "    <tr style=\"text-align: right;\">\n",
       "      <th></th>\n",
       "      <th>FPR</th>\n",
       "      <th>TPR</th>\n",
       "      <th>thresholds</th>\n",
       "    </tr>\n",
       "  </thead>\n",
       "  <tbody>\n",
       "    <tr>\n",
       "      <th>0</th>\n",
       "      <td>0.0</td>\n",
       "      <td>0.000000</td>\n",
       "      <td>1.999992</td>\n",
       "    </tr>\n",
       "    <tr>\n",
       "      <th>1</th>\n",
       "      <td>0.0</td>\n",
       "      <td>0.000341</td>\n",
       "      <td>0.999992</td>\n",
       "    </tr>\n",
       "    <tr>\n",
       "      <th>2</th>\n",
       "      <td>0.0</td>\n",
       "      <td>0.002047</td>\n",
       "      <td>0.999779</td>\n",
       "    </tr>\n",
       "    <tr>\n",
       "      <th>3</th>\n",
       "      <td>0.0</td>\n",
       "      <td>0.002729</td>\n",
       "      <td>0.999751</td>\n",
       "    </tr>\n",
       "    <tr>\n",
       "      <th>4</th>\n",
       "      <td>0.0</td>\n",
       "      <td>0.006482</td>\n",
       "      <td>0.999386</td>\n",
       "    </tr>\n",
       "  </tbody>\n",
       "</table>\n",
       "</div>"
      ],
      "text/plain": [
       "   FPR       TPR  thresholds\n",
       "0  0.0  0.000000    1.999992\n",
       "1  0.0  0.000341    0.999992\n",
       "2  0.0  0.002047    0.999779\n",
       "3  0.0  0.002729    0.999751\n",
       "4  0.0  0.006482    0.999386"
      ]
     },
     "execution_count": 41,
     "metadata": {},
     "output_type": "execute_result"
    }
   ],
   "source": [
    "FPR, TPR, thresholds = metrics.roc_curve(y_test, lr_prob[:,1])\n",
    "frame={'FPR':FPR,'TPR':TPR,'thresholds':thresholds}\n",
    "df=pd.DataFrame(frame)\n",
    "df.head()"
   ]
  },
  {
   "cell_type": "code",
   "execution_count": 42,
   "id": "156bb156",
   "metadata": {},
   "outputs": [],
   "source": [
    "lr_predict_class = [1 if prob > 0.8 else 0 for prob in lr_prob[:,1]]"
   ]
  },
  {
   "cell_type": "code",
   "execution_count": 43,
   "id": "4e617415",
   "metadata": {},
   "outputs": [
    {
     "data": {
      "text/plain": [
       "array([[ 870,  123],\n",
       "       [1000, 1931]], dtype=int64)"
      ]
     },
     "execution_count": 43,
     "metadata": {},
     "output_type": "execute_result"
    }
   ],
   "source": [
    "confusion_matrix(y_test,lr_predict_class)"
   ]
  },
  {
   "cell_type": "code",
   "execution_count": 44,
   "id": "3dca3ae3",
   "metadata": {},
   "outputs": [
    {
     "name": "stdout",
     "output_type": "stream",
     "text": [
      "              precision    recall  f1-score   support\n",
      "\n",
      "           0       0.47      0.88      0.61       993\n",
      "           1       0.94      0.66      0.77      2931\n",
      "\n",
      "    accuracy                           0.71      3924\n",
      "   macro avg       0.70      0.77      0.69      3924\n",
      "weighted avg       0.82      0.71      0.73      3924\n",
      "\n"
     ]
    }
   ],
   "source": [
    "print(classification_report(y_test,lr_predict_class))"
   ]
  },
  {
   "cell_type": "code",
   "execution_count": 45,
   "id": "fc92893b",
   "metadata": {},
   "outputs": [
    {
     "data": {
      "text/plain": [
       "0.0"
      ]
     },
     "execution_count": 45,
     "metadata": {},
     "output_type": "execute_result"
    }
   ],
   "source": [
    "precision, recall, thresholds = metrics.precision_recall_curve(y_test, lr_prob[:,1])\n",
    "precision=precision.tolist()\n",
    "precision.pop()\n",
    "recall=recall.tolist()\n",
    "recall.pop()"
   ]
  },
  {
   "cell_type": "code",
   "execution_count": 46,
   "id": "4395ab62",
   "metadata": {},
   "outputs": [
    {
     "data": {
      "text/html": [
       "<div>\n",
       "<style scoped>\n",
       "    .dataframe tbody tr th:only-of-type {\n",
       "        vertical-align: middle;\n",
       "    }\n",
       "\n",
       "    .dataframe tbody tr th {\n",
       "        vertical-align: top;\n",
       "    }\n",
       "\n",
       "    .dataframe thead th {\n",
       "        text-align: right;\n",
       "    }\n",
       "</style>\n",
       "<table border=\"1\" class=\"dataframe\">\n",
       "  <thead>\n",
       "    <tr style=\"text-align: right;\">\n",
       "      <th></th>\n",
       "      <th>Precision</th>\n",
       "      <th>Recall</th>\n",
       "      <th>Thresholds</th>\n",
       "    </tr>\n",
       "  </thead>\n",
       "  <tbody>\n",
       "    <tr>\n",
       "      <th>0</th>\n",
       "      <td>0.747704</td>\n",
       "      <td>1.000000</td>\n",
       "      <td>0.002871</td>\n",
       "    </tr>\n",
       "    <tr>\n",
       "      <th>1</th>\n",
       "      <td>0.747640</td>\n",
       "      <td>0.999659</td>\n",
       "      <td>0.003338</td>\n",
       "    </tr>\n",
       "    <tr>\n",
       "      <th>2</th>\n",
       "      <td>0.747831</td>\n",
       "      <td>0.999659</td>\n",
       "      <td>0.005924</td>\n",
       "    </tr>\n",
       "    <tr>\n",
       "      <th>3</th>\n",
       "      <td>0.748021</td>\n",
       "      <td>0.999659</td>\n",
       "      <td>0.006055</td>\n",
       "    </tr>\n",
       "    <tr>\n",
       "      <th>4</th>\n",
       "      <td>0.748212</td>\n",
       "      <td>0.999659</td>\n",
       "      <td>0.006283</td>\n",
       "    </tr>\n",
       "    <tr>\n",
       "      <th>...</th>\n",
       "      <td>...</td>\n",
       "      <td>...</td>\n",
       "      <td>...</td>\n",
       "    </tr>\n",
       "    <tr>\n",
       "      <th>3479</th>\n",
       "      <td>1.000000</td>\n",
       "      <td>0.001706</td>\n",
       "      <td>0.999828</td>\n",
       "    </tr>\n",
       "    <tr>\n",
       "      <th>3480</th>\n",
       "      <td>1.000000</td>\n",
       "      <td>0.001365</td>\n",
       "      <td>0.999848</td>\n",
       "    </tr>\n",
       "    <tr>\n",
       "      <th>3481</th>\n",
       "      <td>1.000000</td>\n",
       "      <td>0.001024</td>\n",
       "      <td>0.999941</td>\n",
       "    </tr>\n",
       "    <tr>\n",
       "      <th>3482</th>\n",
       "      <td>1.000000</td>\n",
       "      <td>0.000682</td>\n",
       "      <td>0.999975</td>\n",
       "    </tr>\n",
       "    <tr>\n",
       "      <th>3483</th>\n",
       "      <td>1.000000</td>\n",
       "      <td>0.000341</td>\n",
       "      <td>0.999992</td>\n",
       "    </tr>\n",
       "  </tbody>\n",
       "</table>\n",
       "<p>3484 rows × 3 columns</p>\n",
       "</div>"
      ],
      "text/plain": [
       "      Precision    Recall  Thresholds\n",
       "0      0.747704  1.000000    0.002871\n",
       "1      0.747640  0.999659    0.003338\n",
       "2      0.747831  0.999659    0.005924\n",
       "3      0.748021  0.999659    0.006055\n",
       "4      0.748212  0.999659    0.006283\n",
       "...         ...       ...         ...\n",
       "3479   1.000000  0.001706    0.999828\n",
       "3480   1.000000  0.001365    0.999848\n",
       "3481   1.000000  0.001024    0.999941\n",
       "3482   1.000000  0.000682    0.999975\n",
       "3483   1.000000  0.000341    0.999992\n",
       "\n",
       "[3484 rows x 3 columns]"
      ]
     },
     "execution_count": 46,
     "metadata": {},
     "output_type": "execute_result"
    }
   ],
   "source": [
    "frame={'Precision':precision,'Recall':recall,'Thresholds':thresholds}\n",
    "df=pd.DataFrame(frame)\n",
    "df"
   ]
  },
  {
   "cell_type": "code",
   "execution_count": 47,
   "id": "c59f84a0",
   "metadata": {},
   "outputs": [],
   "source": [
    "df['f1_score']= (2*(df['Precision'] * df['Recall']))/(df['Precision']+ df['Recall'])"
   ]
  },
  {
   "cell_type": "code",
   "execution_count": 48,
   "id": "7ab0609f",
   "metadata": {},
   "outputs": [
    {
     "data": {
      "text/html": [
       "<div>\n",
       "<style scoped>\n",
       "    .dataframe tbody tr th:only-of-type {\n",
       "        vertical-align: middle;\n",
       "    }\n",
       "\n",
       "    .dataframe tbody tr th {\n",
       "        vertical-align: top;\n",
       "    }\n",
       "\n",
       "    .dataframe thead th {\n",
       "        text-align: right;\n",
       "    }\n",
       "</style>\n",
       "<table border=\"1\" class=\"dataframe\">\n",
       "  <thead>\n",
       "    <tr style=\"text-align: right;\">\n",
       "      <th></th>\n",
       "      <th>Precision</th>\n",
       "      <th>Recall</th>\n",
       "      <th>Thresholds</th>\n",
       "      <th>f1_score</th>\n",
       "    </tr>\n",
       "  </thead>\n",
       "  <tbody>\n",
       "    <tr>\n",
       "      <th>3483</th>\n",
       "      <td>1.000000</td>\n",
       "      <td>0.000341</td>\n",
       "      <td>0.999992</td>\n",
       "      <td>0.000682</td>\n",
       "    </tr>\n",
       "    <tr>\n",
       "      <th>3482</th>\n",
       "      <td>1.000000</td>\n",
       "      <td>0.000682</td>\n",
       "      <td>0.999975</td>\n",
       "      <td>0.001364</td>\n",
       "    </tr>\n",
       "    <tr>\n",
       "      <th>3481</th>\n",
       "      <td>1.000000</td>\n",
       "      <td>0.001024</td>\n",
       "      <td>0.999941</td>\n",
       "      <td>0.002045</td>\n",
       "    </tr>\n",
       "    <tr>\n",
       "      <th>3480</th>\n",
       "      <td>1.000000</td>\n",
       "      <td>0.001365</td>\n",
       "      <td>0.999848</td>\n",
       "      <td>0.002726</td>\n",
       "    </tr>\n",
       "    <tr>\n",
       "      <th>3479</th>\n",
       "      <td>1.000000</td>\n",
       "      <td>0.001706</td>\n",
       "      <td>0.999828</td>\n",
       "      <td>0.003406</td>\n",
       "    </tr>\n",
       "    <tr>\n",
       "      <th>...</th>\n",
       "      <td>...</td>\n",
       "      <td>...</td>\n",
       "      <td>...</td>\n",
       "      <td>...</td>\n",
       "    </tr>\n",
       "    <tr>\n",
       "      <th>556</th>\n",
       "      <td>0.846914</td>\n",
       "      <td>0.936199</td>\n",
       "      <td>0.240385</td>\n",
       "      <td>0.889321</td>\n",
       "    </tr>\n",
       "    <tr>\n",
       "      <th>402</th>\n",
       "      <td>0.827171</td>\n",
       "      <td>0.961788</td>\n",
       "      <td>0.157339</td>\n",
       "      <td>0.889415</td>\n",
       "    </tr>\n",
       "    <tr>\n",
       "      <th>400</th>\n",
       "      <td>0.826979</td>\n",
       "      <td>0.962129</td>\n",
       "      <td>0.156593</td>\n",
       "      <td>0.889450</td>\n",
       "    </tr>\n",
       "    <tr>\n",
       "      <th>557</th>\n",
       "      <td>0.847175</td>\n",
       "      <td>0.936199</td>\n",
       "      <td>0.240563</td>\n",
       "      <td>0.889465</td>\n",
       "    </tr>\n",
       "    <tr>\n",
       "      <th>401</th>\n",
       "      <td>0.827222</td>\n",
       "      <td>0.962129</td>\n",
       "      <td>0.157194</td>\n",
       "      <td>0.889590</td>\n",
       "    </tr>\n",
       "  </tbody>\n",
       "</table>\n",
       "<p>3484 rows × 4 columns</p>\n",
       "</div>"
      ],
      "text/plain": [
       "      Precision    Recall  Thresholds  f1_score\n",
       "3483   1.000000  0.000341    0.999992  0.000682\n",
       "3482   1.000000  0.000682    0.999975  0.001364\n",
       "3481   1.000000  0.001024    0.999941  0.002045\n",
       "3480   1.000000  0.001365    0.999848  0.002726\n",
       "3479   1.000000  0.001706    0.999828  0.003406\n",
       "...         ...       ...         ...       ...\n",
       "556    0.846914  0.936199    0.240385  0.889321\n",
       "402    0.827171  0.961788    0.157339  0.889415\n",
       "400    0.826979  0.962129    0.156593  0.889450\n",
       "557    0.847175  0.936199    0.240563  0.889465\n",
       "401    0.827222  0.962129    0.157194  0.889590\n",
       "\n",
       "[3484 rows x 4 columns]"
      ]
     },
     "execution_count": 48,
     "metadata": {},
     "output_type": "execute_result"
    }
   ],
   "source": [
    "dff=df.sort_values(by='f1_score')\n",
    "dff"
   ]
  },
  {
   "cell_type": "code",
   "execution_count": 49,
   "id": "b4267281",
   "metadata": {},
   "outputs": [],
   "source": [
    "lr_predict_class = [1 if prob > 0.361165 else 0 for prob in lr_prob[:,1]]"
   ]
  },
  {
   "cell_type": "code",
   "execution_count": 50,
   "id": "284641b5",
   "metadata": {},
   "outputs": [
    {
     "data": {
      "text/plain": [
       "array([[ 612,  381],\n",
       "       [ 307, 2624]], dtype=int64)"
      ]
     },
     "execution_count": 50,
     "metadata": {},
     "output_type": "execute_result"
    }
   ],
   "source": [
    "confusion_matrix(y_test,lr_predict_class)"
   ]
  },
  {
   "cell_type": "code",
   "execution_count": 51,
   "id": "7febceb1",
   "metadata": {},
   "outputs": [
    {
     "name": "stdout",
     "output_type": "stream",
     "text": [
      "              precision    recall  f1-score   support\n",
      "\n",
      "           0       0.67      0.62      0.64       993\n",
      "           1       0.87      0.90      0.88      2931\n",
      "\n",
      "    accuracy                           0.82      3924\n",
      "   macro avg       0.77      0.76      0.76      3924\n",
      "weighted avg       0.82      0.82      0.82      3924\n",
      "\n"
     ]
    }
   ],
   "source": [
    "print(classification_report(y_test,lr_predict_class))"
   ]
  },
  {
   "cell_type": "code",
   "execution_count": 52,
   "id": "0c096ca7",
   "metadata": {},
   "outputs": [],
   "source": [
    "from sklearn import metrics\n",
    "precision, recall, thresholds =metrics.precision_recall_curve(y_test, lr_prob[:,1])\n",
    "f1_scores = 2 * recall * precision / (recall + precision)\n",
    "best_f1 = np.max(f1_scores)\n",
    "best_thresh = thresholds[np.argmax(f1_scores)]"
   ]
  },
  {
   "cell_type": "code",
   "execution_count": 53,
   "id": "3a2b7629",
   "metadata": {},
   "outputs": [
    {
     "data": {
      "text/plain": [
       "0.889589905362776"
      ]
     },
     "execution_count": 53,
     "metadata": {},
     "output_type": "execute_result"
    }
   ],
   "source": [
    "best_f1"
   ]
  },
  {
   "cell_type": "code",
   "execution_count": 54,
   "id": "919b72a4",
   "metadata": {},
   "outputs": [
    {
     "data": {
      "text/plain": [
       "0.15719426024940722"
      ]
     },
     "execution_count": 54,
     "metadata": {},
     "output_type": "execute_result"
    }
   ],
   "source": [
    "best_thresh"
   ]
  },
  {
   "cell_type": "code",
   "execution_count": 55,
   "id": "ecba1145",
   "metadata": {},
   "outputs": [],
   "source": [
    "from sklearn.utils import class_weight\n",
    "sample = class_weight.compute_sample_weight('balanced', y_train)\n",
    "\n",
    "vectorizer = TfidfVectorizer()\n",
    "vectorizer.fit(X_train)\n",
    "X_train_tf = vectorizer.transform(X_train)\n",
    "X_train_tf = X_train_tf.toarray()\n",
    "X_test_tf = vectorizer.transform(X_test)\n",
    "X_test_tf = X_test_tf.toarray()\n",
    "\n",
    "from sklearn.naive_bayes import MultinomialNB\n",
    "nb = MultinomialNB(alpha=0.1)\n",
    "nb.fit(X_train_tf,y_train, sample_weight=sample)\n",
    "predictions_NB = nb.predict(X_test_tf)"
   ]
  },
  {
   "cell_type": "code",
   "execution_count": 56,
   "id": "0b8adea5",
   "metadata": {},
   "outputs": [],
   "source": [
    "nb_prob=nb.predict_proba(X_test_tf)"
   ]
  },
  {
   "cell_type": "code",
   "execution_count": 57,
   "id": "960b8441",
   "metadata": {},
   "outputs": [
    {
     "name": "stderr",
     "output_type": "stream",
     "text": [
      "C:\\Users\\Priyambada\\anaconda3\\lib\\site-packages\\sklearn\\utils\\deprecation.py:87: FutureWarning: Function plot_confusion_matrix is deprecated; Function `plot_confusion_matrix` is deprecated in 1.0 and will be removed in 1.2. Use one of the class methods: ConfusionMatrixDisplay.from_predictions or ConfusionMatrixDisplay.from_estimator.\n",
      "  warnings.warn(msg, category=FutureWarning)\n"
     ]
    },
    {
     "data": {
      "image/png": "[encoded data removed]",
      "text/plain": [
       "<Figure size 640x480 with 2 Axes>"
      ]
     },
     "metadata": {},
     "output_type": "display_data"
    }
   ],
   "source": [
    "plot_confusion_matrix(nb,X_test_tf,y_test);"
   ]
  },
  {
   "cell_type": "code",
   "execution_count": 58,
   "id": "ba344fe9",
   "metadata": {},
   "outputs": [
    {
     "name": "stdout",
     "output_type": "stream",
     "text": [
      "              precision    recall  f1-score   support\n",
      "\n",
      "           0       0.55      0.77      0.64       993\n",
      "           1       0.91      0.79      0.84      2931\n",
      "\n",
      "    accuracy                           0.78      3924\n",
      "   macro avg       0.73      0.78      0.74      3924\n",
      "weighted avg       0.82      0.78      0.79      3924\n",
      "\n"
     ]
    }
   ],
   "source": [
    "print(classification_report(y_test,predictions_NB ))"
   ]
  },
  {
   "cell_type": "code",
   "execution_count": 59,
   "id": "e0009a61",
   "metadata": {},
   "outputs": [],
   "source": [
    "from sklearn import metrics\n",
    "def TP_rate_visualization(y_test, nb_prob):\n",
    "  precision, recall, thresholds = metrics.precision_recall_curve(y_test, nb_prob[:,1])\n",
    "  FPR, TPR, thresholds = metrics.roc_curve(y_test, nb_prob[:,1],)\n",
    "  AUC = metrics.auc(FPR, TPR)\n",
    "  AP = metrics.auc(recall, precision)\n",
    "\n",
    "    \n",
    "  plt.figure(figsize=(10,5))\n",
    "\n",
    "  plt.subplot(1,2,1)\n",
    "  plt.plot(FPR, TPR)\n",
    "  plt.title('roc Curve')\n",
    "  plt.title(f'AUC = {AUC: .3f}')\n",
    "  plt.ylabel('True positive rate') # TP/(TP+FN)\n",
    "  plt.xlabel('False positive rate') # FP/(FP+TN)\n",
    "\n",
    "  plt.subplot(1,2,2)\n",
    "  plt.plot(recall, precision)\n",
    "  plt.title(f'AP = {AP: .3f}')\n",
    "  plt.ylabel('Precision')\n",
    "  plt.xlabel('Recall')\n",
    "\n",
    "  plt.show()"
   ]
  },
  {
   "cell_type": "code",
   "execution_count": 60,
   "id": "af276abe",
   "metadata": {},
   "outputs": [
    {
     "data": {
      "image/png": "[encoded data removed]",
      "text/plain": [
       "<Figure size 1000x500 with 2 Axes>"
      ]
     },
     "metadata": {},
     "output_type": "display_data"
    }
   ],
   "source": [
    "TP_rate_visualization(y_test, nb_prob)"
   ]
  },
  {
   "cell_type": "code",
   "execution_count": 61,
   "id": "b857cffe",
   "metadata": {},
   "outputs": [],
   "source": [
    "# from sklearn import metrics\n",
    "# precision, recall, thresholds =metrics.precision_recall_curve(y_test, nb_prob[:,1])\n",
    "# f1_scores = 2 * recall * precision / (recall + precision)\n",
    "# best_f1 = np.max(f1_scores)\n",
    "# best_thresh = thresholds[np.argmax(f1_scores)]"
   ]
  },
  {
   "cell_type": "code",
   "execution_count": 62,
   "id": "c6791aaa",
   "metadata": {},
   "outputs": [
    {
     "data": {
      "text/plain": [
       "0.0"
      ]
     },
     "execution_count": 62,
     "metadata": {},
     "output_type": "execute_result"
    }
   ],
   "source": [
    "precision1, recall1, thresholds1 = metrics.precision_recall_curve(y_test, nb_prob[:,1])\n",
    "precision1=precision1.tolist()\n",
    "precision1.pop()\n",
    "recall1=recall1.tolist()\n",
    "recall1.pop()"
   ]
  },
  {
   "cell_type": "code",
   "execution_count": 63,
   "id": "5de3b82c",
   "metadata": {},
   "outputs": [
    {
     "data": {
      "text/html": [
       "<div>\n",
       "<style scoped>\n",
       "    .dataframe tbody tr th:only-of-type {\n",
       "        vertical-align: middle;\n",
       "    }\n",
       "\n",
       "    .dataframe tbody tr th {\n",
       "        vertical-align: top;\n",
       "    }\n",
       "\n",
       "    .dataframe thead th {\n",
       "        text-align: right;\n",
       "    }\n",
       "</style>\n",
       "<table border=\"1\" class=\"dataframe\">\n",
       "  <thead>\n",
       "    <tr style=\"text-align: right;\">\n",
       "      <th></th>\n",
       "      <th>Precision1</th>\n",
       "      <th>Recall1</th>\n",
       "      <th>Thresholds1</th>\n",
       "      <th>f1_score1</th>\n",
       "    </tr>\n",
       "  </thead>\n",
       "  <tbody>\n",
       "    <tr>\n",
       "      <th>3478</th>\n",
       "      <td>1.000000</td>\n",
       "      <td>0.000341</td>\n",
       "      <td>0.999826</td>\n",
       "      <td>0.000682</td>\n",
       "    </tr>\n",
       "    <tr>\n",
       "      <th>3477</th>\n",
       "      <td>1.000000</td>\n",
       "      <td>0.000682</td>\n",
       "      <td>0.999787</td>\n",
       "      <td>0.001364</td>\n",
       "    </tr>\n",
       "    <tr>\n",
       "      <th>3476</th>\n",
       "      <td>1.000000</td>\n",
       "      <td>0.001365</td>\n",
       "      <td>0.999738</td>\n",
       "      <td>0.002726</td>\n",
       "    </tr>\n",
       "    <tr>\n",
       "      <th>3475</th>\n",
       "      <td>1.000000</td>\n",
       "      <td>0.002047</td>\n",
       "      <td>0.999689</td>\n",
       "      <td>0.004086</td>\n",
       "    </tr>\n",
       "    <tr>\n",
       "      <th>3474</th>\n",
       "      <td>1.000000</td>\n",
       "      <td>0.002388</td>\n",
       "      <td>0.999686</td>\n",
       "      <td>0.004765</td>\n",
       "    </tr>\n",
       "    <tr>\n",
       "      <th>...</th>\n",
       "      <td>...</td>\n",
       "      <td>...</td>\n",
       "      <td>...</td>\n",
       "      <td>...</td>\n",
       "    </tr>\n",
       "    <tr>\n",
       "      <th>510</th>\n",
       "      <td>0.844073</td>\n",
       "      <td>0.947458</td>\n",
       "      <td>0.143017</td>\n",
       "      <td>0.892783</td>\n",
       "    </tr>\n",
       "    <tr>\n",
       "      <th>508</th>\n",
       "      <td>0.843864</td>\n",
       "      <td>0.947799</td>\n",
       "      <td>0.142602</td>\n",
       "      <td>0.892817</td>\n",
       "    </tr>\n",
       "    <tr>\n",
       "      <th>506</th>\n",
       "      <td>0.843655</td>\n",
       "      <td>0.948141</td>\n",
       "      <td>0.141588</td>\n",
       "      <td>0.892851</td>\n",
       "    </tr>\n",
       "    <tr>\n",
       "      <th>511</th>\n",
       "      <td>0.844330</td>\n",
       "      <td>0.947458</td>\n",
       "      <td>0.143663</td>\n",
       "      <td>0.892926</td>\n",
       "    </tr>\n",
       "    <tr>\n",
       "      <th>507</th>\n",
       "      <td>0.843911</td>\n",
       "      <td>0.948141</td>\n",
       "      <td>0.141754</td>\n",
       "      <td>0.892995</td>\n",
       "    </tr>\n",
       "  </tbody>\n",
       "</table>\n",
       "<p>3479 rows × 4 columns</p>\n",
       "</div>"
      ],
      "text/plain": [
       "      Precision1   Recall1  Thresholds1  f1_score1\n",
       "3478    1.000000  0.000341     0.999826   0.000682\n",
       "3477    1.000000  0.000682     0.999787   0.001364\n",
       "3476    1.000000  0.001365     0.999738   0.002726\n",
       "3475    1.000000  0.002047     0.999689   0.004086\n",
       "3474    1.000000  0.002388     0.999686   0.004765\n",
       "...          ...       ...          ...        ...\n",
       "510     0.844073  0.947458     0.143017   0.892783\n",
       "508     0.843864  0.947799     0.142602   0.892817\n",
       "506     0.843655  0.948141     0.141588   0.892851\n",
       "511     0.844330  0.947458     0.143663   0.892926\n",
       "507     0.843911  0.948141     0.141754   0.892995\n",
       "\n",
       "[3479 rows x 4 columns]"
      ]
     },
     "execution_count": 63,
     "metadata": {},
     "output_type": "execute_result"
    }
   ],
   "source": [
    "Fr={'Precision1':precision1,'Recall1':recall1,'Thresholds1':thresholds1}\n",
    "df1=pd.DataFrame(Fr)\n",
    "df1['f1_score1']= (2*(df1['Precision1'] * df1['Recall1']))/(df1['Precision1']+ df1['Recall1'])\n",
    "dff1=df1.sort_values(by='f1_score1')\n",
    "dff1"
   ]
  },
  {
   "cell_type": "code",
   "execution_count": 64,
   "id": "cc743e77",
   "metadata": {},
   "outputs": [],
   "source": [
    "nb_predict_class = [1 if prob > 0.348229 else 0 for prob in nb_prob[:,1]]"
   ]
  },
  {
   "cell_type": "code",
   "execution_count": 65,
   "id": "6f0d31fb",
   "metadata": {},
   "outputs": [
    {
     "data": {
      "text/plain": [
       "array([[ 685,  308],\n",
       "       [ 431, 2500]], dtype=int64)"
      ]
     },
     "execution_count": 65,
     "metadata": {},
     "output_type": "execute_result"
    }
   ],
   "source": [
    "confusion_matrix(y_test,nb_predict_class)"
   ]
  },
  {
   "cell_type": "code",
   "execution_count": 66,
   "id": "bd1ae49c",
   "metadata": {},
   "outputs": [
    {
     "name": "stdout",
     "output_type": "stream",
     "text": [
      "              precision    recall  f1-score   support\n",
      "\n",
      "           0       0.61      0.69      0.65       993\n",
      "           1       0.89      0.85      0.87      2931\n",
      "\n",
      "    accuracy                           0.81      3924\n",
      "   macro avg       0.75      0.77      0.76      3924\n",
      "weighted avg       0.82      0.81      0.82      3924\n",
      "\n"
     ]
    }
   ],
   "source": [
    "print(classification_report(y_test,nb_predict_class))"
   ]
  },
  {
   "cell_type": "code",
   "execution_count": 67,
   "id": "ab63839d",
   "metadata": {},
   "outputs": [],
   "source": [
    "pipe = make_pipeline(TfidfVectorizer(), LogisticRegression(max_iter=1000,class_weight='balanced'))\n",
    "# running the grid search takes a long time because of the\n",
    "# relatively large grid and the inclusion of trigrams\n",
    "param_grid = {\"logisticregression__C\": [0.001, 0.01, 0.1, 1, 10, 100],\n",
    "\"tfidfvectorizer__ngram_range\": [(1, 1), (1, 2), (1, 3)]}\n",
    "grid = GridSearchCV(pipe, param_grid, cv=5)\n",
    "grid.fit(X_train, y_train)\n",
    "grid_preds=grid.predict(X_test)\n",
    "# print(\"Best cross-validation score:{:.2f}\".format(grid.best_score_))\n",
    "# print(\"Best parameters:{}\".format(grid.best_params_))\n",
    "# print(\"Model score:{:.2f}\".format(grid.score(X_test,y_test)))"
   ]
  },
  {
   "cell_type": "code",
   "execution_count": 68,
   "id": "31de929f",
   "metadata": {},
   "outputs": [],
   "source": [
    "grid_prob=grid.predict_proba(X_test)"
   ]
  },
  {
   "cell_type": "code",
   "execution_count": 69,
   "id": "2b29e9c2",
   "metadata": {},
   "outputs": [
    {
     "name": "stderr",
     "output_type": "stream",
     "text": [
      "C:\\Users\\Priyambada\\anaconda3\\lib\\site-packages\\sklearn\\utils\\deprecation.py:87: FutureWarning: Function plot_confusion_matrix is deprecated; Function `plot_confusion_matrix` is deprecated in 1.0 and will be removed in 1.2. Use one of the class methods: ConfusionMatrixDisplay.from_predictions or ConfusionMatrixDisplay.from_estimator.\n",
      "  warnings.warn(msg, category=FutureWarning)\n"
     ]
    },
    {
     "data": {
      "image/png": "[encoded data removed]",
      "text/plain": [
       "<Figure size 640x480 with 2 Axes>"
      ]
     },
     "metadata": {},
     "output_type": "display_data"
    }
   ],
   "source": [
    "plot_confusion_matrix(grid,X_test,y_test);"
   ]
  },
  {
   "cell_type": "code",
   "execution_count": 70,
   "id": "d62b410c",
   "metadata": {},
   "outputs": [
    {
     "name": "stdout",
     "output_type": "stream",
     "text": [
      "              precision    recall  f1-score   support\n",
      "\n",
      "           0       0.64      0.69      0.67       993\n",
      "           1       0.89      0.87      0.88      2931\n",
      "\n",
      "    accuracy                           0.82      3924\n",
      "   macro avg       0.77      0.78      0.77      3924\n",
      "weighted avg       0.83      0.82      0.83      3924\n",
      "\n"
     ]
    }
   ],
   "source": [
    "print(classification_report(y_test,grid_preds))"
   ]
  },
  {
   "cell_type": "code",
   "execution_count": 71,
   "id": "a8ac1f2f",
   "metadata": {},
   "outputs": [],
   "source": [
    "from sklearn import metrics\n",
    "def TP_rate_visualization(y_test, grid_prob):\n",
    "  precision, recall, thresholds = metrics.precision_recall_curve(y_test, grid_prob[:,1])\n",
    "  FPR, TPR, thresholds = metrics.roc_curve(y_test, grid_prob[:,1],)\n",
    "  AUC = metrics.auc(FPR, TPR)\n",
    "  AP = metrics.auc(recall, precision)    \n",
    "  \n",
    "\n",
    "  plt.figure(figsize=(10,5))\n",
    "\n",
    "  plt.subplot(1,2,1)\n",
    "  plt.plot(FPR, TPR)\n",
    "  plt.title('roc Curve')\n",
    "  plt.title(f'AUC = {AUC: .3f}')\n",
    "  plt.ylabel('True positive rate') # TP/(TP+FN)\n",
    "  plt.xlabel('False positive rate') # FP/(FP+TN)\n",
    "\n",
    "  plt.subplot(1,2,2)\n",
    "  plt.plot(recall, precision)\n",
    "  plt.title(f'AP = {AP: .3f}')\n",
    "  plt.ylabel('Precision')\n",
    "  plt.xlabel('Recall')\n",
    "\n",
    "  plt.show()"
   ]
  },
  {
   "cell_type": "code",
   "execution_count": 72,
   "id": "e5e178ee",
   "metadata": {},
   "outputs": [
    {
     "data": {
      "image/png": "[encoded data removed]",
      "text/plain": [
       "<Figure size 1000x500 with 2 Axes>"
      ]
     },
     "metadata": {},
     "output_type": "display_data"
    }
   ],
   "source": [
    "TP_rate_visualization(y_test, grid_prob)"
   ]
  },
  {
   "cell_type": "code",
   "execution_count": null,
   "id": "9a5e5189",
   "metadata": {},
   "outputs": [],
   "source": []
  }
 ],
 "metadata": {
  "kernelspec": {
   "display_name": "Python 3 (ipykernel)",
   "language": "python",
   "name": "python3"
  },
  "language_info": {
   "codemirror_mode": {
    "name": "ipython",
    "version": 3
   },
   "file_extension": ".py",
   "mimetype": "text/x-python",
   "name": "python",
   "nbconvert_exporter": "python",
   "pygments_lexer": "ipython3",
   "version": "3.9.13"
  }
 },
 "nbformat": 4,
 "nbformat_minor": 5
}
